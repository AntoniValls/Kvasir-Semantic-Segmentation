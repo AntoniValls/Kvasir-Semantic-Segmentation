{
 "cells": [
  {
   "cell_type": "code",
   "execution_count": 70,
   "id": "f6ad9121-d295-4262-95d6-6bafb6a6ea24",
   "metadata": {},
   "outputs": [],
   "source": [
    "import numpy as np\n",
    "import pandas as pd\n",
    "import random\n",
    "import torch"
   ]
  },
  {
   "cell_type": "markdown",
   "id": "fd86e08a-1793-417a-adb0-a7d393d96de9",
   "metadata": {
    "id": "n6MrmYKPOPHQ"
   },
   "source": [
    "Lets dynamically choose type of device to use for our computations. To run on your own GPU one needs to install pytorch and cuda-toolkit."
   ]
  },
  {
   "cell_type": "code",
   "execution_count": 71,
   "id": "c5a98662-e156-4ebb-984a-f57102ced797",
   "metadata": {
    "colab": {
     "base_uri": "https://localhost:8080/"
    },
    "id": "3ooJw43yONE2",
    "outputId": "afe428b8-b6b9-404f-9a21-b8175e5aeb7f"
   },
   "outputs": [
    {
     "name": "stdout",
     "output_type": "stream",
     "text": [
      "True\n"
     ]
    }
   ],
   "source": [
    "print(torch.cuda.is_available())\n",
    "device = torch.device(\"cuda\") if torch.cuda.is_available() else torch.device(\"cpu\")"
   ]
  },
  {
   "cell_type": "code",
   "execution_count": 72,
   "id": "eb2f9bc2-d877-4384-a1c1-64557b083917",
   "metadata": {},
   "outputs": [
    {
     "data": {
      "text/plain": [
       "_CudaDeviceProperties(name='NVIDIA GeForce RTX 2080 Ti', major=7, minor=5, total_memory=10824MB, multi_processor_count=68)"
      ]
     },
     "execution_count": 72,
     "metadata": {},
     "output_type": "execute_result"
    }
   ],
   "source": [
    "torch.cuda.get_device_properties(device)"
   ]
  },
  {
   "cell_type": "markdown",
   "id": "d5a44df4-7501-4d28-9480-3717d3565b00",
   "metadata": {},
   "source": [
    "Define the seed for reproductivity:"
   ]
  },
  {
   "cell_type": "code",
   "execution_count": 73,
   "id": "b6355a90-bdb9-4082-b08b-2eff47aa47db",
   "metadata": {
    "id": "5iDI_mz8N1qn"
   },
   "outputs": [],
   "source": [
    "def set_seed(seed, use_gpu = True):\n",
    "    \"\"\"\n",
    "    Set SEED for PyTorch reproducibility\n",
    "    \"\"\"\n",
    "    random.seed(seed)\n",
    "    np.random.seed(seed)\n",
    "    torch.manual_seed(seed)\n",
    "    if use_gpu:\n",
    "        torch.cuda.manual_seed_all(seed)\n",
    "        torch.cuda.manual_seed(seed)\n",
    "        torch.backends.cudnn.deterministic = True\n",
    "        torch.backends.cudnn.benchmark = False\n",
    "\n",
    "SEED = 196\n",
    "USE_SEED = True\n",
    "if USE_SEED:\n",
    "    set_seed(SEED, torch.cuda.is_available())"
   ]
  },
  {
   "cell_type": "markdown",
   "id": "857f3e65-9609-4d0b-acd0-e0a8cd4370c5",
   "metadata": {},
   "source": [
    "**Load the images and masks**"
   ]
  },
  {
   "cell_type": "code",
   "execution_count": 76,
   "id": "7d1a0c63-4849-4005-b580-278ec239e866",
   "metadata": {},
   "outputs": [
    {
     "name": "stdin",
     "output_type": "stream",
     "text": [
      "Data augmentation? (y/n) y\n"
     ]
    }
   ],
   "source": [
    "augmented = input(\"Data augmentation? (y/n)\")\n",
    "\n",
    "if augmented == \"y\":\n",
    "    train_images = np.load(\"data/data/train_val_augmented/combined_images.npy\")\n",
    "    train_masks = np.load(\"data/data/train_val_augmented/combined_masks.npy\")\n",
    "\n",
    "elif augmented == \"n\":\n",
    "    train_images = np.load(\"data/data/train_val_nonaugmented/trainimages.npy\")\n",
    "    train_masks = np.load(\"data/data/train_val_nonaugmented/trainmasks.npy\")\n",
    "\n",
    "else:\n",
    "    raise ValueError(f\"Only 'y' or 'n' \")\n",
    "\n",
    "test_images = np.load(\"data/data/test/test_images.npy\")\n",
    "test_masks = np.load(\"data/data/test/test_masks.npy\")"
   ]
  },
  {
   "cell_type": "code",
   "execution_count": 77,
   "id": "013f98f7-1cab-4b72-bcbf-968862eafbba",
   "metadata": {},
   "outputs": [
    {
     "name": "stdout",
     "output_type": "stream",
     "text": [
      "Train images shape: (3000, 256, 256, 3)\n",
      "Test images shape: (400, 256, 256, 3)\n",
      "Train masks shape: (3000, 256, 256, 1)\n",
      "Test masks shape: (400, 256, 256, 1)\n"
     ]
    }
   ],
   "source": [
    "print(\"Train images shape:\", train_images.shape)\n",
    "print(\"Test images shape:\", test_images.shape)\n",
    "print(\"Train masks shape:\", train_masks.shape)\n",
    "print(\"Test masks shape:\", test_masks.shape)"
   ]
  },
  {
   "cell_type": "markdown",
   "id": "240df45e-47c8-43d8-98ab-a9ce2f5c6ece",
   "metadata": {},
   "source": [
    "**Standaritzation**"
   ]
  },
  {
   "cell_type": "code",
   "execution_count": 78,
   "id": "3086adf4-db6d-48d1-9f9d-59e998ebad47",
   "metadata": {},
   "outputs": [
    {
     "name": "stdout",
     "output_type": "stream",
     "text": [
      "-----  NORMALIZATION VALUES  -----\n",
      "Mean (RGB): [0.56005583 0.3258349  0.2418034 ]\n",
      "Standard Deviation (RGB): [0.31265261 0.23062609 0.19591767]\n"
     ]
    }
   ],
   "source": [
    "mean = np.mean(train_images, axis = (0,1,2)) / 255\n",
    "std = np.std(train_images, axis = (0,1,2)) / 255\n",
    "\n",
    "print(\"-----  NORMALIZATION VALUES  -----\")\n",
    "print(f\"Mean (RGB): {mean}\")\n",
    "print(f\"Standard Deviation (RGB): {std}\")"
   ]
  },
  {
   "cell_type": "code",
   "execution_count": 79,
   "id": "12a4490c-8028-43ba-a7e3-2c3d0c5ba29e",
   "metadata": {},
   "outputs": [],
   "source": [
    "import torchvision\n",
    "import torchvision.transforms as transforms\n",
    "\n",
    "transforms = torchvision.transforms.Compose([\n",
    "    torchvision.transforms.ToTensor(),  # Convert the image to a PyTorch tensor and normalize it between [0, 1]\n",
    "    torchvision.transforms.Normalize(mean, std)  # Normalize the tensor using the provided mean and standard deviation\n",
    "])"
   ]
  },
  {
   "cell_type": "markdown",
   "id": "b9c8e4bf-cd07-400a-98a5-bd859de4a613",
   "metadata": {},
   "source": [
    "**Validation set**"
   ]
  },
  {
   "cell_type": "code",
   "execution_count": 80,
   "id": "3be31073-1bd1-4ddd-8c25-97d7a83904db",
   "metadata": {
    "colab": {
     "base_uri": "https://localhost:8080/"
    },
    "id": "3bY2e4kp_9BR",
    "outputId": "350540c0-b2dc-4464-df8c-5579b72f3391"
   },
   "outputs": [
    {
     "name": "stdout",
     "output_type": "stream",
     "text": [
      "Training Images Shape: (2700, 256, 256, 3)\n",
      "Training Masks Shape: (2700, 256, 256, 1)\n",
      "Validation Images Shape: (300, 256, 256, 3)\n",
      "Validation Masks Shape: (300, 256, 256, 1)\n",
      "Number of Training Examples: 2700\n",
      "Number of Validation Examples: 300\n"
     ]
    }
   ],
   "source": [
    "from sklearn.model_selection import train_test_split\n",
    "\n",
    "#Validation set (10%)\n",
    "training_images, val_images, training_masks, val_masks = train_test_split(\n",
    "    train_images, train_masks, test_size=0.1, random_state=42)\n",
    "\n",
    "# Check shape of training images and masks\n",
    "print(\"Training Images Shape:\", training_images.shape)\n",
    "print(\"Training Masks Shape:\", training_masks.shape)\n",
    "\n",
    "# Check shape of validation images and masks\n",
    "print(\"Validation Images Shape:\", val_images.shape)\n",
    "print(\"Validation Masks Shape:\", val_masks.shape)\n",
    "\n",
    "# Check length of training and validation sets\n",
    "print(\"Number of Training Examples:\", len(training_images))\n",
    "print(\"Number of Validation Examples:\", len(val_images))"
   ]
  },
  {
   "cell_type": "code",
   "execution_count": 81,
   "id": "aee261a9-8a27-4a41-9ec7-dbdbfd44bda7",
   "metadata": {},
   "outputs": [],
   "source": [
    "from src.preprocess import KvasirDataset\n",
    "\n",
    "# Create KvasirDataset objects for train, validation and test sets\n",
    "train_dataset = KvasirDataset(images=train_images, masks=train_masks, transforms=transforms)\n",
    "val_dataset = KvasirDataset(images=val_images,masks=val_masks, transforms=transforms)\n",
    "test_dataset = KvasirDataset(images=test_images, masks=test_masks, transforms=transforms) \n"
   ]
  },
  {
   "cell_type": "markdown",
   "id": "12686a1a-38e0-438f-9ebb-a7f65621a91d",
   "metadata": {},
   "source": [
    "**Define the model**"
   ]
  },
  {
   "cell_type": "code",
   "execution_count": 82,
   "id": "a9b7ac48-738c-47c7-8de4-235b5d8b5c71",
   "metadata": {},
   "outputs": [],
   "source": [
    "config = {}\n",
    "config['name']='DiceLoss_try'\n",
    "config['epochs']=100\n",
    "config['batch_size']=16\n",
    "config['arch']='NestedUNet'\n",
    "config['deep_supervision']=True\n",
    "config['input_channels']=3\n",
    "config['num_classes']=1\n",
    "config['early_stopping']=5 # 5 epochs without improving the dice coefficient\n",
    "#config['input_w']=128\n",
    "#config['input_h']=128\n"
   ]
  },
  {
   "cell_type": "code",
   "execution_count": 83,
   "id": "8c60e0c8-abc1-448f-bf64-48ba5797c66c",
   "metadata": {},
   "outputs": [],
   "source": [
    "from torch.utils.data import DataLoader\n",
    "\n",
    "train_iterator = DataLoader(train_dataset, batch_size=config['batch_size'], shuffle=True)\n",
    "test_iterator = DataLoader(test_dataset, batch_size=config['batch_size'])\n",
    "val_iterator = DataLoader(val_dataset,batch_size=config['batch_size'])"
   ]
  },
  {
   "cell_type": "code",
   "execution_count": 84,
   "id": "f1d69ed0-90ca-41ed-a570-fd85590f4d7a",
   "metadata": {},
   "outputs": [
    {
     "name": "stdout",
     "output_type": "stream",
     "text": [
      "The model has 2,264,899 trainable parameters.\n"
     ]
    }
   ],
   "source": [
    "from src.main import NestedUNet\n",
    "from src.utils import count_parameters\n",
    "\n",
    "model = NestedUNet(config)\n",
    "print(f\"The model has {count_parameters(model):,} trainable parameters.\")"
   ]
  },
  {
   "cell_type": "code",
   "execution_count": 85,
   "id": "3f5002af-adc9-466d-8710-bb026e56c2ea",
   "metadata": {},
   "outputs": [],
   "source": [
    "model = model.to(device)"
   ]
  },
  {
   "cell_type": "code",
   "execution_count": 86,
   "id": "a8f28d1f-e1d9-43d9-a984-d8a924ad734d",
   "metadata": {},
   "outputs": [
    {
     "name": "stderr",
     "output_type": "stream",
     "text": [
      "/home/antoni_valls/CV/Kvasir-Semantic-Segmentation/.venv/lib/python3.10/site-packages/torch/optim/lr_scheduler.py:28: UserWarning: The verbose parameter is deprecated. Please use get_last_lr() to access the learning rate.\n",
      "  warnings.warn(\"The verbose parameter is deprecated. Please use get_last_lr() \"\n"
     ]
    }
   ],
   "source": [
    "from src.loss import DiceLoss, IoULoss, BCEDiceLoss\n",
    "import torch.optim as optim\n",
    "from torch.optim.lr_scheduler import ReduceLROnPlateau\n",
    "\n",
    "criterion = DiceLoss().to(device)\n",
    "optimizer = optim.Adam(model.parameters(), lr=1e-4) \n",
    "scheduler = ReduceLROnPlateau(optimizer, factor=0.1, patience=5, verbose=True)"
   ]
  },
  {
   "cell_type": "code",
   "execution_count": 87,
   "id": "a209d906-894a-475f-86c5-3770c872d67a",
   "metadata": {},
   "outputs": [
    {
     "name": "stdout",
     "output_type": "stream",
     "text": [
      "Epoch [0/100]\n"
     ]
    },
    {
     "name": "stderr",
     "output_type": "stream",
     "text": [
      "100%|█████████████████████████| 188/188 [01:00<00:00,  3.10it/s, loss=0.679, iou=0.202, dice_coef=0.335, accuracy=0.549]\n",
      "100%|████████████████████████████| 19/19 [00:01<00:00,  9.76it/s, loss=0.643, iou=0.234, dice_coef=0.377, accuracy=0.61]\n"
     ]
    },
    {
     "name": "stdout",
     "output_type": "stream",
     "text": [
      "loss 0.6789 - iou 0.2023 - dice 0.3347 - accuracy 0.5488 - val_loss 0.6433 - val_iou 0.2338 - val_dice 0.3774 - val_accuracy 0.6099\n",
      "=> saved best model\n",
      "Epoch [1/100]\n"
     ]
    },
    {
     "name": "stderr",
     "output_type": "stream",
     "text": [
      "100%|█████████████████████████| 188/188 [01:01<00:00,  3.08it/s, loss=0.638, iou=0.236, dice_coef=0.381, accuracy=0.616]\n",
      "100%|████████████████████████████| 19/19 [00:01<00:00,  9.73it/s, loss=0.612, iou=0.26, dice_coef=0.411, accuracy=0.658]\n"
     ]
    },
    {
     "name": "stdout",
     "output_type": "stream",
     "text": [
      "loss 0.6385 - iou 0.2362 - dice 0.3806 - accuracy 0.6162 - val_loss 0.6119 - val_iou 0.2600 - val_dice 0.4109 - val_accuracy 0.6577\n",
      "=> saved best model\n",
      "Epoch [2/100]\n"
     ]
    },
    {
     "name": "stderr",
     "output_type": "stream",
     "text": [
      "100%|█████████████████████████| 188/188 [01:02<00:00,  3.01it/s, loss=0.608, iou=0.263, dice_coef=0.415, accuracy=0.662]\n",
      "100%|███████████████████████████| 19/19 [00:01<00:00,  9.54it/s, loss=0.586, iou=0.279, dice_coef=0.435, accuracy=0.702]\n"
     ]
    },
    {
     "name": "stdout",
     "output_type": "stream",
     "text": [
      "loss 0.6083 - iou 0.2633 - dice 0.4150 - accuracy 0.6623 - val_loss 0.5857 - val_iou 0.2793 - val_dice 0.4348 - val_accuracy 0.7018\n",
      "=> saved best model\n",
      "Epoch [3/100]\n"
     ]
    },
    {
     "name": "stderr",
     "output_type": "stream",
     "text": [
      "100%|█████████████████████████| 188/188 [01:05<00:00,  2.88it/s, loss=0.578, iou=0.293, dice_coef=0.451, accuracy=0.707]\n",
      "100%|████████████████████████████| 19/19 [00:02<00:00,  9.32it/s, loss=0.551, iou=0.318, dice_coef=0.48, accuracy=0.688]\n"
     ]
    },
    {
     "name": "stdout",
     "output_type": "stream",
     "text": [
      "loss 0.5779 - iou 0.2929 - dice 0.4513 - accuracy 0.7070 - val_loss 0.5507 - val_iou 0.3180 - val_dice 0.4799 - val_accuracy 0.6878\n",
      "=> saved best model\n",
      "Epoch [4/100]\n"
     ]
    },
    {
     "name": "stderr",
     "output_type": "stream",
     "text": [
      "100%|██████████████████████████| 188/188 [01:07<00:00,  2.80it/s, loss=0.55, iou=0.324, dice_coef=0.487, accuracy=0.745]\n",
      "100%|████████████████████████████| 19/19 [00:02<00:00,  9.32it/s, loss=0.517, iou=0.363, dice_coef=0.53, accuracy=0.781]\n"
     ]
    },
    {
     "name": "stdout",
     "output_type": "stream",
     "text": [
      "loss 0.5500 - iou 0.3236 - dice 0.4867 - accuracy 0.7455 - val_loss 0.5169 - val_iou 0.3630 - val_dice 0.5303 - val_accuracy 0.7807\n",
      "=> saved best model\n",
      "Epoch [5/100]\n"
     ]
    },
    {
     "name": "stderr",
     "output_type": "stream",
     "text": [
      "100%|██████████████████████████| 188/188 [01:08<00:00,  2.76it/s, loss=0.52, iou=0.359, dice_coef=0.526, accuracy=0.785]\n",
      "100%|███████████████████████████| 19/19 [00:02<00:00,  9.04it/s, loss=0.494, iou=0.396, dice_coef=0.564, accuracy=0.816]\n"
     ]
    },
    {
     "name": "stdout",
     "output_type": "stream",
     "text": [
      "loss 0.5202 - iou 0.3594 - dice 0.5265 - accuracy 0.7850 - val_loss 0.4939 - val_iou 0.3956 - val_dice 0.5644 - val_accuracy 0.8164\n",
      "=> saved best model\n",
      "Epoch [6/100]\n"
     ]
    },
    {
     "name": "stderr",
     "output_type": "stream",
     "text": [
      "100%|██████████████████████████| 188/188 [01:09<00:00,  2.71it/s, loss=0.491, iou=0.397, dice_coef=0.566, accuracy=0.82]\n",
      "100%|███████████████████████████| 19/19 [00:02<00:00,  8.82it/s, loss=0.481, iou=0.403, dice_coef=0.572, accuracy=0.845]\n"
     ]
    },
    {
     "name": "stdout",
     "output_type": "stream",
     "text": [
      "loss 0.4914 - iou 0.3970 - dice 0.5661 - accuracy 0.8204 - val_loss 0.4805 - val_iou 0.4033 - val_dice 0.5721 - val_accuracy 0.8446\n",
      "=> saved best model\n",
      "Epoch [7/100]\n"
     ]
    },
    {
     "name": "stderr",
     "output_type": "stream",
     "text": [
      "100%|███████████████████████████| 188/188 [01:10<00:00,  2.67it/s, loss=0.467, iou=0.432, dice_coef=0.6, accuracy=0.854]\n",
      "100%|████████████████████████████| 19/19 [00:02<00:00,  8.86it/s, loss=0.43, iou=0.498, dice_coef=0.663, accuracy=0.901]\n"
     ]
    },
    {
     "name": "stdout",
     "output_type": "stream",
     "text": [
      "loss 0.4674 - iou 0.4317 - dice 0.6004 - accuracy 0.8536 - val_loss 0.4304 - val_iou 0.4977 - val_dice 0.6625 - val_accuracy 0.9014\n",
      "=> saved best model\n",
      "Epoch [8/100]\n"
     ]
    },
    {
     "name": "stderr",
     "output_type": "stream",
     "text": [
      "100%|██████████████████████████| 188/188 [01:10<00:00,  2.67it/s, loss=0.441, iou=0.473, dice_coef=0.64, accuracy=0.887]\n",
      "100%|████████████████████████████| 19/19 [00:02<00:00,  8.85it/s, loss=0.42, iou=0.502, dice_coef=0.665, accuracy=0.877]\n"
     ]
    },
    {
     "name": "stdout",
     "output_type": "stream",
     "text": [
      "loss 0.4406 - iou 0.4727 - dice 0.6395 - accuracy 0.8867 - val_loss 0.4196 - val_iou 0.5017 - val_dice 0.6651 - val_accuracy 0.8770\n",
      "=> saved best model\n",
      "Epoch [9/100]\n"
     ]
    },
    {
     "name": "stderr",
     "output_type": "stream",
     "text": [
      "100%|█████████████████████████| 188/188 [01:11<00:00,  2.63it/s, loss=0.419, iou=0.509, dice_coef=0.673, accuracy=0.896]\n",
      "100%|████████████████████████████| 19/19 [00:02<00:00,  8.77it/s, loss=0.389, iou=0.552, dice_coef=0.71, accuracy=0.906]\n"
     ]
    },
    {
     "name": "stdout",
     "output_type": "stream",
     "text": [
      "loss 0.4188 - iou 0.5095 - dice 0.6727 - accuracy 0.8958 - val_loss 0.3890 - val_iou 0.5524 - val_dice 0.7097 - val_accuracy 0.9060\n",
      "=> saved best model\n",
      "Epoch [10/100]\n"
     ]
    },
    {
     "name": "stderr",
     "output_type": "stream",
     "text": [
      "100%|█████████████████████████| 188/188 [01:11<00:00,  2.63it/s, loss=0.398, iou=0.545, dice_coef=0.703, accuracy=0.904]\n",
      "100%|████████████████████████████| 19/19 [00:02<00:00,  8.56it/s, loss=0.379, iou=0.58, dice_coef=0.732, accuracy=0.913]\n"
     ]
    },
    {
     "name": "stdout",
     "output_type": "stream",
     "text": [
      "loss 0.3982 - iou 0.5452 - dice 0.7032 - accuracy 0.9041 - val_loss 0.3786 - val_iou 0.5800 - val_dice 0.7319 - val_accuracy 0.9133\n",
      "=> saved best model\n",
      "Epoch [11/100]\n"
     ]
    },
    {
     "name": "stderr",
     "output_type": "stream",
     "text": [
      "100%|██████████████████████████| 188/188 [01:11<00:00,  2.61it/s, loss=0.379, iou=0.577, dice_coef=0.73, accuracy=0.911]\n",
      "100%|███████████████████████████| 19/19 [00:02<00:00,  8.65it/s, loss=0.367, iou=0.587, dice_coef=0.737, accuracy=0.901]\n"
     ]
    },
    {
     "name": "stdout",
     "output_type": "stream",
     "text": [
      "loss 0.3794 - iou 0.5773 - dice 0.7300 - accuracy 0.9111 - val_loss 0.3669 - val_iou 0.5867 - val_dice 0.7371 - val_accuracy 0.9014\n",
      "=> saved best model\n",
      "Epoch [12/100]\n"
     ]
    },
    {
     "name": "stderr",
     "output_type": "stream",
     "text": [
      "100%|█████████████████████████| 188/188 [01:12<00:00,  2.61it/s, loss=0.362, iou=0.609, dice_coef=0.754, accuracy=0.917]\n",
      "100%|████████████████████████████| 19/19 [00:02<00:00,  8.51it/s, loss=0.36, iou=0.606, dice_coef=0.752, accuracy=0.919]\n"
     ]
    },
    {
     "name": "stdout",
     "output_type": "stream",
     "text": [
      "loss 0.3619 - iou 0.6085 - dice 0.7543 - accuracy 0.9170 - val_loss 0.3602 - val_iou 0.6058 - val_dice 0.7518 - val_accuracy 0.9193\n",
      "=> saved best model\n",
      "Epoch [13/100]\n"
     ]
    },
    {
     "name": "stderr",
     "output_type": "stream",
     "text": [
      "100%|█████████████████████████| 188/188 [01:12<00:00,  2.60it/s, loss=0.349, iou=0.632, dice_coef=0.773, accuracy=0.922]\n",
      "100%|████████████████████████████| 19/19 [00:02<00:00,  8.48it/s, loss=0.336, iou=0.666, dice_coef=0.798, accuracy=0.93]\n"
     ]
    },
    {
     "name": "stdout",
     "output_type": "stream",
     "text": [
      "loss 0.3493 - iou 0.6323 - dice 0.7726 - accuracy 0.9217 - val_loss 0.3364 - val_iou 0.6657 - val_dice 0.7978 - val_accuracy 0.9302\n",
      "=> saved best model\n",
      "Epoch [14/100]\n"
     ]
    },
    {
     "name": "stderr",
     "output_type": "stream",
     "text": [
      "100%|█████████████████████████| 188/188 [01:12<00:00,  2.58it/s, loss=0.336, iou=0.661, dice_coef=0.794, accuracy=0.928]\n",
      "100%|███████████████████████████| 19/19 [00:02<00:00,  8.45it/s, loss=0.342, iou=0.623, dice_coef=0.765, accuracy=0.901]\n"
     ]
    },
    {
     "name": "stdout",
     "output_type": "stream",
     "text": [
      "loss 0.3357 - iou 0.6609 - dice 0.7939 - accuracy 0.9275 - val_loss 0.3416 - val_iou 0.6229 - val_dice 0.7649 - val_accuracy 0.9006\n",
      "Epoch [15/100]\n"
     ]
    },
    {
     "name": "stderr",
     "output_type": "stream",
     "text": [
      "100%|██████████████████████████| 188/188 [01:12<00:00,  2.59it/s, loss=0.328, iou=0.676, dice_coef=0.805, accuracy=0.93]\n",
      "100%|████████████████████████████| 19/19 [00:02<00:00,  8.13it/s, loss=0.319, iou=0.69, dice_coef=0.815, accuracy=0.931]\n"
     ]
    },
    {
     "name": "stdout",
     "output_type": "stream",
     "text": [
      "loss 0.3276 - iou 0.6756 - dice 0.8048 - accuracy 0.9299 - val_loss 0.3191 - val_iou 0.6905 - val_dice 0.8153 - val_accuracy 0.9312\n",
      "=> saved best model\n",
      "Epoch [16/100]\n"
     ]
    },
    {
     "name": "stderr",
     "output_type": "stream",
     "text": [
      "100%|█████████████████████████| 188/188 [01:13<00:00,  2.56it/s, loss=0.319, iou=0.689, dice_coef=0.814, accuracy=0.932]\n",
      "100%|███████████████████████████| 19/19 [00:02<00:00,  8.36it/s, loss=0.307, iou=0.705, dice_coef=0.825, accuracy=0.929]\n"
     ]
    },
    {
     "name": "stdout",
     "output_type": "stream",
     "text": [
      "loss 0.3187 - iou 0.6892 - dice 0.8144 - accuracy 0.9320 - val_loss 0.3066 - val_iou 0.7047 - val_dice 0.8249 - val_accuracy 0.9292\n",
      "=> saved best model\n",
      "Epoch [17/100]\n"
     ]
    },
    {
     "name": "stderr",
     "output_type": "stream",
     "text": [
      "100%|██████████████████████████| 188/188 [01:13<00:00,  2.56it/s, loss=0.31, iou=0.703, dice_coef=0.824, accuracy=0.934]\n",
      "100%|███████████████████████████| 19/19 [00:02<00:00,  8.38it/s, loss=0.309, iou=0.701, dice_coef=0.822, accuracy=0.934]\n"
     ]
    },
    {
     "name": "stdout",
     "output_type": "stream",
     "text": [
      "loss 0.3100 - iou 0.7032 - dice 0.8243 - accuracy 0.9343 - val_loss 0.3086 - val_iou 0.7009 - val_dice 0.8220 - val_accuracy 0.9339\n",
      "Epoch [18/100]\n"
     ]
    },
    {
     "name": "stderr",
     "output_type": "stream",
     "text": [
      "100%|█████████████████████████| 188/188 [01:15<00:00,  2.49it/s, loss=0.301, iou=0.724, dice_coef=0.838, accuracy=0.938]\n",
      "100%|███████████████████████████| 19/19 [00:02<00:00,  8.27it/s, loss=0.282, iou=0.754, dice_coef=0.859, accuracy=0.943]\n"
     ]
    },
    {
     "name": "stdout",
     "output_type": "stream",
     "text": [
      "loss 0.3005 - iou 0.7244 - dice 0.8384 - accuracy 0.9383 - val_loss 0.2821 - val_iou 0.7544 - val_dice 0.8586 - val_accuracy 0.9432\n",
      "=> saved best model\n",
      "Epoch [19/100]\n"
     ]
    },
    {
     "name": "stderr",
     "output_type": "stream",
     "text": [
      "100%|██████████████████████████| 188/188 [01:13<00:00,  2.56it/s, loss=0.295, iou=0.735, dice_coef=0.846, accuracy=0.94]\n",
      "100%|███████████████████████████| 19/19 [00:02<00:00,  8.32it/s, loss=0.276, iou=0.768, dice_coef=0.867, accuracy=0.946]\n"
     ]
    },
    {
     "name": "stdout",
     "output_type": "stream",
     "text": [
      "loss 0.2952 - iou 0.7347 - dice 0.8458 - accuracy 0.9402 - val_loss 0.2756 - val_iou 0.7679 - val_dice 0.8674 - val_accuracy 0.9461\n",
      "=> saved best model\n",
      "Epoch [20/100]\n"
     ]
    },
    {
     "name": "stderr",
     "output_type": "stream",
     "text": [
      "100%|█████████████████████████| 188/188 [01:14<00:00,  2.53it/s, loss=0.287, iou=0.751, dice_coef=0.857, accuracy=0.943]\n",
      "100%|███████████████████████████| 19/19 [00:02<00:00,  8.24it/s, loss=0.277, iou=0.771, dice_coef=0.869, accuracy=0.945]\n"
     ]
    },
    {
     "name": "stdout",
     "output_type": "stream",
     "text": [
      "loss 0.2870 - iou 0.7515 - dice 0.8570 - accuracy 0.9432 - val_loss 0.2773 - val_iou 0.7708 - val_dice 0.8693 - val_accuracy 0.9446\n",
      "=> saved best model\n",
      "Epoch [21/100]\n"
     ]
    },
    {
     "name": "stderr",
     "output_type": "stream",
     "text": [
      "100%|█████████████████████████| 188/188 [01:15<00:00,  2.50it/s, loss=0.283, iou=0.753, dice_coef=0.858, accuracy=0.943]\n",
      "100%|███████████████████████████| 19/19 [00:02<00:00,  8.22it/s, loss=0.266, iou=0.784, dice_coef=0.878, accuracy=0.947]\n"
     ]
    },
    {
     "name": "stdout",
     "output_type": "stream",
     "text": [
      "loss 0.2832 - iou 0.7535 - dice 0.8582 - accuracy 0.9430 - val_loss 0.2656 - val_iou 0.7838 - val_dice 0.8777 - val_accuracy 0.9474\n",
      "=> saved best model\n",
      "Epoch [22/100]\n"
     ]
    },
    {
     "name": "stderr",
     "output_type": "stream",
     "text": [
      "100%|██████████████████████████| 188/188 [01:14<00:00,  2.53it/s, loss=0.282, iou=0.757, dice_coef=0.86, accuracy=0.944]\n",
      "100%|███████████████████████████| 19/19 [00:02<00:00,  8.19it/s, loss=0.324, iou=0.661, dice_coef=0.794, accuracy=0.928]\n"
     ]
    },
    {
     "name": "stdout",
     "output_type": "stream",
     "text": [
      "loss 0.2822 - iou 0.7573 - dice 0.8605 - accuracy 0.9438 - val_loss 0.3240 - val_iou 0.6615 - val_dice 0.7941 - val_accuracy 0.9285\n",
      "Epoch [23/100]\n"
     ]
    },
    {
     "name": "stderr",
     "output_type": "stream",
     "text": [
      "100%|█████████████████████████| 188/188 [01:15<00:00,  2.50it/s, loss=0.275, iou=0.773, dice_coef=0.871, accuracy=0.947]\n",
      "100%|███████████████████████████| 19/19 [00:02<00:00,  8.17it/s, loss=0.267, iou=0.783, dice_coef=0.877, accuracy=0.946]\n"
     ]
    },
    {
     "name": "stdout",
     "output_type": "stream",
     "text": [
      "loss 0.2746 - iou 0.7726 - dice 0.8706 - accuracy 0.9466 - val_loss 0.2667 - val_iou 0.7827 - val_dice 0.8766 - val_accuracy 0.9459\n",
      "Epoch [24/100]\n"
     ]
    },
    {
     "name": "stderr",
     "output_type": "stream",
     "text": [
      "100%|█████████████████████████| 188/188 [01:14<00:00,  2.51it/s, loss=0.271, iou=0.777, dice_coef=0.873, accuracy=0.947]\n",
      "100%|████████████████████████████| 19/19 [00:02<00:00,  7.93it/s, loss=0.256, iou=0.81, dice_coef=0.894, accuracy=0.952]\n"
     ]
    },
    {
     "name": "stdout",
     "output_type": "stream",
     "text": [
      "loss 0.2710 - iou 0.7766 - dice 0.8729 - accuracy 0.9469 - val_loss 0.2562 - val_iou 0.8098 - val_dice 0.8942 - val_accuracy 0.9515\n",
      "=> saved best model\n",
      "Epoch [25/100]\n"
     ]
    },
    {
     "name": "stderr",
     "output_type": "stream",
     "text": [
      "100%|███████████████████████████| 188/188 [01:15<00:00,  2.50it/s, loss=0.267, iou=0.788, dice_coef=0.88, accuracy=0.95]\n",
      "100%|███████████████████████████| 19/19 [00:02<00:00,  8.29it/s, loss=0.256, iou=0.802, dice_coef=0.889, accuracy=0.951]\n"
     ]
    },
    {
     "name": "stdout",
     "output_type": "stream",
     "text": [
      "loss 0.2665 - iou 0.7883 - dice 0.8803 - accuracy 0.9495 - val_loss 0.2555 - val_iou 0.8019 - val_dice 0.8891 - val_accuracy 0.9505\n",
      "Epoch [26/100]\n"
     ]
    },
    {
     "name": "stderr",
     "output_type": "stream",
     "text": [
      "100%|██████████████████████████| 188/188 [01:16<00:00,  2.46it/s, loss=0.26, iou=0.798, dice_coef=0.887, accuracy=0.951]\n",
      "100%|███████████████████████████| 19/19 [00:02<00:00,  7.97it/s, loss=0.249, iou=0.827, dice_coef=0.904, accuracy=0.955]\n"
     ]
    },
    {
     "name": "stdout",
     "output_type": "stream",
     "text": [
      "loss 0.2603 - iou 0.7983 - dice 0.8868 - accuracy 0.9508 - val_loss 0.2488 - val_iou 0.8267 - val_dice 0.9044 - val_accuracy 0.9548\n",
      "=> saved best model\n",
      "Epoch [27/100]\n"
     ]
    },
    {
     "name": "stderr",
     "output_type": "stream",
     "text": [
      "100%|██████████████████████████| 188/188 [01:15<00:00,  2.50it/s, loss=0.257, iou=0.81, dice_coef=0.894, accuracy=0.953]\n",
      "100%|████████████████████████████| 19/19 [00:02<00:00,  7.97it/s, loss=0.254, iou=0.82, dice_coef=0.901, accuracy=0.954]\n"
     ]
    },
    {
     "name": "stdout",
     "output_type": "stream",
     "text": [
      "loss 0.2566 - iou 0.8098 - dice 0.8940 - accuracy 0.9529 - val_loss 0.2541 - val_iou 0.8204 - val_dice 0.9007 - val_accuracy 0.9536\n",
      "Epoch [28/100]\n"
     ]
    },
    {
     "name": "stderr",
     "output_type": "stream",
     "text": [
      "100%|█████████████████████████| 188/188 [01:15<00:00,  2.49it/s, loss=0.252, iou=0.817, dice_coef=0.899, accuracy=0.954]\n",
      "100%|███████████████████████████| 19/19 [00:03<00:00,  5.78it/s, loss=0.239, iou=0.829, dice_coef=0.906, accuracy=0.954]\n"
     ]
    },
    {
     "name": "stdout",
     "output_type": "stream",
     "text": [
      "loss 0.2520 - iou 0.8172 - dice 0.8986 - accuracy 0.9542 - val_loss 0.2394 - val_iou 0.8286 - val_dice 0.9057 - val_accuracy 0.9535\n",
      "=> saved best model\n",
      "Epoch [29/100]\n"
     ]
    },
    {
     "name": "stderr",
     "output_type": "stream",
     "text": [
      "100%|█████████████████████████| 188/188 [01:15<00:00,  2.50it/s, loss=0.252, iou=0.815, dice_coef=0.898, accuracy=0.954]\n",
      "100%|████████████████████████████| 19/19 [00:02<00:00,  8.12it/s, loss=0.245, iou=0.836, dice_coef=0.91, accuracy=0.956]\n"
     ]
    },
    {
     "name": "stdout",
     "output_type": "stream",
     "text": [
      "loss 0.2520 - iou 0.8155 - dice 0.8976 - accuracy 0.9537 - val_loss 0.2449 - val_iou 0.8363 - val_dice 0.9102 - val_accuracy 0.9559\n",
      "=> saved best model\n",
      "Epoch [30/100]\n"
     ]
    },
    {
     "name": "stderr",
     "output_type": "stream",
     "text": [
      "100%|██████████████████████████| 188/188 [01:14<00:00,  2.51it/s, loss=0.245, iou=0.83, dice_coef=0.906, accuracy=0.957]\n",
      "100%|█████████████████████████████| 19/19 [00:02<00:00,  8.16it/s, loss=0.258, iou=0.8, dice_coef=0.888, accuracy=0.947]\n"
     ]
    },
    {
     "name": "stdout",
     "output_type": "stream",
     "text": [
      "loss 0.2450 - iou 0.8297 - dice 0.9062 - accuracy 0.9565 - val_loss 0.2584 - val_iou 0.7998 - val_dice 0.8876 - val_accuracy 0.9474\n",
      "Epoch [31/100]\n"
     ]
    },
    {
     "name": "stderr",
     "output_type": "stream",
     "text": [
      "100%|█████████████████████████| 188/188 [01:16<00:00,  2.45it/s, loss=0.245, iou=0.827, dice_coef=0.904, accuracy=0.956]\n",
      "100%|█████████████████████████████| 19/19 [00:02<00:00,  8.12it/s, loss=0.227, iou=0.854, dice_coef=0.92, accuracy=0.96]\n"
     ]
    },
    {
     "name": "stdout",
     "output_type": "stream",
     "text": [
      "loss 0.2452 - iou 0.8270 - dice 0.9045 - accuracy 0.9560 - val_loss 0.2271 - val_iou 0.8536 - val_dice 0.9201 - val_accuracy 0.9600\n",
      "=> saved best model\n",
      "Epoch [32/100]\n"
     ]
    },
    {
     "name": "stderr",
     "output_type": "stream",
     "text": [
      "100%|██████████████████████████| 188/188 [01:16<00:00,  2.44it/s, loss=0.243, iou=0.837, dice_coef=0.91, accuracy=0.958]\n",
      "100%|███████████████████████████| 19/19 [00:02<00:00,  7.86it/s, loss=0.229, iou=0.844, dice_coef=0.914, accuracy=0.958]\n"
     ]
    },
    {
     "name": "stdout",
     "output_type": "stream",
     "text": [
      "loss 0.2431 - iou 0.8366 - dice 0.9104 - accuracy 0.9576 - val_loss 0.2286 - val_iou 0.8436 - val_dice 0.9144 - val_accuracy 0.9582\n",
      "Epoch [33/100]\n"
     ]
    },
    {
     "name": "stderr",
     "output_type": "stream",
     "text": [
      "100%|██████████████████████████| 188/188 [01:16<00:00,  2.46it/s, loss=0.239, iou=0.847, dice_coef=0.917, accuracy=0.96]\n",
      "100%|███████████████████████████| 19/19 [00:02<00:00,  8.13it/s, loss=0.232, iou=0.864, dice_coef=0.927, accuracy=0.961]\n"
     ]
    },
    {
     "name": "stdout",
     "output_type": "stream",
     "text": [
      "loss 0.2393 - iou 0.8470 - dice 0.9167 - accuracy 0.9595 - val_loss 0.2316 - val_iou 0.8640 - val_dice 0.9265 - val_accuracy 0.9612\n",
      "=> saved best model\n",
      "Epoch [34/100]\n"
     ]
    },
    {
     "name": "stderr",
     "output_type": "stream",
     "text": [
      "100%|██████████████████████████| 188/188 [01:15<00:00,  2.49it/s, loss=0.239, iou=0.84, dice_coef=0.912, accuracy=0.958]\n",
      "100%|███████████████████████████| 19/19 [00:02<00:00,  8.08it/s, loss=0.222, iou=0.867, dice_coef=0.928, accuracy=0.962]\n"
     ]
    },
    {
     "name": "stdout",
     "output_type": "stream",
     "text": [
      "loss 0.2394 - iou 0.8400 - dice 0.9122 - accuracy 0.9581 - val_loss 0.2220 - val_iou 0.8672 - val_dice 0.9283 - val_accuracy 0.9620\n",
      "=> saved best model\n",
      "Epoch [35/100]\n"
     ]
    },
    {
     "name": "stderr",
     "output_type": "stream",
     "text": [
      "100%|█████████████████████████| 188/188 [01:16<00:00,  2.47it/s, loss=0.237, iou=0.843, dice_coef=0.914, accuracy=0.958]\n",
      "100%|█████████████████████████████| 19/19 [00:02<00:00,  8.05it/s, loss=0.225, iou=0.87, dice_coef=0.93, accuracy=0.962]\n"
     ]
    },
    {
     "name": "stdout",
     "output_type": "stream",
     "text": [
      "loss 0.2375 - iou 0.8430 - dice 0.9141 - accuracy 0.9584 - val_loss 0.2253 - val_iou 0.8695 - val_dice 0.9297 - val_accuracy 0.9621\n",
      "=> saved best model\n",
      "Epoch [36/100]\n"
     ]
    },
    {
     "name": "stderr",
     "output_type": "stream",
     "text": [
      "100%|█████████████████████████| 188/188 [01:16<00:00,  2.46it/s, loss=0.231, iou=0.859, dice_coef=0.924, accuracy=0.961]\n",
      "100%|███████████████████████████| 19/19 [00:02<00:00,  7.98it/s, loss=0.224, iou=0.873, dice_coef=0.932, accuracy=0.962]\n"
     ]
    },
    {
     "name": "stdout",
     "output_type": "stream",
     "text": [
      "loss 0.2309 - iou 0.8593 - dice 0.9238 - accuracy 0.9614 - val_loss 0.2239 - val_iou 0.8725 - val_dice 0.9315 - val_accuracy 0.9623\n",
      "=> saved best model\n",
      "Epoch [37/100]\n"
     ]
    },
    {
     "name": "stderr",
     "output_type": "stream",
     "text": [
      "100%|█████████████████████████| 188/188 [01:16<00:00,  2.46it/s, loss=0.231, iou=0.862, dice_coef=0.925, accuracy=0.962]\n",
      "100%|████████████████████████████| 19/19 [00:02<00:00,  8.09it/s, loss=0.214, iou=0.88, dice_coef=0.936, accuracy=0.964]\n"
     ]
    },
    {
     "name": "stdout",
     "output_type": "stream",
     "text": [
      "loss 0.2308 - iou 0.8617 - dice 0.9253 - accuracy 0.9617 - val_loss 0.2142 - val_iou 0.8800 - val_dice 0.9358 - val_accuracy 0.9635\n",
      "=> saved best model\n",
      "Epoch [38/100]\n"
     ]
    },
    {
     "name": "stderr",
     "output_type": "stream",
     "text": [
      "100%|█████████████████████████| 188/188 [01:16<00:00,  2.47it/s, loss=0.227, iou=0.868, dice_coef=0.929, accuracy=0.963]\n",
      "100%|███████████████████████████| 19/19 [00:02<00:00,  8.17it/s, loss=0.223, iou=0.876, dice_coef=0.934, accuracy=0.963]\n"
     ]
    },
    {
     "name": "stdout",
     "output_type": "stream",
     "text": [
      "loss 0.2267 - iou 0.8677 - dice 0.9288 - accuracy 0.9626 - val_loss 0.2230 - val_iou 0.8763 - val_dice 0.9336 - val_accuracy 0.9630\n",
      "Epoch [39/100]\n"
     ]
    },
    {
     "name": "stderr",
     "output_type": "stream",
     "text": [
      "100%|██████████████████████████| 188/188 [01:16<00:00,  2.46it/s, loss=0.225, iou=0.869, dice_coef=0.93, accuracy=0.963]\n",
      "100%|███████████████████████████| 19/19 [00:02<00:00,  8.04it/s, loss=0.217, iou=0.886, dice_coef=0.939, accuracy=0.965]\n"
     ]
    },
    {
     "name": "stdout",
     "output_type": "stream",
     "text": [
      "loss 0.2254 - iou 0.8692 - dice 0.9297 - accuracy 0.9631 - val_loss 0.2174 - val_iou 0.8857 - val_dice 0.9391 - val_accuracy 0.9651\n",
      "=> saved best model\n",
      "Epoch [40/100]\n"
     ]
    },
    {
     "name": "stderr",
     "output_type": "stream",
     "text": [
      "100%|█████████████████████████| 188/188 [01:16<00:00,  2.47it/s, loss=0.222, iou=0.876, dice_coef=0.933, accuracy=0.964]\n",
      "100%|███████████████████████████| 19/19 [00:02<00:00,  8.04it/s, loss=0.209, iou=0.895, dice_coef=0.944, accuracy=0.967]\n"
     ]
    },
    {
     "name": "stdout",
     "output_type": "stream",
     "text": [
      "loss 0.2216 - iou 0.8759 - dice 0.9334 - accuracy 0.9642 - val_loss 0.2087 - val_iou 0.8950 - val_dice 0.9443 - val_accuracy 0.9665\n",
      "=> saved best model\n",
      "Epoch [41/100]\n"
     ]
    },
    {
     "name": "stderr",
     "output_type": "stream",
     "text": [
      "100%|██████████████████████████| 188/188 [01:16<00:00,  2.45it/s, loss=0.225, iou=0.871, dice_coef=0.93, accuracy=0.963]\n",
      "100%|███████████████████████████| 19/19 [00:02<00:00,  7.95it/s, loss=0.207, iou=0.891, dice_coef=0.942, accuracy=0.966]\n"
     ]
    },
    {
     "name": "stdout",
     "output_type": "stream",
     "text": [
      "loss 0.2251 - iou 0.8706 - dice 0.9304 - accuracy 0.9633 - val_loss 0.2071 - val_iou 0.8908 - val_dice 0.9420 - val_accuracy 0.9656\n",
      "Epoch [42/100]\n"
     ]
    },
    {
     "name": "stderr",
     "output_type": "stream",
     "text": [
      "100%|█████████████████████████| 188/188 [01:16<00:00,  2.46it/s, loss=0.219, iou=0.884, dice_coef=0.938, accuracy=0.965]\n",
      "100%|█████████████████████████████| 19/19 [00:02<00:00,  7.94it/s, loss=0.211, iou=0.9, dice_coef=0.947, accuracy=0.968]\n"
     ]
    },
    {
     "name": "stdout",
     "output_type": "stream",
     "text": [
      "loss 0.2189 - iou 0.8842 - dice 0.9382 - accuracy 0.9655 - val_loss 0.2112 - val_iou 0.9005 - val_dice 0.9474 - val_accuracy 0.9677\n",
      "=> saved best model\n",
      "Epoch [43/100]\n"
     ]
    },
    {
     "name": "stderr",
     "output_type": "stream",
     "text": [
      "100%|█████████████████████████| 188/188 [01:17<00:00,  2.44it/s, loss=0.221, iou=0.871, dice_coef=0.931, accuracy=0.963]\n",
      "100%|████████████████████████████| 19/19 [00:02<00:00,  7.96it/s, loss=0.211, iou=0.888, dice_coef=0.94, accuracy=0.965]\n"
     ]
    },
    {
     "name": "stdout",
     "output_type": "stream",
     "text": [
      "loss 0.2214 - iou 0.8707 - dice 0.9305 - accuracy 0.9630 - val_loss 0.2106 - val_iou 0.8880 - val_dice 0.9404 - val_accuracy 0.9652\n",
      "Epoch [44/100]\n"
     ]
    },
    {
     "name": "stderr",
     "output_type": "stream",
     "text": [
      "100%|█████████████████████████| 188/188 [01:16<00:00,  2.45it/s, loss=0.217, iou=0.885, dice_coef=0.939, accuracy=0.966]\n",
      "100%|███████████████████████████| 19/19 [00:02<00:00,  7.94it/s, loss=0.204, iou=0.907, dice_coef=0.951, accuracy=0.968]\n"
     ]
    },
    {
     "name": "stdout",
     "output_type": "stream",
     "text": [
      "loss 0.2173 - iou 0.8848 - dice 0.9386 - accuracy 0.9655 - val_loss 0.2040 - val_iou 0.9065 - val_dice 0.9507 - val_accuracy 0.9683\n",
      "=> saved best model\n",
      "Epoch [45/100]\n"
     ]
    },
    {
     "name": "stderr",
     "output_type": "stream",
     "text": [
      "100%|█████████████████████████| 188/188 [01:16<00:00,  2.44it/s, loss=0.211, iou=0.898, dice_coef=0.946, accuracy=0.968]\n",
      "100%|████████████████████████████| 19/19 [00:02<00:00,  7.93it/s, loss=0.203, iou=0.91, dice_coef=0.953, accuracy=0.969]\n"
     ]
    },
    {
     "name": "stdout",
     "output_type": "stream",
     "text": [
      "loss 0.2109 - iou 0.8977 - dice 0.9459 - accuracy 0.9678 - val_loss 0.2034 - val_iou 0.9103 - val_dice 0.9528 - val_accuracy 0.9693\n",
      "=> saved best model\n",
      "Epoch [46/100]\n"
     ]
    },
    {
     "name": "stderr",
     "output_type": "stream",
     "text": [
      "100%|█████████████████████████| 188/188 [01:16<00:00,  2.45it/s, loss=0.214, iou=0.891, dice_coef=0.942, accuracy=0.966]\n",
      "100%|███████████████████████████| 19/19 [00:02<00:00,  7.92it/s, loss=0.201, iou=0.911, dice_coef=0.953, accuracy=0.969]\n"
     ]
    },
    {
     "name": "stdout",
     "output_type": "stream",
     "text": [
      "loss 0.2135 - iou 0.8906 - dice 0.9418 - accuracy 0.9664 - val_loss 0.2008 - val_iou 0.9113 - val_dice 0.9534 - val_accuracy 0.9694\n",
      "=> saved best model\n",
      "Epoch [47/100]\n"
     ]
    },
    {
     "name": "stderr",
     "output_type": "stream",
     "text": [
      "100%|█████████████████████████| 188/188 [01:17<00:00,  2.44it/s, loss=0.214, iou=0.893, dice_coef=0.943, accuracy=0.967]\n",
      "100%|████████████████████████████| 19/19 [00:02<00:00,  7.93it/s, loss=0.195, iou=0.918, dice_coef=0.957, accuracy=0.97]\n"
     ]
    },
    {
     "name": "stdout",
     "output_type": "stream",
     "text": [
      "loss 0.2136 - iou 0.8928 - dice 0.9431 - accuracy 0.9670 - val_loss 0.1954 - val_iou 0.9175 - val_dice 0.9568 - val_accuracy 0.9703\n",
      "=> saved best model\n",
      "Epoch [48/100]\n"
     ]
    },
    {
     "name": "stderr",
     "output_type": "stream",
     "text": [
      "100%|█████████████████████████| 188/188 [01:17<00:00,  2.43it/s, loss=0.211, iou=0.896, dice_coef=0.945, accuracy=0.967]\n",
      "100%|████████████████████████████| 19/19 [00:02<00:00,  8.09it/s, loss=0.202, iou=0.92, dice_coef=0.958, accuracy=0.971]\n"
     ]
    },
    {
     "name": "stdout",
     "output_type": "stream",
     "text": [
      "loss 0.2110 - iou 0.8957 - dice 0.9447 - accuracy 0.9671 - val_loss 0.2018 - val_iou 0.9201 - val_dice 0.9582 - val_accuracy 0.9707\n",
      "=> saved best model\n",
      "Epoch [49/100]\n"
     ]
    },
    {
     "name": "stderr",
     "output_type": "stream",
     "text": [
      "100%|██████████████████████████| 188/188 [01:17<00:00,  2.42it/s, loss=0.208, iou=0.904, dice_coef=0.95, accuracy=0.969]\n",
      "100%|████████████████████████████| 19/19 [00:02<00:00,  7.89it/s, loss=0.202, iou=0.915, dice_coef=0.955, accuracy=0.97]\n"
     ]
    },
    {
     "name": "stdout",
     "output_type": "stream",
     "text": [
      "loss 0.2079 - iou 0.9043 - dice 0.9495 - accuracy 0.9688 - val_loss 0.2015 - val_iou 0.9149 - val_dice 0.9554 - val_accuracy 0.9699\n",
      "Epoch [50/100]\n"
     ]
    },
    {
     "name": "stderr",
     "output_type": "stream",
     "text": [
      "100%|██████████████████████████| 188/188 [01:17<00:00,  2.44it/s, loss=0.207, iou=0.906, dice_coef=0.95, accuracy=0.969]\n",
      "100%|████████████████████████████| 19/19 [00:02<00:00,  7.89it/s, loss=0.192, iou=0.92, dice_coef=0.958, accuracy=0.971]\n"
     ]
    },
    {
     "name": "stdout",
     "output_type": "stream",
     "text": [
      "loss 0.2073 - iou 0.9058 - dice 0.9504 - accuracy 0.9690 - val_loss 0.1918 - val_iou 0.9205 - val_dice 0.9584 - val_accuracy 0.9707\n",
      "=> saved best model\n",
      "Epoch [51/100]\n"
     ]
    },
    {
     "name": "stderr",
     "output_type": "stream",
     "text": [
      "100%|█████████████████████████| 188/188 [01:16<00:00,  2.44it/s, loss=0.208, iou=0.899, dice_coef=0.947, accuracy=0.968]\n",
      "100%|███████████████████████████| 19/19 [00:02<00:00,  7.92it/s, loss=0.201, iou=0.908, dice_coef=0.952, accuracy=0.969]\n"
     ]
    },
    {
     "name": "stdout",
     "output_type": "stream",
     "text": [
      "loss 0.2076 - iou 0.8994 - dice 0.9468 - accuracy 0.9678 - val_loss 0.2010 - val_iou 0.9080 - val_dice 0.9516 - val_accuracy 0.9690\n",
      "Epoch [52/100]\n"
     ]
    },
    {
     "name": "stderr",
     "output_type": "stream",
     "text": [
      "100%|█████████████████████████| 188/188 [01:16<00:00,  2.45it/s, loss=0.204, iou=0.907, dice_coef=0.951, accuracy=0.969]\n",
      "100%|████████████████████████████| 19/19 [00:02<00:00,  7.91it/s, loss=0.195, iou=0.915, dice_coef=0.956, accuracy=0.97]\n"
     ]
    },
    {
     "name": "stdout",
     "output_type": "stream",
     "text": [
      "loss 0.2041 - iou 0.9074 - dice 0.9513 - accuracy 0.9691 - val_loss 0.1951 - val_iou 0.9152 - val_dice 0.9555 - val_accuracy 0.9700\n",
      "Epoch [53/100]\n"
     ]
    },
    {
     "name": "stderr",
     "output_type": "stream",
     "text": [
      "100%|█████████████████████████| 188/188 [01:16<00:00,  2.45it/s, loss=0.207, iou=0.894, dice_coef=0.944, accuracy=0.967]\n",
      "100%|███████████████████████████| 19/19 [00:02<00:00,  8.01it/s, loss=0.211, iou=0.893, dice_coef=0.943, accuracy=0.966]\n"
     ]
    },
    {
     "name": "stdout",
     "output_type": "stream",
     "text": [
      "loss 0.2068 - iou 0.8937 - dice 0.9435 - accuracy 0.9670 - val_loss 0.2114 - val_iou 0.8933 - val_dice 0.9435 - val_accuracy 0.9658\n",
      "Epoch [54/100]\n"
     ]
    },
    {
     "name": "stderr",
     "output_type": "stream",
     "text": [
      "100%|██████████████████████████| 188/188 [01:17<00:00,  2.43it/s, loss=0.205, iou=0.904, dice_coef=0.95, accuracy=0.969]\n",
      "100%|████████████████████████████| 19/19 [00:02<00:00,  7.74it/s, loss=0.193, iou=0.917, dice_coef=0.957, accuracy=0.97]\n"
     ]
    },
    {
     "name": "stdout",
     "output_type": "stream",
     "text": [
      "loss 0.2053 - iou 0.9044 - dice 0.9496 - accuracy 0.9687 - val_loss 0.1925 - val_iou 0.9175 - val_dice 0.9568 - val_accuracy 0.9705\n",
      "Epoch [55/100]\n"
     ]
    },
    {
     "name": "stderr",
     "output_type": "stream",
     "text": [
      "100%|██████████████████████████| 188/188 [01:16<00:00,  2.45it/s, loss=0.201, iou=0.911, dice_coef=0.953, accuracy=0.97]\n",
      "100%|███████████████████████████| 19/19 [00:02<00:00,  7.91it/s, loss=0.194, iou=0.927, dice_coef=0.962, accuracy=0.972]\n"
     ]
    },
    {
     "name": "stdout",
     "output_type": "stream",
     "text": [
      "loss 0.2009 - iou 0.9110 - dice 0.9532 - accuracy 0.9697 - val_loss 0.1944 - val_iou 0.9274 - val_dice 0.9622 - val_accuracy 0.9718\n",
      "=> saved best model\n",
      "Epoch [56/100]\n"
     ]
    },
    {
     "name": "stderr",
     "output_type": "stream",
     "text": [
      "100%|█████████████████████████| 188/188 [01:17<00:00,  2.41it/s, loss=0.199, iou=0.917, dice_coef=0.957, accuracy=0.971]\n",
      "100%|███████████████████████████| 19/19 [00:02<00:00,  7.97it/s, loss=0.197, iou=0.931, dice_coef=0.964, accuracy=0.972]\n"
     ]
    },
    {
     "name": "stdout",
     "output_type": "stream",
     "text": [
      "loss 0.1994 - iou 0.9172 - dice 0.9567 - accuracy 0.9707 - val_loss 0.1965 - val_iou 0.9311 - val_dice 0.9642 - val_accuracy 0.9723\n",
      "=> saved best model\n",
      "Epoch [57/100]\n"
     ]
    },
    {
     "name": "stderr",
     "output_type": "stream",
     "text": [
      "100%|█████████████████████████| 188/188 [01:16<00:00,  2.46it/s, loss=0.189, iou=0.929, dice_coef=0.963, accuracy=0.973]\n",
      "100%|████████████████████████████| 19/19 [00:02<00:00,  7.93it/s, loss=0.176, iou=0.94, dice_coef=0.969, accuracy=0.974]\n"
     ]
    },
    {
     "name": "stdout",
     "output_type": "stream",
     "text": [
      "loss 0.1894 - iou 0.9289 - dice 0.9630 - accuracy 0.9725 - val_loss 0.1762 - val_iou 0.9402 - val_dice 0.9691 - val_accuracy 0.9737\n",
      "=> saved best model\n",
      "Epoch [58/100]\n"
     ]
    },
    {
     "name": "stderr",
     "output_type": "stream",
     "text": [
      "100%|█████████████████████████| 188/188 [01:17<00:00,  2.43it/s, loss=0.185, iou=0.933, dice_coef=0.965, accuracy=0.973]\n",
      "100%|████████████████████████████| 19/19 [00:02<00:00,  7.88it/s, loss=0.175, iou=0.942, dice_coef=0.97, accuracy=0.974]\n"
     ]
    },
    {
     "name": "stdout",
     "output_type": "stream",
     "text": [
      "loss 0.1853 - iou 0.9325 - dice 0.9650 - accuracy 0.9730 - val_loss 0.1751 - val_iou 0.9419 - val_dice 0.9700 - val_accuracy 0.9740\n",
      "=> saved best model\n",
      "Epoch [59/100]\n"
     ]
    },
    {
     "name": "stderr",
     "output_type": "stream",
     "text": [
      "100%|█████████████████████████| 188/188 [01:16<00:00,  2.46it/s, loss=0.185, iou=0.934, dice_coef=0.966, accuracy=0.973]\n",
      "100%|████████████████████████████| 19/19 [00:02<00:00,  7.99it/s, loss=0.175, iou=0.943, dice_coef=0.97, accuracy=0.974]\n"
     ]
    },
    {
     "name": "stdout",
     "output_type": "stream",
     "text": [
      "loss 0.1855 - iou 0.9338 - dice 0.9657 - accuracy 0.9732 - val_loss 0.1745 - val_iou 0.9428 - val_dice 0.9705 - val_accuracy 0.9741\n",
      "=> saved best model\n",
      "Epoch [60/100]\n"
     ]
    },
    {
     "name": "stderr",
     "output_type": "stream",
     "text": [
      "100%|█████████████████████████| 188/188 [01:17<00:00,  2.42it/s, loss=0.183, iou=0.935, dice_coef=0.966, accuracy=0.973]\n",
      "100%|███████████████████████████| 19/19 [00:02<00:00,  8.06it/s, loss=0.174, iou=0.944, dice_coef=0.971, accuracy=0.974]\n"
     ]
    },
    {
     "name": "stdout",
     "output_type": "stream",
     "text": [
      "loss 0.1832 - iou 0.9351 - dice 0.9664 - accuracy 0.9733 - val_loss 0.1739 - val_iou 0.9436 - val_dice 0.9709 - val_accuracy 0.9742\n",
      "=> saved best model\n",
      "Epoch [61/100]\n"
     ]
    },
    {
     "name": "stderr",
     "output_type": "stream",
     "text": [
      "100%|█████████████████████████| 188/188 [01:16<00:00,  2.47it/s, loss=0.184, iou=0.936, dice_coef=0.967, accuracy=0.974]\n",
      "100%|███████████████████████████| 19/19 [00:02<00:00,  7.97it/s, loss=0.174, iou=0.944, dice_coef=0.971, accuracy=0.974]\n"
     ]
    },
    {
     "name": "stdout",
     "output_type": "stream",
     "text": [
      "loss 0.1839 - iou 0.9360 - dice 0.9669 - accuracy 0.9735 - val_loss 0.1744 - val_iou 0.9436 - val_dice 0.9709 - val_accuracy 0.9742\n",
      "Epoch [62/100]\n"
     ]
    },
    {
     "name": "stderr",
     "output_type": "stream",
     "text": [
      "100%|█████████████████████████| 188/188 [01:17<00:00,  2.44it/s, loss=0.181, iou=0.937, dice_coef=0.967, accuracy=0.974]\n",
      "100%|███████████████████████████| 19/19 [00:02<00:00,  8.04it/s, loss=0.174, iou=0.944, dice_coef=0.971, accuracy=0.974]\n"
     ]
    },
    {
     "name": "stdout",
     "output_type": "stream",
     "text": [
      "loss 0.1815 - iou 0.9371 - dice 0.9675 - accuracy 0.9736 - val_loss 0.1737 - val_iou 0.9444 - val_dice 0.9713 - val_accuracy 0.9743\n",
      "=> saved best model\n",
      "Epoch [63/100]\n"
     ]
    },
    {
     "name": "stderr",
     "output_type": "stream",
     "text": [
      "100%|█████████████████████████| 188/188 [01:17<00:00,  2.41it/s, loss=0.182, iou=0.937, dice_coef=0.967, accuracy=0.974]\n",
      "100%|███████████████████████████| 19/19 [00:02<00:00,  7.60it/s, loss=0.173, iou=0.945, dice_coef=0.972, accuracy=0.974]\n"
     ]
    },
    {
     "name": "stdout",
     "output_type": "stream",
     "text": [
      "loss 0.1824 - iou 0.9370 - dice 0.9674 - accuracy 0.9736 - val_loss 0.1730 - val_iou 0.9449 - val_dice 0.9716 - val_accuracy 0.9744\n",
      "=> saved best model\n",
      "Epoch [64/100]\n"
     ]
    },
    {
     "name": "stderr",
     "output_type": "stream",
     "text": [
      "100%|█████████████████████████| 188/188 [01:16<00:00,  2.46it/s, loss=0.182, iou=0.937, dice_coef=0.967, accuracy=0.974]\n",
      "100%|███████████████████████████| 19/19 [00:02<00:00,  7.92it/s, loss=0.174, iou=0.945, dice_coef=0.972, accuracy=0.974]\n"
     ]
    },
    {
     "name": "stdout",
     "output_type": "stream",
     "text": [
      "loss 0.1819 - iou 0.9366 - dice 0.9671 - accuracy 0.9737 - val_loss 0.1739 - val_iou 0.9453 - val_dice 0.9718 - val_accuracy 0.9745\n",
      "=> saved best model\n",
      "Epoch [65/100]\n"
     ]
    },
    {
     "name": "stderr",
     "output_type": "stream",
     "text": [
      "100%|█████████████████████████| 188/188 [01:17<00:00,  2.43it/s, loss=0.181, iou=0.938, dice_coef=0.968, accuracy=0.974]\n",
      "100%|███████████████████████████| 19/19 [00:02<00:00,  7.67it/s, loss=0.172, iou=0.946, dice_coef=0.972, accuracy=0.975]\n"
     ]
    },
    {
     "name": "stdout",
     "output_type": "stream",
     "text": [
      "loss 0.1813 - iou 0.9379 - dice 0.9679 - accuracy 0.9738 - val_loss 0.1717 - val_iou 0.9461 - val_dice 0.9722 - val_accuracy 0.9745\n",
      "=> saved best model\n",
      "Epoch [66/100]\n"
     ]
    },
    {
     "name": "stderr",
     "output_type": "stream",
     "text": [
      "100%|█████████████████████████| 188/188 [01:16<00:00,  2.46it/s, loss=0.181, iou=0.939, dice_coef=0.968, accuracy=0.974]\n",
      "100%|███████████████████████████| 19/19 [00:02<00:00,  7.95it/s, loss=0.172, iou=0.946, dice_coef=0.972, accuracy=0.975]\n"
     ]
    },
    {
     "name": "stdout",
     "output_type": "stream",
     "text": [
      "loss 0.1807 - iou 0.9387 - dice 0.9683 - accuracy 0.9739 - val_loss 0.1717 - val_iou 0.9463 - val_dice 0.9723 - val_accuracy 0.9746\n",
      "=> saved best model\n",
      "Epoch [67/100]\n"
     ]
    },
    {
     "name": "stderr",
     "output_type": "stream",
     "text": [
      "100%|█████████████████████████| 188/188 [01:18<00:00,  2.41it/s, loss=0.182, iou=0.939, dice_coef=0.968, accuracy=0.974]\n",
      "100%|███████████████████████████| 19/19 [00:02<00:00,  7.83it/s, loss=0.173, iou=0.947, dice_coef=0.973, accuracy=0.975]\n"
     ]
    },
    {
     "name": "stdout",
     "output_type": "stream",
     "text": [
      "loss 0.1817 - iou 0.9386 - dice 0.9682 - accuracy 0.9739 - val_loss 0.1731 - val_iou 0.9467 - val_dice 0.9726 - val_accuracy 0.9746\n",
      "=> saved best model\n",
      "Epoch [68/100]\n"
     ]
    },
    {
     "name": "stderr",
     "output_type": "stream",
     "text": [
      "100%|███████████████████████████| 188/188 [01:17<00:00,  2.42it/s, loss=0.18, iou=0.94, dice_coef=0.969, accuracy=0.974]\n",
      "100%|███████████████████████████| 19/19 [00:02<00:00,  7.62it/s, loss=0.172, iou=0.947, dice_coef=0.973, accuracy=0.975]\n"
     ]
    },
    {
     "name": "stdout",
     "output_type": "stream",
     "text": [
      "loss 0.1802 - iou 0.9395 - dice 0.9687 - accuracy 0.9741 - val_loss 0.1724 - val_iou 0.9469 - val_dice 0.9727 - val_accuracy 0.9747\n",
      "=> saved best model\n",
      "Epoch [69/100]\n"
     ]
    },
    {
     "name": "stderr",
     "output_type": "stream",
     "text": [
      "100%|██████████████████████████| 188/188 [01:16<00:00,  2.45it/s, loss=0.18, iou=0.939, dice_coef=0.969, accuracy=0.974]\n",
      "100%|███████████████████████████| 19/19 [00:02<00:00,  7.82it/s, loss=0.172, iou=0.948, dice_coef=0.973, accuracy=0.975]\n"
     ]
    },
    {
     "name": "stdout",
     "output_type": "stream",
     "text": [
      "loss 0.1804 - iou 0.9391 - dice 0.9685 - accuracy 0.9740 - val_loss 0.1719 - val_iou 0.9478 - val_dice 0.9732 - val_accuracy 0.9748\n",
      "=> saved best model\n",
      "Epoch [70/100]\n"
     ]
    },
    {
     "name": "stderr",
     "output_type": "stream",
     "text": [
      "100%|█████████████████████████| 188/188 [01:17<00:00,  2.42it/s, loss=0.179, iou=0.941, dice_coef=0.969, accuracy=0.974]\n",
      "100%|███████████████████████████| 19/19 [00:02<00:00,  7.81it/s, loss=0.171, iou=0.948, dice_coef=0.973, accuracy=0.975]\n"
     ]
    },
    {
     "name": "stdout",
     "output_type": "stream",
     "text": [
      "loss 0.1791 - iou 0.9408 - dice 0.9694 - accuracy 0.9742 - val_loss 0.1707 - val_iou 0.9483 - val_dice 0.9734 - val_accuracy 0.9749\n",
      "=> saved best model\n",
      "Epoch [71/100]\n"
     ]
    },
    {
     "name": "stderr",
     "output_type": "stream",
     "text": [
      "100%|██████████████████████████| 188/188 [01:16<00:00,  2.45it/s, loss=0.181, iou=0.94, dice_coef=0.969, accuracy=0.974]\n",
      "100%|███████████████████████████| 19/19 [00:02<00:00,  7.94it/s, loss=0.171, iou=0.948, dice_coef=0.973, accuracy=0.975]\n"
     ]
    },
    {
     "name": "stdout",
     "output_type": "stream",
     "text": [
      "loss 0.1810 - iou 0.9399 - dice 0.9689 - accuracy 0.9742 - val_loss 0.1708 - val_iou 0.9485 - val_dice 0.9735 - val_accuracy 0.9749\n",
      "=> saved best model\n",
      "Epoch [72/100]\n"
     ]
    },
    {
     "name": "stderr",
     "output_type": "stream",
     "text": [
      "100%|███████████████████████████| 188/188 [01:16<00:00,  2.45it/s, loss=0.18, iou=0.941, dice_coef=0.97, accuracy=0.974]\n",
      "100%|███████████████████████████| 19/19 [00:02<00:00,  7.94it/s, loss=0.171, iou=0.949, dice_coef=0.974, accuracy=0.975]\n"
     ]
    },
    {
     "name": "stdout",
     "output_type": "stream",
     "text": [
      "loss 0.1800 - iou 0.9412 - dice 0.9696 - accuracy 0.9743 - val_loss 0.1707 - val_iou 0.9490 - val_dice 0.9738 - val_accuracy 0.9749\n",
      "=> saved best model\n",
      "Epoch [73/100]\n"
     ]
    },
    {
     "name": "stderr",
     "output_type": "stream",
     "text": [
      "100%|██████████████████████████| 188/188 [01:17<00:00,  2.42it/s, loss=0.179, iou=0.941, dice_coef=0.97, accuracy=0.974]\n",
      "100%|████████████████████████████| 19/19 [00:02<00:00,  7.72it/s, loss=0.17, iou=0.949, dice_coef=0.974, accuracy=0.975]\n"
     ]
    },
    {
     "name": "stdout",
     "output_type": "stream",
     "text": [
      "loss 0.1793 - iou 0.9411 - dice 0.9696 - accuracy 0.9743 - val_loss 0.1697 - val_iou 0.9491 - val_dice 0.9738 - val_accuracy 0.9750\n",
      "=> saved best model\n",
      "Epoch [74/100]\n"
     ]
    },
    {
     "name": "stderr",
     "output_type": "stream",
     "text": [
      "100%|██████████████████████████| 188/188 [01:17<00:00,  2.41it/s, loss=0.178, iou=0.943, dice_coef=0.97, accuracy=0.974]\n",
      "100%|████████████████████████████| 19/19 [00:02<00:00,  7.83it/s, loss=0.169, iou=0.95, dice_coef=0.974, accuracy=0.975]\n"
     ]
    },
    {
     "name": "stdout",
     "output_type": "stream",
     "text": [
      "loss 0.1781 - iou 0.9426 - dice 0.9704 - accuracy 0.9744 - val_loss 0.1694 - val_iou 0.9500 - val_dice 0.9743 - val_accuracy 0.9751\n",
      "=> saved best model\n",
      "Epoch [75/100]\n"
     ]
    },
    {
     "name": "stderr",
     "output_type": "stream",
     "text": [
      "100%|██████████████████████████| 188/188 [01:16<00:00,  2.47it/s, loss=0.178, iou=0.942, dice_coef=0.97, accuracy=0.974]\n",
      "100%|████████████████████████████| 19/19 [00:02<00:00,  7.91it/s, loss=0.171, iou=0.95, dice_coef=0.974, accuracy=0.975]\n"
     ]
    },
    {
     "name": "stdout",
     "output_type": "stream",
     "text": [
      "loss 0.1782 - iou 0.9424 - dice 0.9703 - accuracy 0.9744 - val_loss 0.1706 - val_iou 0.9500 - val_dice 0.9743 - val_accuracy 0.9751\n",
      "=> saved best model\n",
      "Epoch [76/100]\n"
     ]
    },
    {
     "name": "stderr",
     "output_type": "stream",
     "text": [
      "100%|█████████████████████████| 188/188 [01:18<00:00,  2.40it/s, loss=0.177, iou=0.943, dice_coef=0.971, accuracy=0.975]\n",
      "100%|█████████████████████████████| 19/19 [00:02<00:00,  8.09it/s, loss=0.17, iou=0.95, dice_coef=0.975, accuracy=0.975]\n"
     ]
    },
    {
     "name": "stdout",
     "output_type": "stream",
     "text": [
      "loss 0.1772 - iou 0.9432 - dice 0.9707 - accuracy 0.9745 - val_loss 0.1701 - val_iou 0.9504 - val_dice 0.9745 - val_accuracy 0.9751\n",
      "=> saved best model\n",
      "Epoch [77/100]\n"
     ]
    },
    {
     "name": "stderr",
     "output_type": "stream",
     "text": [
      "100%|█████████████████████████| 188/188 [01:18<00:00,  2.41it/s, loss=0.179, iou=0.943, dice_coef=0.971, accuracy=0.975]\n",
      "100%|████████████████████████████| 19/19 [00:02<00:00,  7.81it/s, loss=0.17, iou=0.951, dice_coef=0.975, accuracy=0.975]\n"
     ]
    },
    {
     "name": "stdout",
     "output_type": "stream",
     "text": [
      "loss 0.1792 - iou 0.9432 - dice 0.9707 - accuracy 0.9745 - val_loss 0.1695 - val_iou 0.9506 - val_dice 0.9746 - val_accuracy 0.9752\n",
      "=> saved best model\n",
      "Epoch [78/100]\n"
     ]
    },
    {
     "name": "stderr",
     "output_type": "stream",
     "text": [
      "100%|█████████████████████████| 188/188 [01:16<00:00,  2.47it/s, loss=0.177, iou=0.944, dice_coef=0.971, accuracy=0.975]\n",
      "100%|███████████████████████████| 19/19 [00:02<00:00,  7.95it/s, loss=0.169, iou=0.951, dice_coef=0.975, accuracy=0.975]\n"
     ]
    },
    {
     "name": "stdout",
     "output_type": "stream",
     "text": [
      "loss 0.1771 - iou 0.9438 - dice 0.9710 - accuracy 0.9746 - val_loss 0.1686 - val_iou 0.9510 - val_dice 0.9748 - val_accuracy 0.9752\n",
      "=> saved best model\n",
      "Epoch [79/100]\n"
     ]
    },
    {
     "name": "stderr",
     "output_type": "stream",
     "text": [
      "100%|█████████████████████████| 188/188 [01:18<00:00,  2.40it/s, loss=0.178, iou=0.944, dice_coef=0.971, accuracy=0.975]\n",
      "100%|███████████████████████████| 19/19 [00:02<00:00,  7.72it/s, loss=0.168, iou=0.951, dice_coef=0.975, accuracy=0.975]\n"
     ]
    },
    {
     "name": "stdout",
     "output_type": "stream",
     "text": [
      "loss 0.1778 - iou 0.9437 - dice 0.9710 - accuracy 0.9746 - val_loss 0.1684 - val_iou 0.9514 - val_dice 0.9750 - val_accuracy 0.9752\n",
      "=> saved best model\n",
      "Epoch [80/100]\n"
     ]
    },
    {
     "name": "stderr",
     "output_type": "stream",
     "text": [
      "100%|█████████████████████████| 188/188 [01:16<00:00,  2.45it/s, loss=0.177, iou=0.945, dice_coef=0.971, accuracy=0.975]\n",
      "100%|███████████████████████████| 19/19 [00:02<00:00,  7.99it/s, loss=0.168, iou=0.952, dice_coef=0.975, accuracy=0.975]\n"
     ]
    },
    {
     "name": "stdout",
     "output_type": "stream",
     "text": [
      "loss 0.1767 - iou 0.9446 - dice 0.9714 - accuracy 0.9748 - val_loss 0.1682 - val_iou 0.9518 - val_dice 0.9753 - val_accuracy 0.9753\n",
      "=> saved best model\n",
      "Epoch [81/100]\n"
     ]
    },
    {
     "name": "stderr",
     "output_type": "stream",
     "text": [
      "100%|█████████████████████████| 188/188 [01:17<00:00,  2.43it/s, loss=0.177, iou=0.945, dice_coef=0.971, accuracy=0.975]\n",
      "100%|███████████████████████████| 19/19 [00:02<00:00,  7.52it/s, loss=0.168, iou=0.952, dice_coef=0.975, accuracy=0.975]\n"
     ]
    },
    {
     "name": "stdout",
     "output_type": "stream",
     "text": [
      "loss 0.1767 - iou 0.9445 - dice 0.9714 - accuracy 0.9747 - val_loss 0.1685 - val_iou 0.9520 - val_dice 0.9754 - val_accuracy 0.9753\n",
      "=> saved best model\n",
      "Epoch [82/100]\n"
     ]
    },
    {
     "name": "stderr",
     "output_type": "stream",
     "text": [
      "100%|█████████████████████████| 188/188 [01:16<00:00,  2.44it/s, loss=0.177, iou=0.945, dice_coef=0.972, accuracy=0.975]\n",
      "100%|███████████████████████████| 19/19 [00:02<00:00,  8.01it/s, loss=0.167, iou=0.952, dice_coef=0.976, accuracy=0.975]\n"
     ]
    },
    {
     "name": "stdout",
     "output_type": "stream",
     "text": [
      "loss 0.1768 - iou 0.9449 - dice 0.9716 - accuracy 0.9748 - val_loss 0.1672 - val_iou 0.9524 - val_dice 0.9756 - val_accuracy 0.9754\n",
      "=> saved best model\n",
      "Epoch [83/100]\n"
     ]
    },
    {
     "name": "stderr",
     "output_type": "stream",
     "text": [
      "100%|█████████████████████████| 188/188 [01:18<00:00,  2.40it/s, loss=0.177, iou=0.945, dice_coef=0.972, accuracy=0.975]\n",
      "100%|███████████████████████████| 19/19 [00:02<00:00,  8.07it/s, loss=0.168, iou=0.953, dice_coef=0.976, accuracy=0.975]\n"
     ]
    },
    {
     "name": "stdout",
     "output_type": "stream",
     "text": [
      "loss 0.1768 - iou 0.9455 - dice 0.9719 - accuracy 0.9749 - val_loss 0.1677 - val_iou 0.9530 - val_dice 0.9759 - val_accuracy 0.9755\n",
      "=> saved best model\n",
      "Epoch [84/100]\n"
     ]
    },
    {
     "name": "stderr",
     "output_type": "stream",
     "text": [
      "100%|█████████████████████████| 188/188 [01:15<00:00,  2.48it/s, loss=0.176, iou=0.946, dice_coef=0.972, accuracy=0.975]\n",
      "100%|███████████████████████████| 19/19 [00:02<00:00,  8.07it/s, loss=0.168, iou=0.953, dice_coef=0.976, accuracy=0.975]\n"
     ]
    },
    {
     "name": "stdout",
     "output_type": "stream",
     "text": [
      "loss 0.1756 - iou 0.9462 - dice 0.9723 - accuracy 0.9750 - val_loss 0.1681 - val_iou 0.9531 - val_dice 0.9759 - val_accuracy 0.9755\n",
      "=> saved best model\n",
      "Epoch [85/100]\n"
     ]
    },
    {
     "name": "stderr",
     "output_type": "stream",
     "text": [
      "100%|█████████████████████████| 188/188 [01:17<00:00,  2.43it/s, loss=0.176, iou=0.946, dice_coef=0.972, accuracy=0.975]\n",
      "100%|███████████████████████████| 19/19 [00:02<00:00,  8.01it/s, loss=0.168, iou=0.954, dice_coef=0.976, accuracy=0.976]\n"
     ]
    },
    {
     "name": "stdout",
     "output_type": "stream",
     "text": [
      "loss 0.1765 - iou 0.9459 - dice 0.9721 - accuracy 0.9750 - val_loss 0.1678 - val_iou 0.9539 - val_dice 0.9763 - val_accuracy 0.9756\n",
      "=> saved best model\n",
      "Epoch [86/100]\n"
     ]
    },
    {
     "name": "stderr",
     "output_type": "stream",
     "text": [
      "100%|█████████████████████████| 188/188 [01:18<00:00,  2.40it/s, loss=0.176, iou=0.946, dice_coef=0.972, accuracy=0.975]\n",
      "100%|███████████████████████████| 19/19 [00:02<00:00,  7.90it/s, loss=0.167, iou=0.954, dice_coef=0.976, accuracy=0.976]\n"
     ]
    },
    {
     "name": "stdout",
     "output_type": "stream",
     "text": [
      "loss 0.1762 - iou 0.9459 - dice 0.9722 - accuracy 0.9749 - val_loss 0.1668 - val_iou 0.9539 - val_dice 0.9764 - val_accuracy 0.9756\n",
      "=> saved best model\n",
      "Epoch [87/100]\n"
     ]
    },
    {
     "name": "stderr",
     "output_type": "stream",
     "text": [
      "100%|█████████████████████████| 188/188 [01:16<00:00,  2.46it/s, loss=0.176, iou=0.946, dice_coef=0.972, accuracy=0.975]\n",
      "100%|███████████████████████████| 19/19 [00:02<00:00,  7.92it/s, loss=0.167, iou=0.954, dice_coef=0.976, accuracy=0.976]\n"
     ]
    },
    {
     "name": "stdout",
     "output_type": "stream",
     "text": [
      "loss 0.1765 - iou 0.9465 - dice 0.9724 - accuracy 0.9750 - val_loss 0.1667 - val_iou 0.9541 - val_dice 0.9765 - val_accuracy 0.9756\n",
      "=> saved best model\n",
      "Epoch [88/100]\n"
     ]
    },
    {
     "name": "stderr",
     "output_type": "stream",
     "text": [
      "100%|█████████████████████████| 188/188 [01:16<00:00,  2.44it/s, loss=0.175, iou=0.948, dice_coef=0.973, accuracy=0.975]\n",
      "100%|███████████████████████████| 19/19 [00:02<00:00,  7.91it/s, loss=0.166, iou=0.955, dice_coef=0.977, accuracy=0.976]\n"
     ]
    },
    {
     "name": "stdout",
     "output_type": "stream",
     "text": [
      "loss 0.1748 - iou 0.9477 - dice 0.9731 - accuracy 0.9751 - val_loss 0.1664 - val_iou 0.9547 - val_dice 0.9768 - val_accuracy 0.9757\n",
      "=> saved best model\n",
      "Epoch [89/100]\n"
     ]
    },
    {
     "name": "stderr",
     "output_type": "stream",
     "text": [
      "100%|█████████████████████████| 188/188 [01:17<00:00,  2.43it/s, loss=0.176, iou=0.948, dice_coef=0.973, accuracy=0.975]\n",
      "100%|███████████████████████████| 19/19 [00:02<00:00,  7.34it/s, loss=0.165, iou=0.955, dice_coef=0.977, accuracy=0.976]\n"
     ]
    },
    {
     "name": "stdout",
     "output_type": "stream",
     "text": [
      "loss 0.1760 - iou 0.9476 - dice 0.9731 - accuracy 0.9751 - val_loss 0.1652 - val_iou 0.9553 - val_dice 0.9771 - val_accuracy 0.9758\n",
      "=> saved best model\n",
      "Epoch [90/100]\n"
     ]
    },
    {
     "name": "stderr",
     "output_type": "stream",
     "text": [
      "100%|█████████████████████████| 188/188 [01:17<00:00,  2.43it/s, loss=0.174, iou=0.947, dice_coef=0.973, accuracy=0.975]\n",
      "100%|███████████████████████████| 19/19 [00:02<00:00,  7.92it/s, loss=0.166, iou=0.955, dice_coef=0.977, accuracy=0.976]\n"
     ]
    },
    {
     "name": "stdout",
     "output_type": "stream",
     "text": [
      "loss 0.1743 - iou 0.9474 - dice 0.9729 - accuracy 0.9751 - val_loss 0.1660 - val_iou 0.9552 - val_dice 0.9771 - val_accuracy 0.9758\n",
      "Epoch [91/100]\n"
     ]
    },
    {
     "name": "stderr",
     "output_type": "stream",
     "text": [
      "100%|█████████████████████████| 188/188 [01:16<00:00,  2.45it/s, loss=0.175, iou=0.948, dice_coef=0.973, accuracy=0.975]\n",
      "100%|███████████████████████████| 19/19 [00:02<00:00,  7.89it/s, loss=0.167, iou=0.955, dice_coef=0.977, accuracy=0.976]\n"
     ]
    },
    {
     "name": "stdout",
     "output_type": "stream",
     "text": [
      "loss 0.1753 - iou 0.9484 - dice 0.9735 - accuracy 0.9752 - val_loss 0.1672 - val_iou 0.9554 - val_dice 0.9772 - val_accuracy 0.9758\n",
      "=> saved best model\n",
      "Epoch [92/100]\n"
     ]
    },
    {
     "name": "stderr",
     "output_type": "stream",
     "text": [
      "100%|█████████████████████████| 188/188 [01:17<00:00,  2.41it/s, loss=0.175, iou=0.948, dice_coef=0.973, accuracy=0.975]\n",
      "100%|███████████████████████████| 19/19 [00:02<00:00,  8.07it/s, loss=0.166, iou=0.956, dice_coef=0.977, accuracy=0.976]\n"
     ]
    },
    {
     "name": "stdout",
     "output_type": "stream",
     "text": [
      "loss 0.1754 - iou 0.9483 - dice 0.9734 - accuracy 0.9753 - val_loss 0.1659 - val_iou 0.9557 - val_dice 0.9773 - val_accuracy 0.9758\n",
      "=> saved best model\n",
      "Epoch [93/100]\n"
     ]
    },
    {
     "name": "stderr",
     "output_type": "stream",
     "text": [
      "100%|█████████████████████████| 188/188 [01:16<00:00,  2.44it/s, loss=0.173, iou=0.949, dice_coef=0.974, accuracy=0.975]\n",
      "100%|███████████████████████████| 19/19 [00:02<00:00,  7.49it/s, loss=0.166, iou=0.956, dice_coef=0.978, accuracy=0.976]\n"
     ]
    },
    {
     "name": "stdout",
     "output_type": "stream",
     "text": [
      "loss 0.1729 - iou 0.9494 - dice 0.9740 - accuracy 0.9753 - val_loss 0.1656 - val_iou 0.9563 - val_dice 0.9777 - val_accuracy 0.9759\n",
      "=> saved best model\n",
      "Epoch [94/100]\n"
     ]
    },
    {
     "name": "stderr",
     "output_type": "stream",
     "text": [
      "100%|█████████████████████████| 188/188 [01:17<00:00,  2.42it/s, loss=0.173, iou=0.949, dice_coef=0.974, accuracy=0.975]\n",
      "100%|███████████████████████████| 19/19 [00:02<00:00,  7.49it/s, loss=0.166, iou=0.956, dice_coef=0.978, accuracy=0.976]\n"
     ]
    },
    {
     "name": "stdout",
     "output_type": "stream",
     "text": [
      "loss 0.1732 - iou 0.9493 - dice 0.9739 - accuracy 0.9754 - val_loss 0.1657 - val_iou 0.9562 - val_dice 0.9776 - val_accuracy 0.9759\n",
      "Epoch [95/100]\n"
     ]
    },
    {
     "name": "stderr",
     "output_type": "stream",
     "text": [
      "100%|██████████████████████████| 188/188 [01:16<00:00,  2.46it/s, loss=0.174, iou=0.95, dice_coef=0.974, accuracy=0.975]\n",
      "100%|███████████████████████████| 19/19 [00:02<00:00,  8.00it/s, loss=0.164, iou=0.957, dice_coef=0.978, accuracy=0.976]\n"
     ]
    },
    {
     "name": "stdout",
     "output_type": "stream",
     "text": [
      "loss 0.1736 - iou 0.9498 - dice 0.9742 - accuracy 0.9754 - val_loss 0.1645 - val_iou 0.9566 - val_dice 0.9778 - val_accuracy 0.9759\n",
      "=> saved best model\n",
      "Epoch [96/100]\n"
     ]
    },
    {
     "name": "stderr",
     "output_type": "stream",
     "text": [
      "100%|██████████████████████████| 188/188 [01:17<00:00,  2.44it/s, loss=0.173, iou=0.95, dice_coef=0.975, accuracy=0.975]\n",
      "100%|███████████████████████████| 19/19 [00:02<00:00,  7.91it/s, loss=0.165, iou=0.957, dice_coef=0.978, accuracy=0.976]\n"
     ]
    },
    {
     "name": "stdout",
     "output_type": "stream",
     "text": [
      "loss 0.1735 - iou 0.9504 - dice 0.9746 - accuracy 0.9755 - val_loss 0.1651 - val_iou 0.9568 - val_dice 0.9779 - val_accuracy 0.9759\n",
      "=> saved best model\n",
      "Epoch [97/100]\n"
     ]
    },
    {
     "name": "stderr",
     "output_type": "stream",
     "text": [
      "100%|██████████████████████████| 188/188 [01:17<00:00,  2.43it/s, loss=0.174, iou=0.95, dice_coef=0.974, accuracy=0.975]\n",
      "100%|███████████████████████████| 19/19 [00:02<00:00,  7.88it/s, loss=0.165, iou=0.956, dice_coef=0.978, accuracy=0.976]\n"
     ]
    },
    {
     "name": "stdout",
     "output_type": "stream",
     "text": [
      "loss 0.1736 - iou 0.9502 - dice 0.9744 - accuracy 0.9754 - val_loss 0.1654 - val_iou 0.9565 - val_dice 0.9777 - val_accuracy 0.9759\n",
      "Epoch [98/100]\n"
     ]
    },
    {
     "name": "stderr",
     "output_type": "stream",
     "text": [
      "100%|██████████████████████████| 188/188 [01:17<00:00,  2.43it/s, loss=0.173, iou=0.95, dice_coef=0.974, accuracy=0.975]\n",
      "100%|███████████████████████████| 19/19 [00:02<00:00,  7.89it/s, loss=0.164, iou=0.957, dice_coef=0.978, accuracy=0.976]\n"
     ]
    },
    {
     "name": "stdout",
     "output_type": "stream",
     "text": [
      "loss 0.1732 - iou 0.9497 - dice 0.9742 - accuracy 0.9754 - val_loss 0.1644 - val_iou 0.9570 - val_dice 0.9780 - val_accuracy 0.9760\n",
      "=> saved best model\n",
      "Epoch [99/100]\n"
     ]
    },
    {
     "name": "stderr",
     "output_type": "stream",
     "text": [
      "100%|█████████████████████████| 188/188 [01:16<00:00,  2.45it/s, loss=0.173, iou=0.951, dice_coef=0.975, accuracy=0.976]\n",
      "100%|███████████████████████████| 19/19 [00:02<00:00,  7.93it/s, loss=0.164, iou=0.957, dice_coef=0.978, accuracy=0.976]"
     ]
    },
    {
     "name": "stdout",
     "output_type": "stream",
     "text": [
      "loss 0.1733 - iou 0.9513 - dice 0.9750 - accuracy 0.9756 - val_loss 0.1645 - val_iou 0.9575 - val_dice 0.9783 - val_accuracy 0.9760\n",
      "=> saved best model\n"
     ]
    },
    {
     "name": "stderr",
     "output_type": "stream",
     "text": [
      "\n"
     ]
    }
   ],
   "source": [
    "from src.train_val_test import train, evaluate\n",
    "from collections import OrderedDict\n",
    "\n",
    "log = OrderedDict([\n",
    "    ('epoch', []),\n",
    "    ('loss', []),\n",
    "    ('iou', []),\n",
    "    ('dice',[]),\n",
    "    ('accuracy',[]),\n",
    "    ('val_loss', []),\n",
    "    ('val_iou', []),\n",
    "    ('val_dice',[]),\n",
    "    ('val_accuracy',[])\n",
    "])\n",
    "\n",
    "best_dice = 0\n",
    "trigger = 0\n",
    "for epoch in range(config['epochs']):\n",
    "    print('Epoch [%d/%d]' % (epoch, config['epochs']))\n",
    "\n",
    "    # train for one epoch\n",
    "    train_log = train(config, model, train_iterator, criterion, optimizer, config['deep_supervision'], device)\n",
    "    # evaluate on validation set\n",
    "    val_log = evaluate(config, model, val_iterator, criterion, config['deep_supervision'], device)\n",
    "\n",
    "    print('loss %.4f - iou %.4f - dice %.4f - accuracy %.4f - val_loss %.4f - val_iou %.4f - val_dice %.4f - val_accuracy %.4f'\n",
    "          % (train_log['loss'], train_log['iou'], train_log['dice_coef'], train_log['accuracy'],\n",
    "             val_log['loss'], val_log['iou'], val_log['dice_coef'], val_log['accuracy']))\n",
    "\n",
    "    log['epoch'].append(epoch)\n",
    "    log['loss'].append(train_log['loss'])\n",
    "    log['iou'].append(train_log['iou'])\n",
    "    log['dice'].append(train_log['dice_coef'])\n",
    "    log['accuracy'].append(train_log['accuracy'])\n",
    "    log['val_loss'].append(val_log['loss'])\n",
    "    log['val_iou'].append(val_log['iou'])\n",
    "    log['val_dice'].append(val_log['dice_coef'])\n",
    "    log['val_accuracy'].append(val_log['accuracy'])\n",
    "    \n",
    "    pd.DataFrame(log).to_csv('models/%s/log.csv' %\n",
    "                             config['name'], index=False)\n",
    "\n",
    "    trigger += 1\n",
    "\n",
    "    if val_log['dice_coef'] > best_dice:\n",
    "        torch.save(model.state_dict(), 'models/%s/model.pth' %\n",
    "                   config['name'])\n",
    "        best_dice = val_log['dice_coef']\n",
    "        print(\"=> saved best model\")\n",
    "        trigger = 0\n",
    "\n",
    "    # Reduce learning rate when validation metric stops improving\n",
    "    scheduler.step(val_log['loss'])\n",
    "\n",
    "    # early stopping\n",
    "    if config['early_stopping'] >= 0 and trigger >= config['early_stopping']:\n",
    "        print(\"=> early stopping\")\n",
    "        break\n",
    "\n",
    "    torch.cuda.empty_cache()"
   ]
  },
  {
   "cell_type": "code",
   "execution_count": 88,
   "id": "d80feb91-12ad-4640-a38a-4ced108bbc2d",
   "metadata": {},
   "outputs": [
    {
     "name": "stderr",
     "output_type": "stream",
     "text": [
      "100%|███████████████████████████| 25/25 [00:02<00:00,  9.54it/s, loss=0.255, iou=0.738, dice_coef=0.848, accuracy=0.943]"
     ]
    },
    {
     "name": "stdout",
     "output_type": "stream",
     "text": [
      "test_loss 0.2551 - test_iou 0.7383 - test_dice 0.8482 - test_accuracy 0.9431\n"
     ]
    },
    {
     "name": "stderr",
     "output_type": "stream",
     "text": [
      "\n"
     ]
    }
   ],
   "source": [
    "test_log = evaluate(config, model, test_iterator, criterion, config['deep_supervision'], device)\n",
    "\n",
    "pd.DataFrame([test_log]).to_csv('models/%s/test_log.csv' % config['name'])\n",
    "\n",
    "print('test_loss %.4f - test_iou %.4f - test_dice %.4f - test_accuracy %.4f'\n",
    "          % (test_log['loss'], test_log['iou'], test_log['dice_coef'], test_log['accuracy']))"
   ]
  },
  {
   "cell_type": "code",
   "execution_count": 107,
   "id": "12877654-5bd5-4c2d-b4f5-d7d6b1350bae",
   "metadata": {},
   "outputs": [
    {
     "data": {
      "image/png": "[encoded data removed]",
      "text/plain": [
       "<Figure size 1200x1200 with 4 Axes>"
      ]
     },
     "metadata": {},
     "output_type": "display_data"
    }
   ],
   "source": [
    "import matplotlib.pyplot as plt\n",
    "import pandas as pd\n",
    "\n",
    "# Read the CSV file into a DataFrame\n",
    "df = pd.read_csv('models/DiceLoss_try_NonAug/log.csv')\n",
    "test = pd.read_csv('models/DiceLoss_try_NonAug/test_log.csv')\n",
    "\n",
    "# Test values for loss, IoU, and Dice coefficients\n",
    "test_loss = test['loss'].item()  \n",
    "test_iou = test['iou'].item() \n",
    "test_dice = test['dice_coef'].item() \n",
    "test_accuracy = test['accuracy'].item() \n",
    "\n",
    "# Create a figure and subplots\n",
    "fig, ((ax1, ax2), (ax3, ax4)) = plt.subplots(2, 2, figsize=(12, 12))\n",
    "\n",
    "# Plot the loss features in the first subplot\n",
    "ax1.plot(df['epoch'], df['loss'], label='Training Loss')\n",
    "ax1.plot(df['epoch'], df['val_loss'], label='Validation Loss')\n",
    "ax1.axhline(y=test_loss, color='r', linestyle='--', label='Test Loss')\n",
    "ax1.annotate(f'{test_loss:.2f}', xy=(90, test_loss+0.005), color='r')\n",
    "ax1.set_title('Loss Metrics')\n",
    "ax1.set_xlabel('Epoch')\n",
    "ax1.set_ylabel('Loss')\n",
    "ax1.legend()\n",
    "\n",
    "ax2.plot(df['epoch'], df['accuracy'], label='Training Accuracy')\n",
    "ax2.plot(df['epoch'], df['val_accuracy'], label='Validation Accuracy')\n",
    "ax2.axhline(y=test_accuracy, color='r', linestyle='--', label='Test Accuracy')\n",
    "ax2.annotate(f'{test_accuracy:.2f}', xy=(90, test_accuracy+0.002), color='r')\n",
    "ax2.set_title('Accuracy Metrics')\n",
    "ax2.set_xlabel('Epoch')\n",
    "ax2.set_ylabel('Accuracy')\n",
    "ax2.legend()\n",
    "\n",
    "ax3.plot(df['epoch'], df['iou'], label='Training IoU')\n",
    "ax3.plot(df['epoch'], df['val_iou'], label='Validation IoU')\n",
    "ax3.axhline(y=test_iou, color='r', linestyle='--', label='Test IoU')\n",
    "ax3.annotate(f'{test_iou:.2f}', xy=(90, test_iou+0.003), color='r')\n",
    "ax3.set_title('IoU Metrics')\n",
    "ax3.set_xlabel('Epoch')\n",
    "ax3.set_ylabel('IoU')\n",
    "ax3.legend()\n",
    "\n",
    "ax4.plot(df['epoch'], df['dice'], label='Training Dice')\n",
    "ax4.plot(df['epoch'], df['val_dice'], label='Validation Dice')\n",
    "ax4.axhline(y=test_dice, color='r', linestyle='--', label='Test Dice')\n",
    "ax4.annotate(f'{test_dice:.2f}', xy=(90, test_dice+0.005), color='r')\n",
    "ax4.set_title('Dice Metrics')\n",
    "ax4.set_xlabel('Epoch')\n",
    "ax4.set_ylabel('Dice')\n",
    "ax4.legend()\n",
    "\n",
    "fig.suptitle(\"UNET++ with DiceLoss and without Data Augmentation\")\n",
    "# Adjust the spacing between subplots\n",
    "plt.tight_layout()\n",
    "\n",
    "plt.savefig(\"results/DiceLoss_NonAug.png\")\n",
    "# Display the plot\n",
    "plt.show()"
   ]
  },
  {
   "cell_type": "code",
   "execution_count": null,
   "id": "b1f23e13-3c36-469c-8e3e-88232c683f0e",
   "metadata": {},
   "outputs": [],
   "source": []
  },
  {
   "cell_type": "code",
   "execution_count": null,
   "id": "9e805e4e-d78f-4bc0-be2b-fd0dd7a0187c",
   "metadata": {},
   "outputs": [],
   "source": []
  },
  {
   "cell_type": "code",
   "execution_count": null,
   "id": "9b99ef2b-2d39-4cff-8441-2df0f72ef341",
   "metadata": {},
   "outputs": [],
   "source": []
  },
  {
   "cell_type": "code",
   "execution_count": null,
   "id": "e67800e5-f217-4d8b-8a7c-9800e83d0efc",
   "metadata": {},
   "outputs": [],
   "source": []
  },
  {
   "cell_type": "code",
   "execution_count": null,
   "id": "e407c7cf-11d9-4922-b8c5-991eb68f9779",
   "metadata": {},
   "outputs": [],
   "source": []
  },
  {
   "cell_type": "code",
   "execution_count": null,
   "id": "98cee265-15d5-4a16-a673-78c37fcd17e4",
   "metadata": {},
   "outputs": [],
   "source": []
  },
  {
   "cell_type": "code",
   "execution_count": null,
   "id": "78dc5e87-0f51-41e8-8af1-6289254e325a",
   "metadata": {},
   "outputs": [],
   "source": []
  },
  {
   "cell_type": "code",
   "execution_count": null,
   "id": "70f54ce7-73cf-4e44-bec7-7dff7ebc658a",
   "metadata": {},
   "outputs": [],
   "source": []
  },
  {
   "cell_type": "code",
   "execution_count": null,
   "id": "97ae5a15-573f-43f8-8d09-1fffd5f6d078",
   "metadata": {},
   "outputs": [],
   "source": []
  },
  {
   "cell_type": "code",
   "execution_count": null,
   "id": "eb430f3a-3e9c-453d-87a4-6cf63aa642f5",
   "metadata": {},
   "outputs": [],
   "source": []
  },
  {
   "cell_type": "code",
   "execution_count": null,
   "id": "4dfcf1b3-8f2d-41b5-ba6c-1e1e34967be8",
   "metadata": {},
   "outputs": [],
   "source": []
  },
  {
   "cell_type": "code",
   "execution_count": null,
   "id": "b62026f2-8544-46f7-9b35-1786589a0b43",
   "metadata": {},
   "outputs": [],
   "source": []
  },
  {
   "cell_type": "code",
   "execution_count": null,
   "id": "3dccf718-6cc5-4872-a8b7-14744e8c0e31",
   "metadata": {},
   "outputs": [],
   "source": []
  },
  {
   "cell_type": "code",
   "execution_count": null,
   "id": "b0811f68-a50d-41a9-b94f-6f47a1e20822",
   "metadata": {},
   "outputs": [],
   "source": []
  },
  {
   "cell_type": "code",
   "execution_count": null,
   "id": "951cc938-6815-48aa-9632-78eacc1ca996",
   "metadata": {},
   "outputs": [],
   "source": []
  },
  {
   "cell_type": "code",
   "execution_count": null,
   "id": "2b49b980-fadc-4731-b604-17d12e2c2a77",
   "metadata": {},
   "outputs": [],
   "source": []
  }
 ],
 "metadata": {
  "kernelspec": {
   "display_name": "Python 3 (ipykernel)",
   "language": "python",
   "name": "python3"
  },
  "language_info": {
   "codemirror_mode": {
    "name": "ipython",
    "version": 3
   },
   "file_extension": ".py",
   "mimetype": "text/x-python",
   "name": "python",
   "nbconvert_exporter": "python",
   "pygments_lexer": "ipython3",
   "version": "3.10.12"
  }
 },
 "nbformat": 4,
 "nbformat_minor": 5
}
