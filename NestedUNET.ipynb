{
 "cells": [
  {
   "cell_type": "code",
   "execution_count": 1,
   "id": "f6ad9121-d295-4262-95d6-6bafb6a6ea24",
   "metadata": {},
   "outputs": [],
   "source": [
    "import numpy as np\n",
    "import pandas as pd\n",
    "import random\n",
    "import torch"
   ]
  },
  {
   "cell_type": "markdown",
   "id": "fd86e08a-1793-417a-adb0-a7d393d96de9",
   "metadata": {
    "id": "n6MrmYKPOPHQ"
   },
   "source": [
    "Lets dynamically choose type of device to use for our computations. To run on your own GPU one needs to install pytorch and cuda-toolkit."
   ]
  },
  {
   "cell_type": "code",
   "execution_count": 2,
   "id": "c5a98662-e156-4ebb-984a-f57102ced797",
   "metadata": {
    "colab": {
     "base_uri": "https://localhost:8080/"
    },
    "id": "3ooJw43yONE2",
    "outputId": "afe428b8-b6b9-404f-9a21-b8175e5aeb7f"
   },
   "outputs": [
    {
     "name": "stdout",
     "output_type": "stream",
     "text": [
      "True\n"
     ]
    }
   ],
   "source": [
    "print(torch.cuda.is_available())\n",
    "device = torch.device(\"cuda\") if torch.cuda.is_available() else torch.device(\"cpu\")"
   ]
  },
  {
   "cell_type": "code",
   "execution_count": 3,
   "id": "eb2f9bc2-d877-4384-a1c1-64557b083917",
   "metadata": {},
   "outputs": [
    {
     "name": "stderr",
     "output_type": "stream",
     "text": [
      "/home/antoni_valls/CV/Kvasir-Semantic-Segmentation/.venv/lib/python3.10/site-packages/torch/cuda/__init__.py:619: UserWarning: Can't initialize NVML\n",
      "  warnings.warn(\"Can't initialize NVML\")\n"
     ]
    },
    {
     "data": {
      "text/plain": [
       "_CudaDeviceProperties(name='NVIDIA GeForce RTX 2080 Ti', major=7, minor=5, total_memory=10824MB, multi_processor_count=68)"
      ]
     },
     "execution_count": 3,
     "metadata": {},
     "output_type": "execute_result"
    }
   ],
   "source": [
    "torch.cuda.get_device_properties(device)"
   ]
  },
  {
   "cell_type": "markdown",
   "id": "d5a44df4-7501-4d28-9480-3717d3565b00",
   "metadata": {},
   "source": [
    "Define the seed for reproductivity:"
   ]
  },
  {
   "cell_type": "code",
   "execution_count": 4,
   "id": "b6355a90-bdb9-4082-b08b-2eff47aa47db",
   "metadata": {
    "id": "5iDI_mz8N1qn"
   },
   "outputs": [],
   "source": [
    "def set_seed(seed, use_gpu = True):\n",
    "    \"\"\"\n",
    "    Set SEED for PyTorch reproducibility\n",
    "    \"\"\"\n",
    "    random.seed(seed)\n",
    "    np.random.seed(seed)\n",
    "    torch.manual_seed(seed)\n",
    "    if use_gpu:\n",
    "        torch.cuda.manual_seed_all(seed)\n",
    "        torch.cuda.manual_seed(seed)\n",
    "        torch.backends.cudnn.deterministic = True\n",
    "        torch.backends.cudnn.benchmark = False\n",
    "\n",
    "SEED = 196\n",
    "USE_SEED = True\n",
    "if USE_SEED:\n",
    "    set_seed(SEED, torch.cuda.is_available())"
   ]
  },
  {
   "cell_type": "markdown",
   "id": "857f3e65-9609-4d0b-acd0-e0a8cd4370c5",
   "metadata": {},
   "source": [
    "**Load the images and masks**"
   ]
  },
  {
   "cell_type": "code",
   "execution_count": 5,
   "id": "7d1a0c63-4849-4005-b580-278ec239e866",
   "metadata": {},
   "outputs": [
    {
     "name": "stdin",
     "output_type": "stream",
     "text": [
      "Data augmentation? (y/n) y\n"
     ]
    }
   ],
   "source": [
    "augmented = input(\"Data augmentation? (y/n)\")\n",
    "\n",
    "if augmented == \"y\":\n",
    "    train_images = np.load(\"data/data/train_augmented/combined_images.npy\")\n",
    "    train_masks = np.load(\"data/data/train_augmented/combined_masks.npy\")\n",
    "\n",
    "elif augmented == \"n\":\n",
    "    train_images = np.load(\"data/data/train_nonaugmented/train_images.npy\")\n",
    "    train_masks = np.load(\"data/data/train_nonaugmented/train_masks.npy\")\n",
    "\n",
    "else:\n",
    "    raise ValueError(f\"Only 'y' or 'n' \")\n",
    "\n",
    "test_images = np.load(\"data/data/test/test_images.npy\")\n",
    "test_masks = np.load(\"data/data/test/test_masks.npy\")"
   ]
  },
  {
   "cell_type": "code",
   "execution_count": 6,
   "id": "013f98f7-1cab-4b72-bcbf-968862eafbba",
   "metadata": {},
   "outputs": [
    {
     "name": "stdout",
     "output_type": "stream",
     "text": [
      "Train images shape: (3500, 256, 256, 3)\n",
      "Test images shape: (300, 256, 256, 3)\n",
      "Train masks shape: (3500, 256, 256, 1)\n",
      "Test masks shape: (300, 256, 256, 1)\n"
     ]
    }
   ],
   "source": [
    "print(\"Train images shape:\", train_images.shape)\n",
    "print(\"Test images shape:\", test_images.shape)\n",
    "print(\"Train masks shape:\", train_masks.shape)\n",
    "print(\"Test masks shape:\", test_masks.shape)"
   ]
  },
  {
   "cell_type": "markdown",
   "id": "240df45e-47c8-43d8-98ab-a9ce2f5c6ece",
   "metadata": {},
   "source": [
    "**Standaritzation**"
   ]
  },
  {
   "cell_type": "code",
   "execution_count": 7,
   "id": "3086adf4-db6d-48d1-9f9d-59e998ebad47",
   "metadata": {},
   "outputs": [
    {
     "name": "stdout",
     "output_type": "stream",
     "text": [
      "-----  NORMALIZATION VALUES  -----\n",
      "Mean (RGB): [0.56289435 0.33033543 0.24323519]\n",
      "Standard Deviation (RGB): [0.31274417 0.23138525 0.19586279]\n"
     ]
    }
   ],
   "source": [
    "mean = np.mean(train_images, axis = (0,1,2)) / 255\n",
    "std = np.std(train_images, axis = (0,1,2)) / 255\n",
    "\n",
    "print(\"-----  NORMALIZATION VALUES  -----\")\n",
    "print(f\"Mean (RGB): {mean}\")\n",
    "print(f\"Standard Deviation (RGB): {std}\")"
   ]
  },
  {
   "cell_type": "code",
   "execution_count": 8,
   "id": "12a4490c-8028-43ba-a7e3-2c3d0c5ba29e",
   "metadata": {},
   "outputs": [],
   "source": [
    "import torchvision\n",
    "import torchvision.transforms as transforms\n",
    "\n",
    "transforms = torchvision.transforms.Compose([\n",
    "    torchvision.transforms.ToTensor(),  # Convert the image to a PyTorch tensor and normalize it between [0, 1]\n",
    "    torchvision.transforms.Normalize(mean, std)  # Normalize the tensor using the provided mean and standard deviation\n",
    "])"
   ]
  },
  {
   "cell_type": "markdown",
   "id": "b9c8e4bf-cd07-400a-98a5-bd859de4a613",
   "metadata": {},
   "source": [
    "**Validation set**"
   ]
  },
  {
   "cell_type": "code",
   "execution_count": 9,
   "id": "3be31073-1bd1-4ddd-8c25-97d7a83904db",
   "metadata": {
    "colab": {
     "base_uri": "https://localhost:8080/"
    },
    "id": "3bY2e4kp_9BR",
    "outputId": "350540c0-b2dc-4464-df8c-5579b72f3391",
    "scrolled": true
   },
   "outputs": [
    {
     "name": "stdout",
     "output_type": "stream",
     "text": [
      "Training Images Shape: (3500, 256, 256, 3)\n",
      "Training Masks Shape: (3500, 256, 256, 1)\n",
      "Validation Images Shape: (120, 256, 256, 3)\n",
      "Validation Masks Shape: (120, 256, 256, 1)\n",
      "Number of Train Examples: 3500\n",
      "Number of Validation Examples: 120\n",
      "Number of Test Examples: 180\n"
     ]
    }
   ],
   "source": [
    "from sklearn.model_selection import train_test_split\n",
    "\n",
    "#Validation set (40%) of the testing images\n",
    "testing_images, val_images, testing_masks, val_masks = train_test_split(\n",
    "    test_images, test_masks, test_size=0.4, random_state=42)\n",
    "\n",
    "# Check shape of training images and masks\n",
    "print(\"Training Images Shape:\", train_images.shape)\n",
    "print(\"Training Masks Shape:\", train_masks.shape)\n",
    "\n",
    "# Check shape of validation images and masks\n",
    "print(\"Validation Images Shape:\", val_images.shape)\n",
    "print(\"Validation Masks Shape:\", val_masks.shape)\n",
    "\n",
    "# Check length of training and validation sets\n",
    "print(\"Number of Train Examples:\", len(train_images))\n",
    "print(\"Number of Validation Examples:\", len(val_images))\n",
    "print(\"Number of Test Examples:\", len(testing_images))"
   ]
  },
  {
   "cell_type": "code",
   "execution_count": 10,
   "id": "aee261a9-8a27-4a41-9ec7-dbdbfd44bda7",
   "metadata": {},
   "outputs": [],
   "source": [
    "from src.preprocess import KvasirDataset\n",
    "\n",
    "# Create KvasirDataset objects for train, validation and test sets\n",
    "train_dataset = KvasirDataset(images=train_images, masks=train_masks, transforms=transforms)\n",
    "val_dataset = KvasirDataset(images=val_images,masks=val_masks, transforms=transforms)\n",
    "test_dataset = KvasirDataset(images=testing_images, masks=testing_masks, transforms=transforms) \n"
   ]
  },
  {
   "cell_type": "markdown",
   "id": "12686a1a-38e0-438f-9ebb-a7f65621a91d",
   "metadata": {},
   "source": [
    "**Define the model**"
   ]
  },
  {
   "cell_type": "code",
   "execution_count": 11,
   "id": "a9b7ac48-738c-47c7-8de4-235b5d8b5c71",
   "metadata": {},
   "outputs": [],
   "source": [
    "config = {}\n",
    "config['name']='DiceLoss_try_Aug'\n",
    "config['epochs']=100\n",
    "config['batch_size']=16\n",
    "config['arch']='NestedUNet'\n",
    "config['deep_supervision']=True\n",
    "config['input_channels']=3\n",
    "config['num_classes']=1\n",
    "config['early_stopping']=10 # 10 epochs without improving the dice coefficient\n",
    "#config['input_w']=128\n",
    "#config['input_h']=128\n"
   ]
  },
  {
   "cell_type": "code",
   "execution_count": 12,
   "id": "8c60e0c8-abc1-448f-bf64-48ba5797c66c",
   "metadata": {},
   "outputs": [],
   "source": [
    "from torch.utils.data import DataLoader\n",
    "\n",
    "train_iterator = DataLoader(train_dataset, batch_size=config['batch_size'], shuffle=True)\n",
    "test_iterator = DataLoader(test_dataset, batch_size=config['batch_size'])\n",
    "val_iterator = DataLoader(val_dataset,batch_size=config['batch_size'])"
   ]
  },
  {
   "cell_type": "code",
   "execution_count": 13,
   "id": "f1d69ed0-90ca-41ed-a570-fd85590f4d7a",
   "metadata": {},
   "outputs": [
    {
     "name": "stdout",
     "output_type": "stream",
     "text": [
      "The model has 2,264,899 trainable parameters.\n"
     ]
    }
   ],
   "source": [
    "from src.main import NestedUNet\n",
    "from src.utils import count_parameters\n",
    "\n",
    "model = NestedUNet(config)\n",
    "print(f\"The model has {count_parameters(model):,} trainable parameters.\")"
   ]
  },
  {
   "cell_type": "code",
   "execution_count": 14,
   "id": "3f5002af-adc9-466d-8710-bb026e56c2ea",
   "metadata": {},
   "outputs": [],
   "source": [
    "model = model.to(device)"
   ]
  },
  {
   "cell_type": "code",
   "execution_count": 15,
   "id": "a8f28d1f-e1d9-43d9-a984-d8a924ad734d",
   "metadata": {},
   "outputs": [
    {
     "name": "stderr",
     "output_type": "stream",
     "text": [
      "/home/antoni_valls/CV/Kvasir-Semantic-Segmentation/.venv/lib/python3.10/site-packages/torch/optim/lr_scheduler.py:28: UserWarning: The verbose parameter is deprecated. Please use get_last_lr() to access the learning rate.\n",
      "  warnings.warn(\"The verbose parameter is deprecated. Please use get_last_lr() \"\n"
     ]
    }
   ],
   "source": [
    "from src.loss import DiceLoss, IoULoss, BCEDiceLoss\n",
    "import torch.optim as optim\n",
    "from torch.optim.lr_scheduler import ReduceLROnPlateau\n",
    "\n",
    "criterion = DiceLoss().to(device)\n",
    "optimizer = optim.Adam(model.parameters(), lr=1e-4) \n",
    "scheduler = ReduceLROnPlateau(optimizer, factor=0.1, patience=5, verbose=True)"
   ]
  },
  {
   "cell_type": "code",
   "execution_count": null,
   "id": "a209d906-894a-475f-86c5-3770c872d67a",
   "metadata": {},
   "outputs": [
    {
     "name": "stdout",
     "output_type": "stream",
     "text": [
      "Epoch [0/100]\n"
     ]
    },
    {
     "name": "stderr",
     "output_type": "stream",
     "text": [
      "100%|█████████████████████████| 219/219 [01:13<00:00,  2.99it/s, loss=0.677, iou=0.203, dice_coef=0.336, accuracy=0.552]\n",
      "100%|█████████████████████████████| 8/8 [00:00<00:00,  9.89it/s, loss=0.663, iou=0.202, dice_coef=0.335, accuracy=0.688]\n"
     ]
    },
    {
     "name": "stdout",
     "output_type": "stream",
     "text": [
      "loss 0.6775 - iou 0.2035 - dice 0.3364 - accuracy 0.5521 - val_loss 0.6627 - val_iou 0.2016 - val_dice 0.3349 - val_accuracy 0.6875\n",
      "=> saved best model\n",
      "Epoch [1/100]\n"
     ]
    },
    {
     "name": "stderr",
     "output_type": "stream",
     "text": [
      "100%|██████████████████████████| 219/219 [01:18<00:00,  2.78it/s, loss=0.633, iou=0.24, dice_coef=0.386, accuracy=0.628]\n",
      "100%|█████████████████████████████| 8/8 [00:00<00:00,  9.49it/s, loss=0.634, iou=0.234, dice_coef=0.379, accuracy=0.727]\n"
     ]
    },
    {
     "name": "stdout",
     "output_type": "stream",
     "text": [
      "loss 0.6326 - iou 0.2403 - dice 0.3857 - accuracy 0.6275 - val_loss 0.6340 - val_iou 0.2340 - val_dice 0.3787 - val_accuracy 0.7267\n",
      "=> saved best model\n",
      "Epoch [2/100]\n"
     ]
    },
    {
     "name": "stderr",
     "output_type": "stream",
     "text": [
      "100%|█████████████████████████| 219/219 [01:24<00:00,  2.58it/s, loss=0.599, iou=0.271, dice_coef=0.424, accuracy=0.675]\n",
      "100%|█████████████████████████████| 8/8 [00:01<00:00,  7.98it/s, loss=0.591, iou=0.278, dice_coef=0.434, accuracy=0.722]\n"
     ]
    },
    {
     "name": "stdout",
     "output_type": "stream",
     "text": [
      "loss 0.5988 - iou 0.2709 - dice 0.4243 - accuracy 0.6754 - val_loss 0.5905 - val_iou 0.2777 - val_dice 0.4337 - val_accuracy 0.7217\n",
      "=> saved best model\n",
      "Epoch [3/100]\n"
     ]
    },
    {
     "name": "stderr",
     "output_type": "stream",
     "text": [
      "100%|█████████████████████████| 219/219 [01:30<00:00,  2.43it/s, loss=0.567, iou=0.304, dice_coef=0.464, accuracy=0.725]\n",
      "100%|█████████████████████████████| 8/8 [00:00<00:00,  8.17it/s, loss=0.564, iou=0.306, dice_coef=0.468, accuracy=0.801]\n"
     ]
    },
    {
     "name": "stdout",
     "output_type": "stream",
     "text": [
      "loss 0.5666 - iou 0.3044 - dice 0.4643 - accuracy 0.7249 - val_loss 0.5643 - val_iou 0.3059 - val_dice 0.4677 - val_accuracy 0.8006\n",
      "=> saved best model\n",
      "Epoch [4/100]\n"
     ]
    },
    {
     "name": "stderr",
     "output_type": "stream",
     "text": [
      "100%|█████████████████████████| 219/219 [01:31<00:00,  2.40it/s, loss=0.532, iou=0.343, dice_coef=0.509, accuracy=0.771]\n",
      "100%|█████████████████████████████| 8/8 [00:00<00:00,  8.13it/s, loss=0.536, iou=0.328, dice_coef=0.493, accuracy=0.757]\n"
     ]
    },
    {
     "name": "stdout",
     "output_type": "stream",
     "text": [
      "loss 0.5322 - iou 0.3434 - dice 0.5088 - accuracy 0.7713 - val_loss 0.5359 - val_iou 0.3283 - val_dice 0.4932 - val_accuracy 0.7569\n",
      "=> saved best model\n",
      "Epoch [5/100]\n"
     ]
    },
    {
     "name": "stderr",
     "output_type": "stream",
     "text": [
      "100%|███████████████████████████| 219/219 [01:31<00:00,  2.40it/s, loss=0.5, iou=0.385, dice_coef=0.553, accuracy=0.813]\n",
      "100%|█████████████████████████████| 8/8 [00:00<00:00,  8.17it/s, loss=0.492, iou=0.389, dice_coef=0.559, accuracy=0.864]\n"
     ]
    },
    {
     "name": "stdout",
     "output_type": "stream",
     "text": [
      "loss 0.4997 - iou 0.3855 - dice 0.5533 - accuracy 0.8134 - val_loss 0.4923 - val_iou 0.3894 - val_dice 0.5592 - val_accuracy 0.8637\n",
      "=> saved best model\n",
      "Epoch [6/100]\n"
     ]
    },
    {
     "name": "stderr",
     "output_type": "stream",
     "text": [
      "100%|█████████████████████████| 219/219 [01:29<00:00,  2.44it/s, loss=0.466, iou=0.432, dice_coef=0.601, accuracy=0.858]\n",
      "100%|█████████████████████████████| 8/8 [00:01<00:00,  7.19it/s, loss=0.474, iou=0.429, dice_coef=0.598, accuracy=0.876]\n"
     ]
    },
    {
     "name": "stdout",
     "output_type": "stream",
     "text": [
      "loss 0.4657 - iou 0.4317 - dice 0.6008 - accuracy 0.8581 - val_loss 0.4735 - val_iou 0.4285 - val_dice 0.5981 - val_accuracy 0.8756\n",
      "=> saved best model\n",
      "Epoch [7/100]\n"
     ]
    },
    {
     "name": "stderr",
     "output_type": "stream",
     "text": [
      "100%|██████████████████████████| 219/219 [01:31<00:00,  2.39it/s, loss=0.437, iou=0.477, dice_coef=0.643, accuracy=0.89]\n",
      "100%|██████████████████████████████| 8/8 [00:01<00:00,  7.79it/s, loss=0.487, iou=0.38, dice_coef=0.549, accuracy=0.805]\n"
     ]
    },
    {
     "name": "stdout",
     "output_type": "stream",
     "text": [
      "loss 0.4373 - iou 0.4768 - dice 0.6429 - accuracy 0.8896 - val_loss 0.4868 - val_iou 0.3804 - val_dice 0.5491 - val_accuracy 0.8050\n",
      "Epoch [8/100]\n"
     ]
    },
    {
     "name": "stderr",
     "output_type": "stream",
     "text": [
      "100%|█████████████████████████| 219/219 [01:31<00:00,  2.40it/s, loss=0.409, iou=0.524, dice_coef=0.685, accuracy=0.902]\n",
      "100%|█████████████████████████████| 8/8 [00:00<00:00,  8.43it/s, loss=0.424, iou=0.499, dice_coef=0.665, accuracy=0.899]\n"
     ]
    },
    {
     "name": "stdout",
     "output_type": "stream",
     "text": [
      "loss 0.4094 - iou 0.5237 - dice 0.6849 - accuracy 0.9019 - val_loss 0.4240 - val_iou 0.4991 - val_dice 0.6646 - val_accuracy 0.8986\n",
      "=> saved best model\n",
      "Epoch [9/100]\n"
     ]
    },
    {
     "name": "stderr",
     "output_type": "stream",
     "text": [
      "100%|███████████████████████████| 219/219 [01:31<00:00,  2.39it/s, loss=0.386, iou=0.565, dice_coef=0.72, accuracy=0.91]\n",
      "100%|██████████████████████████████| 8/8 [00:00<00:00,  8.13it/s, loss=0.405, iou=0.525, dice_coef=0.687, accuracy=0.91]\n"
     ]
    },
    {
     "name": "stdout",
     "output_type": "stream",
     "text": [
      "loss 0.3856 - iou 0.5649 - dice 0.7195 - accuracy 0.9104 - val_loss 0.4052 - val_iou 0.5254 - val_dice 0.6873 - val_accuracy 0.9102\n",
      "=> saved best model\n",
      "Epoch [10/100]\n"
     ]
    },
    {
     "name": "stderr",
     "output_type": "stream",
     "text": [
      "100%|█████████████████████████| 219/219 [01:31<00:00,  2.40it/s, loss=0.369, iou=0.592, dice_coef=0.741, accuracy=0.914]\n",
      "100%|██████████████████████████████| 8/8 [00:00<00:00,  8.26it/s, loss=0.39, iou=0.567, dice_coef=0.722, accuracy=0.907]\n"
     ]
    },
    {
     "name": "stdout",
     "output_type": "stream",
     "text": [
      "loss 0.3693 - iou 0.5916 - dice 0.7410 - accuracy 0.9145 - val_loss 0.3896 - val_iou 0.5670 - val_dice 0.7219 - val_accuracy 0.9066\n",
      "=> saved best model\n",
      "Epoch [11/100]\n"
     ]
    },
    {
     "name": "stderr",
     "output_type": "stream",
     "text": [
      "100%|█████████████████████████| 219/219 [01:30<00:00,  2.42it/s, loss=0.353, iou=0.623, dice_coef=0.765, accuracy=0.921]\n",
      "100%|█████████████████████████████| 8/8 [00:00<00:00,  8.22it/s, loss=0.375, iou=0.574, dice_coef=0.728, accuracy=0.915]\n"
     ]
    },
    {
     "name": "stdout",
     "output_type": "stream",
     "text": [
      "loss 0.3532 - iou 0.6228 - dice 0.7654 - accuracy 0.9209 - val_loss 0.3745 - val_iou 0.5741 - val_dice 0.7279 - val_accuracy 0.9150\n",
      "=> saved best model\n",
      "Epoch [12/100]\n"
     ]
    },
    {
     "name": "stderr",
     "output_type": "stream",
     "text": [
      "100%|█████████████████████████| 219/219 [01:30<00:00,  2.41it/s, loss=0.341, iou=0.646, dice_coef=0.783, accuracy=0.924]\n",
      "100%|█████████████████████████████| 8/8 [00:00<00:00,  8.22it/s, loss=0.378, iou=0.583, dice_coef=0.734, accuracy=0.908]\n"
     ]
    },
    {
     "name": "stdout",
     "output_type": "stream",
     "text": [
      "loss 0.3408 - iou 0.6461 - dice 0.7829 - accuracy 0.9242 - val_loss 0.3784 - val_iou 0.5825 - val_dice 0.7343 - val_accuracy 0.9081\n",
      "=> saved best model\n",
      "Epoch [13/100]\n"
     ]
    },
    {
     "name": "stderr",
     "output_type": "stream",
     "text": [
      "100%|█████████████████████████| 219/219 [01:30<00:00,  2.42it/s, loss=0.331, iou=0.667, dice_coef=0.798, accuracy=0.928]\n",
      "100%|█████████████████████████████| 8/8 [00:00<00:00,  8.27it/s, loss=0.354, iou=0.632, dice_coef=0.774, accuracy=0.925]\n"
     ]
    },
    {
     "name": "stdout",
     "output_type": "stream",
     "text": [
      "loss 0.3306 - iou 0.6670 - dice 0.7982 - accuracy 0.9283 - val_loss 0.3542 - val_iou 0.6317 - val_dice 0.7737 - val_accuracy 0.9247\n",
      "=> saved best model\n",
      "Epoch [14/100]\n"
     ]
    },
    {
     "name": "stderr",
     "output_type": "stream",
     "text": [
      "100%|███████████████████████████| 219/219 [01:30<00:00,  2.41it/s, loss=0.32, iou=0.684, dice_coef=0.81, accuracy=0.931]\n",
      "100%|██████████████████████████████| 8/8 [00:00<00:00,  8.26it/s, loss=0.34, iou=0.639, dice_coef=0.778, accuracy=0.926]\n"
     ]
    },
    {
     "name": "stdout",
     "output_type": "stream",
     "text": [
      "loss 0.3202 - iou 0.6836 - dice 0.8102 - accuracy 0.9310 - val_loss 0.3401 - val_iou 0.6394 - val_dice 0.7781 - val_accuracy 0.9260\n",
      "=> saved best model\n",
      "Epoch [15/100]\n"
     ]
    },
    {
     "name": "stderr",
     "output_type": "stream",
     "text": [
      "100%|██████████████████████████| 219/219 [01:30<00:00,  2.42it/s, loss=0.312, iou=0.698, dice_coef=0.82, accuracy=0.933]\n",
      "100%|██████████████████████████████| 8/8 [00:00<00:00,  8.25it/s, loss=0.34, iou=0.636, dice_coef=0.775, accuracy=0.926]\n"
     ]
    },
    {
     "name": "stdout",
     "output_type": "stream",
     "text": [
      "loss 0.3121 - iou 0.6977 - dice 0.8201 - accuracy 0.9334 - val_loss 0.3396 - val_iou 0.6365 - val_dice 0.7751 - val_accuracy 0.9264\n",
      "Epoch [16/100]\n"
     ]
    },
    {
     "name": "stderr",
     "output_type": "stream",
     "text": [
      "100%|█████████████████████████| 219/219 [01:30<00:00,  2.42it/s, loss=0.305, iou=0.707, dice_coef=0.827, accuracy=0.935]\n",
      "100%|██████████████████████████████| 8/8 [00:00<00:00,  8.42it/s, loss=0.349, iou=0.616, dice_coef=0.76, accuracy=0.924]\n"
     ]
    },
    {
     "name": "stdout",
     "output_type": "stream",
     "text": [
      "loss 0.3050 - iou 0.7074 - dice 0.8268 - accuracy 0.9348 - val_loss 0.3488 - val_iou 0.6156 - val_dice 0.7596 - val_accuracy 0.9244\n",
      "Epoch [17/100]\n"
     ]
    },
    {
     "name": "stderr",
     "output_type": "stream",
     "text": [
      "100%|███████████████████████████| 219/219 [01:30<00:00,  2.42it/s, loss=0.3, iou=0.719, dice_coef=0.835, accuracy=0.937]\n",
      "100%|██████████████████████████████| 8/8 [00:00<00:00,  8.07it/s, loss=0.322, iou=0.656, dice_coef=0.79, accuracy=0.926]\n"
     ]
    },
    {
     "name": "stdout",
     "output_type": "stream",
     "text": [
      "loss 0.3001 - iou 0.7193 - dice 0.8351 - accuracy 0.9374 - val_loss 0.3222 - val_iou 0.6564 - val_dice 0.7903 - val_accuracy 0.9256\n",
      "=> saved best model\n",
      "Epoch [18/100]\n"
     ]
    },
    {
     "name": "stderr",
     "output_type": "stream",
     "text": [
      "100%|███████████████████████████| 219/219 [01:29<00:00,  2.44it/s, loss=0.289, iou=0.74, dice_coef=0.85, accuracy=0.941]\n",
      "100%|█████████████████████████████| 8/8 [00:00<00:00,  8.38it/s, loss=0.321, iou=0.664, dice_coef=0.797, accuracy=0.926]\n"
     ]
    },
    {
     "name": "stdout",
     "output_type": "stream",
     "text": [
      "loss 0.2886 - iou 0.7404 - dice 0.8495 - accuracy 0.9412 - val_loss 0.3211 - val_iou 0.6644 - val_dice 0.7967 - val_accuracy 0.9262\n",
      "=> saved best model\n",
      "Epoch [19/100]\n"
     ]
    },
    {
     "name": "stderr",
     "output_type": "stream",
     "text": [
      "100%|█████████████████████████| 219/219 [01:30<00:00,  2.41it/s, loss=0.284, iou=0.749, dice_coef=0.855, accuracy=0.942]\n",
      "100%|█████████████████████████████| 8/8 [00:00<00:00,  8.30it/s, loss=0.312, iou=0.675, dice_coef=0.806, accuracy=0.928]\n"
     ]
    },
    {
     "name": "stdout",
     "output_type": "stream",
     "text": [
      "loss 0.2844 - iou 0.7491 - dice 0.8553 - accuracy 0.9424 - val_loss 0.3120 - val_iou 0.6755 - val_dice 0.8057 - val_accuracy 0.9277\n",
      "=> saved best model\n",
      "Epoch [20/100]\n"
     ]
    },
    {
     "name": "stderr",
     "output_type": "stream",
     "text": [
      "100%|█████████████████████████| 219/219 [01:30<00:00,  2.41it/s, loss=0.276, iou=0.764, dice_coef=0.865, accuracy=0.945]\n",
      "100%|█████████████████████████████| 8/8 [00:00<00:00,  8.22it/s, loss=0.319, iou=0.646, dice_coef=0.782, accuracy=0.918]\n"
     ]
    },
    {
     "name": "stdout",
     "output_type": "stream",
     "text": [
      "loss 0.2761 - iou 0.7637 - dice 0.8649 - accuracy 0.9452 - val_loss 0.3192 - val_iou 0.6459 - val_dice 0.7818 - val_accuracy 0.9181\n",
      "Epoch [21/100]\n"
     ]
    },
    {
     "name": "stderr",
     "output_type": "stream",
     "text": [
      "100%|█████████████████████████| 219/219 [01:31<00:00,  2.40it/s, loss=0.273, iou=0.767, dice_coef=0.867, accuracy=0.946]\n",
      "100%|██████████████████████████████| 8/8 [00:00<00:00,  8.14it/s, loss=0.317, iou=0.656, dice_coef=0.789, accuracy=0.93]\n"
     ]
    },
    {
     "name": "stdout",
     "output_type": "stream",
     "text": [
      "loss 0.2732 - iou 0.7668 - dice 0.8667 - accuracy 0.9455 - val_loss 0.3170 - val_iou 0.6563 - val_dice 0.7892 - val_accuracy 0.9300\n",
      "Epoch [22/100]\n"
     ]
    },
    {
     "name": "stderr",
     "output_type": "stream",
     "text": [
      "100%|█████████████████████████| 219/219 [01:31<00:00,  2.39it/s, loss=0.269, iou=0.776, dice_coef=0.873, accuracy=0.947]\n",
      "100%|█████████████████████████████| 8/8 [00:00<00:00,  8.14it/s, loss=0.311, iou=0.673, dice_coef=0.802, accuracy=0.932]\n"
     ]
    },
    {
     "name": "stdout",
     "output_type": "stream",
     "text": [
      "loss 0.2689 - iou 0.7760 - dice 0.8726 - accuracy 0.9470 - val_loss 0.3111 - val_iou 0.6726 - val_dice 0.8018 - val_accuracy 0.9316\n",
      "Epoch [23/100]\n"
     ]
    },
    {
     "name": "stderr",
     "output_type": "stream",
     "text": [
      "100%|██████████████████████████| 219/219 [01:33<00:00,  2.34it/s, loss=0.265, iou=0.78, dice_coef=0.875, accuracy=0.948]\n",
      "100%|█████████████████████████████| 8/8 [00:01<00:00,  7.95it/s, loss=0.312, iou=0.666, dice_coef=0.798, accuracy=0.928]\n"
     ]
    },
    {
     "name": "stdout",
     "output_type": "stream",
     "text": [
      "loss 0.2648 - iou 0.7796 - dice 0.8750 - accuracy 0.9475 - val_loss 0.3119 - val_iou 0.6664 - val_dice 0.7980 - val_accuracy 0.9278\n",
      "Epoch [24/100]\n"
     ]
    },
    {
     "name": "stderr",
     "output_type": "stream",
     "text": [
      "100%|█████████████████████████| 219/219 [01:31<00:00,  2.40it/s, loss=0.263, iou=0.784, dice_coef=0.878, accuracy=0.948]\n",
      "100%|██████████████████████████████| 8/8 [00:01<00:00,  7.93it/s, loss=0.315, iou=0.66, dice_coef=0.791, accuracy=0.931]\n"
     ]
    },
    {
     "name": "stdout",
     "output_type": "stream",
     "text": [
      "loss 0.2628 - iou 0.7838 - dice 0.8777 - accuracy 0.9482 - val_loss 0.3146 - val_iou 0.6602 - val_dice 0.7913 - val_accuracy 0.9307\n",
      "Epoch [25/100]\n"
     ]
    },
    {
     "name": "stderr",
     "output_type": "stream",
     "text": [
      "100%|██████████████████████████| 219/219 [01:32<00:00,  2.36it/s, loss=0.258, iou=0.795, dice_coef=0.885, accuracy=0.95]\n",
      "100%|█████████████████████████████| 8/8 [00:00<00:00,  8.08it/s, loss=0.303, iou=0.695, dice_coef=0.819, accuracy=0.933]\n"
     ]
    },
    {
     "name": "stdout",
     "output_type": "stream",
     "text": [
      "loss 0.2584 - iou 0.7946 - dice 0.8845 - accuracy 0.9503 - val_loss 0.3027 - val_iou 0.6949 - val_dice 0.8186 - val_accuracy 0.9329\n",
      "=> saved best model\n",
      "Epoch [26/100]\n"
     ]
    },
    {
     "name": "stderr",
     "output_type": "stream",
     "text": [
      "100%|█████████████████████████| 219/219 [01:32<00:00,  2.37it/s, loss=0.253, iou=0.805, dice_coef=0.891, accuracy=0.952]\n",
      "100%|█████████████████████████████| 8/8 [00:00<00:00,  8.13it/s, loss=0.299, iou=0.699, dice_coef=0.821, accuracy=0.935]\n"
     ]
    },
    {
     "name": "stdout",
     "output_type": "stream",
     "text": [
      "loss 0.2531 - iou 0.8051 - dice 0.8911 - accuracy 0.9525 - val_loss 0.2986 - val_iou 0.6988 - val_dice 0.8206 - val_accuracy 0.9354\n",
      "=> saved best model\n",
      "Epoch [27/100]\n"
     ]
    },
    {
     "name": "stderr",
     "output_type": "stream",
     "text": [
      " 63%|███████████████▋         | 137/219 [00:57<00:33,  2.43it/s, loss=0.248, iou=0.816, dice_coef=0.898, accuracy=0.954]"
     ]
    }
   ],
   "source": [
    "from src.train_val_test import train, evaluate\n",
    "from collections import OrderedDict\n",
    "\n",
    "log = OrderedDict([\n",
    "    ('epoch', []),\n",
    "    ('loss', []),\n",
    "    ('iou', []),\n",
    "    ('dice',[]),\n",
    "    ('accuracy',[]),\n",
    "    ('val_loss', []),\n",
    "    ('val_iou', []),\n",
    "    ('val_dice',[]),\n",
    "    ('val_accuracy',[])\n",
    "])\n",
    "\n",
    "best_dice = 0\n",
    "trigger = 0\n",
    "for epoch in range(config['epochs']):\n",
    "    print('Epoch [%d/%d]' % (epoch, config['epochs']))\n",
    "\n",
    "    # train for one epoch\n",
    "    train_log = train(config, model, train_iterator, criterion, optimizer, config['deep_supervision'], device)\n",
    "    # evaluate on validation set\n",
    "    val_log = evaluate(config, model, val_iterator, criterion, config['deep_supervision'], device)\n",
    "\n",
    "    print('loss %.4f - iou %.4f - dice %.4f - accuracy %.4f - val_loss %.4f - val_iou %.4f - val_dice %.4f - val_accuracy %.4f'\n",
    "          % (train_log['loss'], train_log['iou'], train_log['dice_coef'], train_log['accuracy'],\n",
    "             val_log['loss'], val_log['iou'], val_log['dice_coef'], val_log['accuracy']))\n",
    "\n",
    "    log['epoch'].append(epoch)\n",
    "    log['loss'].append(train_log['loss'])\n",
    "    log['iou'].append(train_log['iou'])\n",
    "    log['dice'].append(train_log['dice_coef'])\n",
    "    log['accuracy'].append(train_log['accuracy'])\n",
    "    log['val_loss'].append(val_log['loss'])\n",
    "    log['val_iou'].append(val_log['iou'])\n",
    "    log['val_dice'].append(val_log['dice_coef'])\n",
    "    log['val_accuracy'].append(val_log['accuracy'])\n",
    "    \n",
    "    pd.DataFrame(log).to_csv('models/%s/log.csv' %\n",
    "                             config['name'], index=False)\n",
    "\n",
    "    trigger += 1\n",
    "\n",
    "    if val_log['dice_coef'] > best_dice:\n",
    "        torch.save(model.state_dict(), 'models/%s/model.pth' %\n",
    "                   config['name'])\n",
    "        best_dice = val_log['dice_coef']\n",
    "        print(\"=> saved best model\")\n",
    "        trigger = 0\n",
    "\n",
    "    # Reduce learning rate when validation metric stops improving\n",
    "    scheduler.step(val_log['loss'])\n",
    "\n",
    "    # early stopping\n",
    "    if config['early_stopping'] >= 0 and trigger >= config['early_stopping']:\n",
    "        print(\"=> early stopping\")\n",
    "        break\n",
    "\n",
    "    torch.cuda.empty_cache()"
   ]
  },
  {
   "cell_type": "code",
   "execution_count": null,
   "id": "d80feb91-12ad-4640-a38a-4ced108bbc2d",
   "metadata": {},
   "outputs": [],
   "source": [
    "test_log = evaluate(config, model, test_iterator, criterion, config['deep_supervision'], device)\n",
    "\n",
    "pd.DataFrame([test_log]).to_csv('models/%s/test_log.csv' % config['name'])\n",
    "\n",
    "print('test_loss %.4f - test_iou %.4f - test_dice %.4f - test_accuracy %.4f'\n",
    "          % (test_log['loss'], test_log['iou'], test_log['dice_coef'], test_log['accuracy']))"
   ]
  },
  {
   "cell_type": "code",
   "execution_count": null,
   "id": "12877654-5bd5-4c2d-b4f5-d7d6b1350bae",
   "metadata": {},
   "outputs": [],
   "source": [
    "import matplotlib.pyplot as plt\n",
    "import pandas as pd\n",
    "\n",
    "# Read the CSV file into a DataFrame\n",
    "df = pd.read_csv('models/DiceLoss_try_Aug/log.csv')\n",
    "test = pd.read_csv('models/DiceLoss_try_Aug/test_log.csv')\n",
    "\n",
    "# Test values for loss, IoU, and Dice coefficients\n",
    "test_loss = test['loss'].item()  \n",
    "test_iou = test['iou'].item() \n",
    "test_dice = test['dice_coef'].item() \n",
    "test_accuracy = test['accuracy'].item() \n",
    "\n",
    "# Create a figure and subplots\n",
    "fig, ((ax1, ax2), (ax3, ax4)) = plt.subplots(2, 2, figsize=(12, 12))\n",
    "\n",
    "# Plot the loss features in the first subplot\n",
    "ax1.plot(df['epoch'], df['loss'], label='Training Loss')\n",
    "ax1.plot(df['epoch'], df['val_loss'], label='Validation Loss')\n",
    "ax1.axhline(y=test_loss, color='r', linestyle='--', label='Test Loss')\n",
    "ax1.annotate(f'{test_loss:.2f}', xy=(90, test_loss+0.005), color='r')\n",
    "ax1.set_title('Loss Metrics')\n",
    "ax1.set_xlabel('Epoch')\n",
    "ax1.set_ylabel('Loss')\n",
    "ax1.legend()\n",
    "\n",
    "ax2.plot(df['epoch'], df['accuracy'], label='Training Accuracy')\n",
    "ax2.plot(df['epoch'], df['val_accuracy'], label='Validation Accuracy')\n",
    "ax2.axhline(y=test_accuracy, color='r', linestyle='--', label='Test Accuracy')\n",
    "ax2.annotate(f'{test_accuracy:.2f}', xy=(90, test_accuracy+0.002), color='r')\n",
    "ax2.set_title('Accuracy Metrics')\n",
    "ax2.set_xlabel('Epoch')\n",
    "ax2.set_ylabel('Accuracy')\n",
    "ax2.legend()\n",
    "\n",
    "ax3.plot(df['epoch'], df['iou'], label='Training IoU')\n",
    "ax3.plot(df['epoch'], df['val_iou'], label='Validation IoU')\n",
    "ax3.axhline(y=test_iou, color='r', linestyle='--', label='Test IoU')\n",
    "ax3.annotate(f'{test_iou:.2f}', xy=(90, test_iou+0.003), color='r')\n",
    "ax3.set_title('IoU Metrics')\n",
    "ax3.set_xlabel('Epoch')\n",
    "ax3.set_ylabel('IoU')\n",
    "ax3.legend()\n",
    "\n",
    "ax4.plot(df['epoch'], df['dice'], label='Training Dice')\n",
    "ax4.plot(df['epoch'], df['val_dice'], label='Validation Dice')\n",
    "ax4.axhline(y=test_dice, color='r', linestyle='--', label='Test Dice')\n",
    "ax4.annotate(f'{test_dice:.2f}', xy=(90, test_dice+0.005), color='r')\n",
    "ax4.set_title('Dice Metrics')\n",
    "ax4.set_xlabel('Epoch')\n",
    "ax4.set_ylabel('Dice')\n",
    "ax4.legend()\n",
    "\n",
    "fig.suptitle(\"UNET++ with DiceLoss and with Data Augmentation\")\n",
    "# Adjust the spacing between subplots\n",
    "plt.tight_layout()\n",
    "\n",
    "plt.savefig(\"results/DiceLoss_Aug.png\")\n",
    "# Display the plot\n",
    "plt.show()"
   ]
  },
  {
   "cell_type": "code",
   "execution_count": null,
   "id": "9e805e4e-d78f-4bc0-be2b-fd0dd7a0187c",
   "metadata": {},
   "outputs": [],
   "source": []
  },
  {
   "cell_type": "code",
   "execution_count": null,
   "id": "9b99ef2b-2d39-4cff-8441-2df0f72ef341",
   "metadata": {},
   "outputs": [],
   "source": []
  },
  {
   "cell_type": "code",
   "execution_count": null,
   "id": "e67800e5-f217-4d8b-8a7c-9800e83d0efc",
   "metadata": {},
   "outputs": [],
   "source": []
  },
  {
   "cell_type": "code",
   "execution_count": null,
   "id": "e407c7cf-11d9-4922-b8c5-991eb68f9779",
   "metadata": {},
   "outputs": [],
   "source": []
  },
  {
   "cell_type": "code",
   "execution_count": null,
   "id": "98cee265-15d5-4a16-a673-78c37fcd17e4",
   "metadata": {},
   "outputs": [],
   "source": []
  },
  {
   "cell_type": "code",
   "execution_count": null,
   "id": "78dc5e87-0f51-41e8-8af1-6289254e325a",
   "metadata": {},
   "outputs": [],
   "source": []
  },
  {
   "cell_type": "code",
   "execution_count": null,
   "id": "70f54ce7-73cf-4e44-bec7-7dff7ebc658a",
   "metadata": {},
   "outputs": [],
   "source": []
  },
  {
   "cell_type": "code",
   "execution_count": null,
   "id": "97ae5a15-573f-43f8-8d09-1fffd5f6d078",
   "metadata": {},
   "outputs": [],
   "source": []
  },
  {
   "cell_type": "code",
   "execution_count": null,
   "id": "eb430f3a-3e9c-453d-87a4-6cf63aa642f5",
   "metadata": {},
   "outputs": [],
   "source": []
  },
  {
   "cell_type": "code",
   "execution_count": null,
   "id": "4dfcf1b3-8f2d-41b5-ba6c-1e1e34967be8",
   "metadata": {},
   "outputs": [],
   "source": []
  },
  {
   "cell_type": "code",
   "execution_count": null,
   "id": "b62026f2-8544-46f7-9b35-1786589a0b43",
   "metadata": {},
   "outputs": [],
   "source": []
  },
  {
   "cell_type": "code",
   "execution_count": null,
   "id": "3dccf718-6cc5-4872-a8b7-14744e8c0e31",
   "metadata": {},
   "outputs": [],
   "source": []
  },
  {
   "cell_type": "code",
   "execution_count": null,
   "id": "b0811f68-a50d-41a9-b94f-6f47a1e20822",
   "metadata": {},
   "outputs": [],
   "source": []
  },
  {
   "cell_type": "code",
   "execution_count": null,
   "id": "951cc938-6815-48aa-9632-78eacc1ca996",
   "metadata": {},
   "outputs": [],
   "source": []
  },
  {
   "cell_type": "code",
   "execution_count": null,
   "id": "2b49b980-fadc-4731-b604-17d12e2c2a77",
   "metadata": {},
   "outputs": [],
   "source": []
  }
 ],
 "metadata": {
  "kernelspec": {
   "display_name": "Python 3 (ipykernel)",
   "language": "python",
   "name": "python3"
  },
  "language_info": {
   "codemirror_mode": {
    "name": "ipython",
    "version": 3
   },
   "file_extension": ".py",
   "mimetype": "text/x-python",
   "name": "python",
   "nbconvert_exporter": "python",
   "pygments_lexer": "ipython3",
   "version": "3.10.12"
  }
 },
 "nbformat": 4,
 "nbformat_minor": 5
}
