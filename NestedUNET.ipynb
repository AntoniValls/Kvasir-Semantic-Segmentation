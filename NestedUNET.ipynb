{
 "cells": [
  {
   "cell_type": "code",
   "execution_count": 1,
   "id": "f6ad9121-d295-4262-95d6-6bafb6a6ea24",
   "metadata": {},
   "outputs": [],
   "source": [
    "import numpy as np\n",
    "import pandas as pd\n",
    "import random\n",
    "import torch"
   ]
  },
  {
   "cell_type": "markdown",
   "id": "fd86e08a-1793-417a-adb0-a7d393d96de9",
   "metadata": {
    "id": "n6MrmYKPOPHQ"
   },
   "source": [
    "Lets dynamically choose type of device to use for our computations. To run on your own GPU one needs to install pytorch and cuda-toolkit."
   ]
  },
  {
   "cell_type": "code",
   "execution_count": 3,
   "id": "c5a98662-e156-4ebb-984a-f57102ced797",
   "metadata": {
    "colab": {
     "base_uri": "https://localhost:8080/"
    },
    "id": "3ooJw43yONE2",
    "outputId": "afe428b8-b6b9-404f-9a21-b8175e5aeb7f"
   },
   "outputs": [
    {
     "name": "stdout",
     "output_type": "stream",
     "text": [
      "True\n"
     ]
    }
   ],
   "source": [
    "print(torch.cuda.is_available())\n",
    "device = torch.device(\"cuda\") if torch.cuda.is_available() else torch.device(\"cpu\")"
   ]
  },
  {
   "cell_type": "code",
   "execution_count": 4,
   "id": "eb2f9bc2-d877-4384-a1c1-64557b083917",
   "metadata": {},
   "outputs": [
    {
     "data": {
      "text/plain": [
       "_CudaDeviceProperties(name='NVIDIA GeForce RTX 2080 Ti', major=7, minor=5, total_memory=10824MB, multi_processor_count=68)"
      ]
     },
     "execution_count": 4,
     "metadata": {},
     "output_type": "execute_result"
    }
   ],
   "source": [
    "torch.cuda.get_device_properties(device)"
   ]
  },
  {
   "cell_type": "markdown",
   "id": "d5a44df4-7501-4d28-9480-3717d3565b00",
   "metadata": {},
   "source": [
    "Define the seed for reproductivity:"
   ]
  },
  {
   "cell_type": "code",
   "execution_count": 5,
   "id": "b6355a90-bdb9-4082-b08b-2eff47aa47db",
   "metadata": {
    "id": "5iDI_mz8N1qn"
   },
   "outputs": [],
   "source": [
    "def set_seed(seed, use_gpu = True):\n",
    "    \"\"\"\n",
    "    Set SEED for PyTorch reproducibility\n",
    "    \"\"\"\n",
    "    random.seed(seed)\n",
    "    np.random.seed(seed)\n",
    "    torch.manual_seed(seed)\n",
    "    if use_gpu:\n",
    "        torch.cuda.manual_seed_all(seed)\n",
    "        torch.cuda.manual_seed(seed)\n",
    "        torch.backends.cudnn.deterministic = True\n",
    "        torch.backends.cudnn.benchmark = False\n",
    "\n",
    "SEED = 196\n",
    "USE_SEED = True\n",
    "if USE_SEED:\n",
    "    set_seed(SEED, torch.cuda.is_available())"
   ]
  },
  {
   "cell_type": "markdown",
   "id": "857f3e65-9609-4d0b-acd0-e0a8cd4370c5",
   "metadata": {},
   "source": [
    "**Load the images and masks**"
   ]
  },
  {
   "cell_type": "code",
   "execution_count": 6,
   "id": "7d1a0c63-4849-4005-b580-278ec239e866",
   "metadata": {},
   "outputs": [],
   "source": [
    "train_images = np.load(\"data/data/train_val_augmented/combined_images.npy\")\n",
    "train_masks = np.load(\"data/data/train_val_augmented/combined_masks.npy\") \n",
    "test_images = np.load(\"data/data/test/test_images.npy\")\n",
    "test_masks = np.load(\"data/data/test/test_masks.npy\")"
   ]
  },
  {
   "cell_type": "code",
   "execution_count": 7,
   "id": "013f98f7-1cab-4b72-bcbf-968862eafbba",
   "metadata": {},
   "outputs": [
    {
     "name": "stdout",
     "output_type": "stream",
     "text": [
      "Train images shape: (3000, 256, 256, 3)\n",
      "Test images shape: (400, 256, 256, 3)\n",
      "Train masks shape: (3000, 256, 256, 1)\n",
      "Test masks shape: (400, 256, 256, 1)\n"
     ]
    }
   ],
   "source": [
    "print(\"Train images shape:\", train_images.shape)\n",
    "print(\"Test images shape:\", test_images.shape)\n",
    "print(\"Train masks shape:\", train_masks.shape)\n",
    "print(\"Test masks shape:\", test_masks.shape)"
   ]
  },
  {
   "cell_type": "markdown",
   "id": "240df45e-47c8-43d8-98ab-a9ce2f5c6ece",
   "metadata": {},
   "source": [
    "**Standaritzation**"
   ]
  },
  {
   "cell_type": "code",
   "execution_count": 8,
   "id": "3086adf4-db6d-48d1-9f9d-59e998ebad47",
   "metadata": {},
   "outputs": [
    {
     "name": "stdout",
     "output_type": "stream",
     "text": [
      "-----  NORMALIZATION VALUES  -----\n",
      "Mean (RGB): [0.56005583 0.3258349  0.2418034 ]\n",
      "Standard Deviation (RGB): [0.31265261 0.23062609 0.19591767]\n"
     ]
    }
   ],
   "source": [
    "mean = np.mean(train_images, axis = (0,1,2)) / 255\n",
    "std = np.std(train_images, axis = (0,1,2)) / 255\n",
    "\n",
    "print(\"-----  NORMALIZATION VALUES  -----\")\n",
    "print(f\"Mean (RGB): {mean}\")\n",
    "print(f\"Standard Deviation (RGB): {std}\")"
   ]
  },
  {
   "cell_type": "code",
   "execution_count": 9,
   "id": "12a4490c-8028-43ba-a7e3-2c3d0c5ba29e",
   "metadata": {},
   "outputs": [],
   "source": [
    "import torchvision\n",
    "import torchvision.transforms as transforms\n",
    "\n",
    "transforms = torchvision.transforms.Compose([\n",
    "    torchvision.transforms.ToTensor(),  # Convert the image to a PyTorch tensor and normalize it between [0, 1]\n",
    "    torchvision.transforms.Normalize(mean, std)  # Normalize the tensor using the provided mean and standard deviation\n",
    "])"
   ]
  },
  {
   "cell_type": "markdown",
   "id": "b9c8e4bf-cd07-400a-98a5-bd859de4a613",
   "metadata": {},
   "source": [
    "**Validation set**"
   ]
  },
  {
   "cell_type": "code",
   "execution_count": 10,
   "id": "3be31073-1bd1-4ddd-8c25-97d7a83904db",
   "metadata": {
    "colab": {
     "base_uri": "https://localhost:8080/"
    },
    "id": "3bY2e4kp_9BR",
    "outputId": "350540c0-b2dc-4464-df8c-5579b72f3391"
   },
   "outputs": [
    {
     "name": "stdout",
     "output_type": "stream",
     "text": [
      "Training Images Shape: (2700, 256, 256, 3)\n",
      "Training Masks Shape: (2700, 256, 256, 1)\n",
      "Validation Images Shape: (300, 256, 256, 3)\n",
      "Validation Masks Shape: (300, 256, 256, 1)\n",
      "Number of Training Examples: 2700\n",
      "Number of Validation Examples: 300\n"
     ]
    }
   ],
   "source": [
    "from sklearn.model_selection import train_test_split\n",
    "\n",
    "#Validation set (10%)\n",
    "training_images, val_images, training_masks, val_masks = train_test_split(\n",
    "    train_images, train_masks, test_size=0.1, random_state=42)\n",
    "\n",
    "# Check shape of training images and masks\n",
    "print(\"Training Images Shape:\", training_images.shape)\n",
    "print(\"Training Masks Shape:\", training_masks.shape)\n",
    "\n",
    "# Check shape of validation images and masks\n",
    "print(\"Validation Images Shape:\", val_images.shape)\n",
    "print(\"Validation Masks Shape:\", val_masks.shape)\n",
    "\n",
    "# Check length of training and validation sets\n",
    "print(\"Number of Training Examples:\", len(training_images))\n",
    "print(\"Number of Validation Examples:\", len(val_images))"
   ]
  },
  {
   "cell_type": "code",
   "execution_count": 11,
   "id": "aee261a9-8a27-4a41-9ec7-dbdbfd44bda7",
   "metadata": {},
   "outputs": [],
   "source": [
    "from src.preprocess import KvasirDataset\n",
    "\n",
    "# Create KvasirDataset objects for train, validation and test sets\n",
    "train_dataset = KvasirDataset(images=train_images, masks=train_masks, transforms=transforms)\n",
    "val_dataset = KvasirDataset(images=val_images,masks=val_masks, transforms=transforms)\n",
    "test_dataset = KvasirDataset(images=test_images, masks=test_masks, transforms=transforms) \n"
   ]
  },
  {
   "cell_type": "markdown",
   "id": "12686a1a-38e0-438f-9ebb-a7f65621a91d",
   "metadata": {},
   "source": [
    "**Define the model**"
   ]
  },
  {
   "cell_type": "code",
   "execution_count": 12,
   "id": "a9b7ac48-738c-47c7-8de4-235b5d8b5c71",
   "metadata": {},
   "outputs": [],
   "source": [
    "config = {}\n",
    "config['name']='DiceLoss_try'\n",
    "config['epochs']=100\n",
    "config['batch_size']=16\n",
    "config['arch']='NestedUNet'\n",
    "config['deep_supervision']=True\n",
    "config['input_channels']=3\n",
    "config['num_classes']=1\n",
    "config['early_stopping']=5 # 5 epochs without improving the dice coefficient\n",
    "#config['input_w']=128\n",
    "#config['input_h']=128\n"
   ]
  },
  {
   "cell_type": "code",
   "execution_count": 13,
   "id": "8c60e0c8-abc1-448f-bf64-48ba5797c66c",
   "metadata": {},
   "outputs": [],
   "source": [
    "from torch.utils.data import DataLoader\n",
    "\n",
    "train_iterator = DataLoader(train_dataset, batch_size=config['batch_size'], shuffle=True)\n",
    "test_iterator = DataLoader(test_dataset, batch_size=config['batch_size'])\n",
    "val_iterator = DataLoader(val_dataset,batch_size=config['batch_size'])"
   ]
  },
  {
   "cell_type": "code",
   "execution_count": 14,
   "id": "f1d69ed0-90ca-41ed-a570-fd85590f4d7a",
   "metadata": {},
   "outputs": [
    {
     "name": "stdout",
     "output_type": "stream",
     "text": [
      "The model has 2,264,899 trainable parameters.\n"
     ]
    }
   ],
   "source": [
    "from src.main import NestedUNet\n",
    "from src.utils import count_parameters\n",
    "\n",
    "model = NestedUNet(config)\n",
    "print(f\"The model has {count_parameters(model):,} trainable parameters.\")"
   ]
  },
  {
   "cell_type": "code",
   "execution_count": 15,
   "id": "3f5002af-adc9-466d-8710-bb026e56c2ea",
   "metadata": {},
   "outputs": [],
   "source": [
    "model = model.to(device)"
   ]
  },
  {
   "cell_type": "code",
   "execution_count": 17,
   "id": "a8f28d1f-e1d9-43d9-a984-d8a924ad734d",
   "metadata": {},
   "outputs": [
    {
     "name": "stderr",
     "output_type": "stream",
     "text": [
      "/home/antoni_valls/CV/Kvasir-Semantic-Segmentation/.venv/lib/python3.10/site-packages/torch/optim/lr_scheduler.py:28: UserWarning: The verbose parameter is deprecated. Please use get_last_lr() to access the learning rate.\n",
      "  warnings.warn(\"The verbose parameter is deprecated. Please use get_last_lr() \"\n"
     ]
    }
   ],
   "source": [
    "from src.loss import DiceLoss, IoULoss\n",
    "import torch.optim as optim\n",
    "from torch.optim.lr_scheduler import ReduceLROnPlateau\n",
    "\n",
    "criterion = DiceLoss().to(device)\n",
    "optimizer = optim.Adam(model.parameters(), lr=1e-4) \n",
    "scheduler = ReduceLROnPlateau(optimizer, factor=0.1, patience=5, verbose=True)"
   ]
  },
  {
   "cell_type": "code",
   "execution_count": 18,
   "id": "a209d906-894a-475f-86c5-3770c872d67a",
   "metadata": {},
   "outputs": [
    {
     "name": "stdout",
     "output_type": "stream",
     "text": [
      "Epoch [0/100]\n"
     ]
    },
    {
     "name": "stderr",
     "output_type": "stream",
     "text": [
      "100%|█████████████████████████████████████████| 188/188 [01:00<00:00,  3.11it/s, loss=0.679, iou=0.202, dice_coef=0.335]\n",
      "100%|███████████████████████████████████████████| 19/19 [00:01<00:00,  9.96it/s, loss=0.643, iou=0.234, dice_coef=0.378]\n"
     ]
    },
    {
     "name": "stdout",
     "output_type": "stream",
     "text": [
      "loss 0.6789 - iou 0.2023 - dice 0.3347 - val_loss 0.6433 - val_iou 0.2339 - val_dice 0.3775\n",
      "=> saved best model\n",
      "Epoch [1/100]\n"
     ]
    },
    {
     "name": "stderr",
     "output_type": "stream",
     "text": [
      "100%|██████████████████████████████████████████| 188/188 [01:00<00:00,  3.10it/s, loss=0.639, iou=0.236, dice_coef=0.38]\n",
      "100%|████████████████████████████████████████████| 19/19 [00:01<00:00,  9.87it/s, loss=0.613, iou=0.259, dice_coef=0.41]\n"
     ]
    },
    {
     "name": "stdout",
     "output_type": "stream",
     "text": [
      "loss 0.6385 - iou 0.2361 - dice 0.3805 - val_loss 0.6126 - val_iou 0.2589 - val_dice 0.4095\n",
      "=> saved best model\n",
      "Epoch [2/100]\n"
     ]
    },
    {
     "name": "stderr",
     "output_type": "stream",
     "text": [
      "100%|█████████████████████████████████████████| 188/188 [01:01<00:00,  3.04it/s, loss=0.609, iou=0.263, dice_coef=0.415]\n",
      "100%|███████████████████████████████████████████| 19/19 [00:01<00:00,  9.79it/s, loss=0.587, iou=0.277, dice_coef=0.432]\n"
     ]
    },
    {
     "name": "stdout",
     "output_type": "stream",
     "text": [
      "loss 0.6085 - iou 0.2630 - dice 0.4145 - val_loss 0.5869 - val_iou 0.2772 - val_dice 0.4323\n",
      "=> saved best model\n",
      "Epoch [3/100]\n"
     ]
    },
    {
     "name": "stderr",
     "output_type": "stream",
     "text": [
      "100%|█████████████████████████████████████████| 188/188 [01:04<00:00,  2.92it/s, loss=0.578, iou=0.293, dice_coef=0.451]\n",
      "100%|███████████████████████████████████████████| 19/19 [00:01<00:00,  9.54it/s, loss=0.551, iou=0.315, dice_coef=0.476]\n"
     ]
    },
    {
     "name": "stdout",
     "output_type": "stream",
     "text": [
      "loss 0.5780 - iou 0.2927 - dice 0.4511 - val_loss 0.5514 - val_iou 0.3148 - val_dice 0.4762\n",
      "=> saved best model\n",
      "Epoch [4/100]\n"
     ]
    },
    {
     "name": "stderr",
     "output_type": "stream",
     "text": [
      "100%|██████████████████████████████████████████| 188/188 [01:06<00:00,  2.82it/s, loss=0.55, iou=0.324, dice_coef=0.487]\n",
      "100%|████████████████████████████████████████████| 19/19 [00:02<00:00,  9.40it/s, loss=0.517, iou=0.363, dice_coef=0.53]\n"
     ]
    },
    {
     "name": "stdout",
     "output_type": "stream",
     "text": [
      "loss 0.5502 - iou 0.3236 - dice 0.4866 - val_loss 0.5173 - val_iou 0.3632 - val_dice 0.5304\n",
      "=> saved best model\n",
      "Epoch [5/100]\n"
     ]
    },
    {
     "name": "stderr",
     "output_type": "stream",
     "text": [
      "100%|██████████████████████████████████████████| 188/188 [01:07<00:00,  2.78it/s, loss=0.52, iou=0.359, dice_coef=0.526]\n",
      "100%|███████████████████████████████████████████| 19/19 [00:02<00:00,  8.97it/s, loss=0.491, iou=0.402, dice_coef=0.571]\n"
     ]
    },
    {
     "name": "stdout",
     "output_type": "stream",
     "text": [
      "loss 0.5203 - iou 0.3591 - dice 0.5262 - val_loss 0.4909 - val_iou 0.4016 - val_dice 0.5706\n",
      "=> saved best model\n",
      "Epoch [6/100]\n"
     ]
    },
    {
     "name": "stderr",
     "output_type": "stream",
     "text": [
      "100%|█████████████████████████████████████████| 188/188 [01:08<00:00,  2.73it/s, loss=0.491, iou=0.397, dice_coef=0.566]\n",
      "100%|███████████████████████████████████████████| 19/19 [00:02<00:00,  9.18it/s, loss=0.476, iou=0.414, dice_coef=0.583]\n"
     ]
    },
    {
     "name": "stdout",
     "output_type": "stream",
     "text": [
      "loss 0.4914 - iou 0.3972 - dice 0.5663 - val_loss 0.4759 - val_iou 0.4142 - val_dice 0.5834\n",
      "=> saved best model\n",
      "Epoch [7/100]\n"
     ]
    },
    {
     "name": "stderr",
     "output_type": "stream",
     "text": [
      "100%|█████████████████████████████████████████| 188/188 [01:09<00:00,  2.70it/s, loss=0.467, iou=0.432, dice_coef=0.601]\n",
      "100%|████████████████████████████████████████████| 19/19 [00:02<00:00,  9.04it/s, loss=0.431, iou=0.495, dice_coef=0.66]\n"
     ]
    },
    {
     "name": "stdout",
     "output_type": "stream",
     "text": [
      "loss 0.4671 - iou 0.4319 - dice 0.6006 - val_loss 0.4311 - val_iou 0.4952 - val_dice 0.6604\n",
      "=> saved best model\n",
      "Epoch [8/100]\n"
     ]
    },
    {
     "name": "stderr",
     "output_type": "stream",
     "text": [
      "100%|███████████████████████████████████████████| 188/188 [01:10<00:00,  2.67it/s, loss=0.44, iou=0.473, dice_coef=0.64]\n",
      "100%|███████████████████████████████████████████| 19/19 [00:02<00:00,  8.67it/s, loss=0.425, iou=0.489, dice_coef=0.654]\n"
     ]
    },
    {
     "name": "stdout",
     "output_type": "stream",
     "text": [
      "loss 0.4402 - iou 0.4729 - dice 0.6396 - val_loss 0.4250 - val_iou 0.4895 - val_dice 0.6541\n",
      "Epoch [9/100]\n"
     ]
    },
    {
     "name": "stderr",
     "output_type": "stream",
     "text": [
      "100%|█████████████████████████████████████████| 188/188 [01:10<00:00,  2.65it/s, loss=0.419, iou=0.508, dice_coef=0.671]\n",
      "100%|███████████████████████████████████████████| 19/19 [00:02<00:00,  9.05it/s, loss=0.385, iou=0.566, dice_coef=0.721]\n"
     ]
    },
    {
     "name": "stdout",
     "output_type": "stream",
     "text": [
      "loss 0.4194 - iou 0.5077 - dice 0.6711 - val_loss 0.3854 - val_iou 0.5660 - val_dice 0.7212\n",
      "=> saved best model\n",
      "Epoch [10/100]\n"
     ]
    },
    {
     "name": "stderr",
     "output_type": "stream",
     "text": [
      "100%|█████████████████████████████████████████| 188/188 [01:11<00:00,  2.63it/s, loss=0.398, iou=0.546, dice_coef=0.704]\n",
      "100%|███████████████████████████████████████████| 19/19 [00:02<00:00,  7.04it/s, loss=0.376, iou=0.584, dice_coef=0.735]\n"
     ]
    },
    {
     "name": "stdout",
     "output_type": "stream",
     "text": [
      "loss 0.3979 - iou 0.5463 - dice 0.7041 - val_loss 0.3757 - val_iou 0.5840 - val_dice 0.7350\n",
      "=> saved best model\n",
      "Epoch [11/100]\n"
     ]
    },
    {
     "name": "stderr",
     "output_type": "stream",
     "text": [
      "100%|██████████████████████████████████████████| 188/188 [01:11<00:00,  2.63it/s, loss=0.38, iou=0.576, dice_coef=0.729]\n",
      "100%|███████████████████████████████████████████| 19/19 [00:02<00:00,  8.59it/s, loss=0.365, iou=0.584, dice_coef=0.735]\n"
     ]
    },
    {
     "name": "stdout",
     "output_type": "stream",
     "text": [
      "loss 0.3799 - iou 0.5763 - dice 0.7291 - val_loss 0.3649 - val_iou 0.5836 - val_dice 0.7347\n",
      "Epoch [12/100]\n"
     ]
    },
    {
     "name": "stderr",
     "output_type": "stream",
     "text": [
      "100%|█████████████████████████████████████████| 188/188 [01:11<00:00,  2.62it/s, loss=0.362, iou=0.608, dice_coef=0.754]\n",
      "100%|███████████████████████████████████████████| 19/19 [00:02<00:00,  8.69it/s, loss=0.355, iou=0.614, dice_coef=0.759]\n"
     ]
    },
    {
     "name": "stdout",
     "output_type": "stream",
     "text": [
      "loss 0.3623 - iou 0.6082 - dice 0.7542 - val_loss 0.3554 - val_iou 0.6141 - val_dice 0.7585\n",
      "=> saved best model\n",
      "Epoch [13/100]\n"
     ]
    },
    {
     "name": "stderr",
     "output_type": "stream",
     "text": [
      "100%|█████████████████████████████████████████| 188/188 [01:13<00:00,  2.57it/s, loss=0.349, iou=0.635, dice_coef=0.775]\n",
      "100%|███████████████████████████████████████████| 19/19 [00:02<00:00,  8.56it/s, loss=0.337, iou=0.662, dice_coef=0.796]\n"
     ]
    },
    {
     "name": "stdout",
     "output_type": "stream",
     "text": [
      "loss 0.3486 - iou 0.6350 - dice 0.7746 - val_loss 0.3367 - val_iou 0.6625 - val_dice 0.7956\n",
      "=> saved best model\n",
      "Epoch [14/100]\n"
     ]
    },
    {
     "name": "stderr",
     "output_type": "stream",
     "text": [
      "100%|██████████████████████████████████████████| 188/188 [01:12<00:00,  2.59it/s, loss=0.338, iou=0.655, dice_coef=0.79]\n",
      "100%|███████████████████████████████████████████| 19/19 [00:02<00:00,  8.64it/s, loss=0.326, iou=0.694, dice_coef=0.817]\n"
     ]
    },
    {
     "name": "stdout",
     "output_type": "stream",
     "text": [
      "loss 0.3381 - iou 0.6553 - dice 0.7896 - val_loss 0.3265 - val_iou 0.6943 - val_dice 0.8170\n",
      "=> saved best model\n",
      "Epoch [15/100]\n"
     ]
    },
    {
     "name": "stderr",
     "output_type": "stream",
     "text": [
      "100%|█████████████████████████████████████████| 188/188 [01:13<00:00,  2.56it/s, loss=0.328, iou=0.673, dice_coef=0.803]\n",
      "100%|███████████████████████████████████████████| 19/19 [00:02<00:00,  8.64it/s, loss=0.322, iou=0.686, dice_coef=0.812]\n"
     ]
    },
    {
     "name": "stdout",
     "output_type": "stream",
     "text": [
      "loss 0.3284 - iou 0.6732 - dice 0.8030 - val_loss 0.3216 - val_iou 0.6860 - val_dice 0.8115\n",
      "Epoch [16/100]\n"
     ]
    },
    {
     "name": "stderr",
     "output_type": "stream",
     "text": [
      "100%|██████████████████████████████████████████| 188/188 [01:13<00:00,  2.57it/s, loss=0.319, iou=0.69, dice_coef=0.815]\n",
      "100%|███████████████████████████████████████████| 19/19 [00:02<00:00,  8.40it/s, loss=0.312, iou=0.703, dice_coef=0.824]\n"
     ]
    },
    {
     "name": "stdout",
     "output_type": "stream",
     "text": [
      "loss 0.3189 - iou 0.6898 - dice 0.8148 - val_loss 0.3121 - val_iou 0.7032 - val_dice 0.8239\n",
      "=> saved best model\n",
      "Epoch [17/100]\n"
     ]
    },
    {
     "name": "stderr",
     "output_type": "stream",
     "text": [
      "100%|██████████████████████████████████████████| 188/188 [01:14<00:00,  2.52it/s, loss=0.31, iou=0.705, dice_coef=0.825]\n",
      "100%|████████████████████████████████████████████| 19/19 [00:02<00:00,  8.24it/s, loss=0.305, iou=0.72, dice_coef=0.836]\n"
     ]
    },
    {
     "name": "stdout",
     "output_type": "stream",
     "text": [
      "loss 0.3101 - iou 0.7047 - dice 0.8252 - val_loss 0.3046 - val_iou 0.7202 - val_dice 0.8358\n",
      "=> saved best model\n",
      "Epoch [18/100]\n"
     ]
    },
    {
     "name": "stderr",
     "output_type": "stream",
     "text": [
      "100%|█████████████████████████████████████████| 188/188 [01:14<00:00,  2.54it/s, loss=0.301, iou=0.725, dice_coef=0.839]\n",
      "100%|███████████████████████████████████████████| 19/19 [00:02<00:00,  8.32it/s, loss=0.292, iou=0.733, dice_coef=0.844]\n"
     ]
    },
    {
     "name": "stdout",
     "output_type": "stream",
     "text": [
      "loss 0.3008 - iou 0.7249 - dice 0.8388 - val_loss 0.2922 - val_iou 0.7329 - val_dice 0.8443\n",
      "=> saved best model\n",
      "Epoch [19/100]\n"
     ]
    },
    {
     "name": "stderr",
     "output_type": "stream",
     "text": [
      "100%|█████████████████████████████████████████| 188/188 [01:13<00:00,  2.54it/s, loss=0.295, iou=0.735, dice_coef=0.846]\n",
      "100%|███████████████████████████████████████████| 19/19 [00:02<00:00,  8.22it/s, loss=0.277, iou=0.762, dice_coef=0.863]\n"
     ]
    },
    {
     "name": "stdout",
     "output_type": "stream",
     "text": [
      "loss 0.2949 - iou 0.7352 - dice 0.8461 - val_loss 0.2767 - val_iou 0.7623 - val_dice 0.8632\n",
      "=> saved best model\n",
      "Epoch [20/100]\n"
     ]
    },
    {
     "name": "stderr",
     "output_type": "stream",
     "text": [
      "100%|███████████████████████████████████████████| 188/188 [01:14<00:00,  2.52it/s, loss=0.291, iou=0.74, dice_coef=0.85]\n",
      "100%|███████████████████████████████████████████| 19/19 [00:02<00:00,  8.21it/s, loss=0.279, iou=0.765, dice_coef=0.866]\n"
     ]
    },
    {
     "name": "stdout",
     "output_type": "stream",
     "text": [
      "loss 0.2910 - iou 0.7401 - dice 0.8495 - val_loss 0.2794 - val_iou 0.7652 - val_dice 0.8657\n",
      "=> saved best model\n",
      "Epoch [21/100]\n"
     ]
    },
    {
     "name": "stderr",
     "output_type": "stream",
     "text": [
      "100%|█████████████████████████████████████████| 188/188 [01:15<00:00,  2.50it/s, loss=0.284, iou=0.753, dice_coef=0.858]\n",
      "100%|███████████████████████████████████████████| 19/19 [00:02<00:00,  8.19it/s, loss=0.263, iou=0.794, dice_coef=0.884]\n"
     ]
    },
    {
     "name": "stdout",
     "output_type": "stream",
     "text": [
      "loss 0.2838 - iou 0.7530 - dice 0.8578 - val_loss 0.2632 - val_iou 0.7943 - val_dice 0.8840\n",
      "=> saved best model\n",
      "Epoch [22/100]\n"
     ]
    },
    {
     "name": "stderr",
     "output_type": "stream",
     "text": [
      "100%|██████████████████████████████████████████| 188/188 [01:14<00:00,  2.52it/s, loss=0.281, iou=0.758, dice_coef=0.86]\n",
      "100%|███████████████████████████████████████████| 19/19 [00:02<00:00,  8.26it/s, loss=0.284, iou=0.749, dice_coef=0.855]\n"
     ]
    },
    {
     "name": "stdout",
     "output_type": "stream",
     "text": [
      "loss 0.2814 - iou 0.7576 - dice 0.8605 - val_loss 0.2844 - val_iou 0.7489 - val_dice 0.8547\n",
      "Epoch [23/100]\n"
     ]
    },
    {
     "name": "stderr",
     "output_type": "stream",
     "text": [
      "100%|█████████████████████████████████████████| 188/188 [01:15<00:00,  2.48it/s, loss=0.277, iou=0.766, dice_coef=0.866]\n",
      "100%|███████████████████████████████████████████| 19/19 [00:02<00:00,  8.14it/s, loss=0.266, iou=0.805, dice_coef=0.891]\n"
     ]
    },
    {
     "name": "stdout",
     "output_type": "stream",
     "text": [
      "loss 0.2772 - iou 0.7659 - dice 0.8662 - val_loss 0.2661 - val_iou 0.8055 - val_dice 0.8910\n",
      "=> saved best model\n",
      "Epoch [24/100]\n"
     ]
    },
    {
     "name": "stderr",
     "output_type": "stream",
     "text": [
      "100%|█████████████████████████████████████████| 188/188 [01:15<00:00,  2.50it/s, loss=0.271, iou=0.777, dice_coef=0.873]\n",
      "100%|███████████████████████████████████████████| 19/19 [00:02<00:00,  8.07it/s, loss=0.259, iou=0.806, dice_coef=0.892]\n"
     ]
    },
    {
     "name": "stdout",
     "output_type": "stream",
     "text": [
      "loss 0.2713 - iou 0.7772 - dice 0.8734 - val_loss 0.2593 - val_iou 0.8061 - val_dice 0.8919\n",
      "=> saved best model\n",
      "Epoch [25/100]\n"
     ]
    },
    {
     "name": "stderr",
     "output_type": "stream",
     "text": [
      "100%|█████████████████████████████████████████| 188/188 [01:15<00:00,  2.49it/s, loss=0.268, iou=0.786, dice_coef=0.879]\n",
      "100%|████████████████████████████████████████████| 19/19 [00:02<00:00,  8.06it/s, loss=0.259, iou=0.803, dice_coef=0.89]\n"
     ]
    },
    {
     "name": "stdout",
     "output_type": "stream",
     "text": [
      "loss 0.2681 - iou 0.7858 - dice 0.8788 - val_loss 0.2589 - val_iou 0.8030 - val_dice 0.8898\n",
      "Epoch [26/100]\n"
     ]
    },
    {
     "name": "stderr",
     "output_type": "stream",
     "text": [
      "100%|██████████████████████████████████████████| 188/188 [01:15<00:00,  2.48it/s, loss=0.26, iou=0.799, dice_coef=0.887]\n",
      "100%|███████████████████████████████████████████| 19/19 [00:02<00:00,  8.12it/s, loss=0.251, iou=0.825, dice_coef=0.903]\n"
     ]
    },
    {
     "name": "stdout",
     "output_type": "stream",
     "text": [
      "loss 0.2601 - iou 0.7990 - dice 0.8872 - val_loss 0.2507 - val_iou 0.8250 - val_dice 0.9032\n",
      "=> saved best model\n",
      "Epoch [27/100]\n"
     ]
    },
    {
     "name": "stderr",
     "output_type": "stream",
     "text": [
      "100%|██████████████████████████████████████████| 188/188 [01:16<00:00,  2.46it/s, loss=0.258, iou=0.804, dice_coef=0.89]\n",
      "100%|████████████████████████████████████████████| 19/19 [00:02<00:00,  8.17it/s, loss=0.243, iou=0.83, dice_coef=0.907]\n"
     ]
    },
    {
     "name": "stdout",
     "output_type": "stream",
     "text": [
      "loss 0.2582 - iou 0.8039 - dice 0.8903 - val_loss 0.2431 - val_iou 0.8303 - val_dice 0.9066\n",
      "=> saved best model\n",
      "Epoch [28/100]\n"
     ]
    },
    {
     "name": "stderr",
     "output_type": "stream",
     "text": [
      "100%|█████████████████████████████████████████| 188/188 [01:16<00:00,  2.45it/s, loss=0.253, iou=0.812, dice_coef=0.896]\n",
      "100%|████████████████████████████████████████████| 19/19 [00:02<00:00,  7.80it/s, loss=0.245, iou=0.83, dice_coef=0.906]\n"
     ]
    },
    {
     "name": "stdout",
     "output_type": "stream",
     "text": [
      "loss 0.2535 - iou 0.8124 - dice 0.8956 - val_loss 0.2448 - val_iou 0.8296 - val_dice 0.9062\n",
      "Epoch [29/100]\n"
     ]
    },
    {
     "name": "stderr",
     "output_type": "stream",
     "text": [
      "100%|█████████████████████████████████████████| 188/188 [01:16<00:00,  2.47it/s, loss=0.253, iou=0.812, dice_coef=0.896]\n",
      "100%|████████████████████████████████████████████| 19/19 [00:02<00:00,  8.04it/s, loss=0.25, iou=0.813, dice_coef=0.896]\n"
     ]
    },
    {
     "name": "stdout",
     "output_type": "stream",
     "text": [
      "loss 0.2526 - iou 0.8124 - dice 0.8957 - val_loss 0.2504 - val_iou 0.8132 - val_dice 0.8963\n",
      "Epoch [30/100]\n"
     ]
    },
    {
     "name": "stderr",
     "output_type": "stream",
     "text": [
      "100%|█████████████████████████████████████████| 188/188 [01:16<00:00,  2.47it/s, loss=0.246, iou=0.826, dice_coef=0.904]\n",
      "100%|███████████████████████████████████████████| 19/19 [00:02<00:00,  7.96it/s, loss=0.254, iou=0.826, dice_coef=0.904]\n"
     ]
    },
    {
     "name": "stdout",
     "output_type": "stream",
     "text": [
      "loss 0.2457 - iou 0.8257 - dice 0.9038 - val_loss 0.2540 - val_iou 0.8262 - val_dice 0.9035\n",
      "Epoch [31/100]\n"
     ]
    },
    {
     "name": "stderr",
     "output_type": "stream",
     "text": [
      "100%|█████████████████████████████████████████| 188/188 [01:16<00:00,  2.46it/s, loss=0.246, iou=0.826, dice_coef=0.904]\n",
      "100%|███████████████████████████████████████████| 19/19 [00:02<00:00,  7.94it/s, loss=0.225, iou=0.862, dice_coef=0.925]\n"
     ]
    },
    {
     "name": "stdout",
     "output_type": "stream",
     "text": [
      "loss 0.2459 - iou 0.8261 - dice 0.9039 - val_loss 0.2248 - val_iou 0.8624 - val_dice 0.9254\n",
      "=> saved best model\n",
      "Epoch [32/100]\n"
     ]
    },
    {
     "name": "stderr",
     "output_type": "stream",
     "text": [
      "100%|█████████████████████████████████████████| 188/188 [01:17<00:00,  2.44it/s, loss=0.245, iou=0.829, dice_coef=0.906]\n",
      "100%|█████████████████████████████████████████████| 19/19 [00:02<00:00,  7.97it/s, loss=0.23, iou=0.84, dice_coef=0.912]\n"
     ]
    },
    {
     "name": "stdout",
     "output_type": "stream",
     "text": [
      "loss 0.2454 - iou 0.8286 - dice 0.9055 - val_loss 0.2302 - val_iou 0.8395 - val_dice 0.9119\n",
      "Epoch [33/100]\n"
     ]
    },
    {
     "name": "stderr",
     "output_type": "stream",
     "text": [
      "100%|██████████████████████████████████████████| 188/188 [01:16<00:00,  2.45it/s, loss=0.24, iou=0.841, dice_coef=0.913]\n",
      "100%|███████████████████████████████████████████| 19/19 [00:02<00:00,  7.92it/s, loss=0.228, iou=0.863, dice_coef=0.926]\n"
     ]
    },
    {
     "name": "stdout",
     "output_type": "stream",
     "text": [
      "loss 0.2398 - iou 0.8406 - dice 0.9128 - val_loss 0.2279 - val_iou 0.8633 - val_dice 0.9261\n",
      "=> saved best model\n",
      "Epoch [34/100]\n"
     ]
    },
    {
     "name": "stderr",
     "output_type": "stream",
     "text": [
      "100%|█████████████████████████████████████████| 188/188 [01:16<00:00,  2.45it/s, loss=0.239, iou=0.839, dice_coef=0.912]\n",
      "100%|███████████████████████████████████████████| 19/19 [00:02<00:00,  7.90it/s, loss=0.223, iou=0.855, dice_coef=0.921]\n"
     ]
    },
    {
     "name": "stdout",
     "output_type": "stream",
     "text": [
      "loss 0.2393 - iou 0.8391 - dice 0.9117 - val_loss 0.2225 - val_iou 0.8546 - val_dice 0.9212\n",
      "Epoch [35/100]\n"
     ]
    },
    {
     "name": "stderr",
     "output_type": "stream",
     "text": [
      "100%|█████████████████████████████████████████| 188/188 [01:17<00:00,  2.44it/s, loss=0.236, iou=0.847, dice_coef=0.916]\n",
      "100%|███████████████████████████████████████████| 19/19 [00:02<00:00,  7.59it/s, loss=0.221, iou=0.866, dice_coef=0.927]\n"
     ]
    },
    {
     "name": "stdout",
     "output_type": "stream",
     "text": [
      "loss 0.2361 - iou 0.8466 - dice 0.9163 - val_loss 0.2212 - val_iou 0.8656 - val_dice 0.9273\n",
      "=> saved best model\n",
      "Epoch [36/100]\n"
     ]
    },
    {
     "name": "stderr",
     "output_type": "stream",
     "text": [
      "100%|██████████████████████████████████████████| 188/188 [01:17<00:00,  2.42it/s, loss=0.23, iou=0.856, dice_coef=0.922]\n",
      "100%|███████████████████████████████████████████| 19/19 [00:02<00:00,  7.85it/s, loss=0.219, iou=0.876, dice_coef=0.934]\n"
     ]
    },
    {
     "name": "stdout",
     "output_type": "stream",
     "text": [
      "loss 0.2301 - iou 0.8557 - dice 0.9217 - val_loss 0.2186 - val_iou 0.8764 - val_dice 0.9336\n",
      "=> saved best model\n",
      "Epoch [37/100]\n"
     ]
    },
    {
     "name": "stderr",
     "output_type": "stream",
     "text": [
      "100%|█████████████████████████████████████████| 188/188 [01:17<00:00,  2.44it/s, loss=0.231, iou=0.861, dice_coef=0.925]\n",
      "100%|███████████████████████████████████████████| 19/19 [00:02<00:00,  7.84it/s, loss=0.213, iou=0.883, dice_coef=0.937]\n"
     ]
    },
    {
     "name": "stdout",
     "output_type": "stream",
     "text": [
      "loss 0.2305 - iou 0.8610 - dice 0.9248 - val_loss 0.2128 - val_iou 0.8825 - val_dice 0.9372\n",
      "=> saved best model\n",
      "Epoch [38/100]\n"
     ]
    },
    {
     "name": "stderr",
     "output_type": "stream",
     "text": [
      "100%|██████████████████████████████████████████| 188/188 [01:17<00:00,  2.42it/s, loss=0.23, iou=0.857, dice_coef=0.923]\n",
      "100%|████████████████████████████████████████████| 19/19 [00:02<00:00,  7.88it/s, loss=0.21, iou=0.891, dice_coef=0.942]\n"
     ]
    },
    {
     "name": "stdout",
     "output_type": "stream",
     "text": [
      "loss 0.2301 - iou 0.8572 - dice 0.9227 - val_loss 0.2101 - val_iou 0.8906 - val_dice 0.9418\n",
      "=> saved best model\n",
      "Epoch [39/100]\n"
     ]
    },
    {
     "name": "stderr",
     "output_type": "stream",
     "text": [
      "100%|█████████████████████████████████████████| 188/188 [01:17<00:00,  2.43it/s, loss=0.226, iou=0.866, dice_coef=0.928]\n",
      "100%|███████████████████████████████████████████| 19/19 [00:02<00:00,  7.62it/s, loss=0.212, iou=0.888, dice_coef=0.941]\n"
     ]
    },
    {
     "name": "stdout",
     "output_type": "stream",
     "text": [
      "loss 0.2257 - iou 0.8661 - dice 0.9279 - val_loss 0.2120 - val_iou 0.8884 - val_dice 0.9406\n",
      "Epoch [40/100]\n"
     ]
    },
    {
     "name": "stderr",
     "output_type": "stream",
     "text": [
      "100%|█████████████████████████████████████████| 188/188 [01:18<00:00,  2.39it/s, loss=0.221, iou=0.876, dice_coef=0.933]\n",
      "100%|███████████████████████████████████████████| 19/19 [00:02<00:00,  7.93it/s, loss=0.212, iou=0.881, dice_coef=0.936]\n"
     ]
    },
    {
     "name": "stdout",
     "output_type": "stream",
     "text": [
      "loss 0.2209 - iou 0.8756 - dice 0.9332 - val_loss 0.2119 - val_iou 0.8808 - val_dice 0.9362\n",
      "Epoch [41/100]\n"
     ]
    },
    {
     "name": "stderr",
     "output_type": "stream",
     "text": [
      "100%|█████████████████████████████████████████| 188/188 [01:16<00:00,  2.44it/s, loss=0.225, iou=0.869, dice_coef=0.929]\n",
      "100%|████████████████████████████████████████████| 19/19 [00:02<00:00,  8.06it/s, loss=0.208, iou=0.887, dice_coef=0.94]\n"
     ]
    },
    {
     "name": "stdout",
     "output_type": "stream",
     "text": [
      "loss 0.2251 - iou 0.8688 - dice 0.9293 - val_loss 0.2078 - val_iou 0.8872 - val_dice 0.9398\n",
      "Epoch [42/100]\n"
     ]
    },
    {
     "name": "stderr",
     "output_type": "stream",
     "text": [
      "100%|██████████████████████████████████████████| 188/188 [01:19<00:00,  2.37it/s, loss=0.22, iou=0.879, dice_coef=0.935]\n",
      "100%|████████████████████████████████████████████| 19/19 [00:02<00:00,  8.15it/s, loss=0.213, iou=0.887, dice_coef=0.94]\n"
     ]
    },
    {
     "name": "stdout",
     "output_type": "stream",
     "text": [
      "loss 0.2197 - iou 0.8789 - dice 0.9353 - val_loss 0.2126 - val_iou 0.8869 - val_dice 0.9397\n",
      "Epoch [43/100]\n"
     ]
    },
    {
     "name": "stderr",
     "output_type": "stream",
     "text": [
      "100%|█████████████████████████████████████████| 188/188 [01:17<00:00,  2.42it/s, loss=0.217, iou=0.884, dice_coef=0.938]\n",
      "100%|███████████████████████████████████████████| 19/19 [00:02<00:00,  7.86it/s, loss=0.216, iou=0.902, dice_coef=0.948]\n"
     ]
    },
    {
     "name": "stdout",
     "output_type": "stream",
     "text": [
      "loss 0.2173 - iou 0.8841 - dice 0.9383 - val_loss 0.2163 - val_iou 0.9015 - val_dice 0.9480\n",
      "=> saved best model\n",
      "Epoch [44/100]\n"
     ]
    },
    {
     "name": "stderr",
     "output_type": "stream",
     "text": [
      "100%|█████████████████████████████████████████| 188/188 [01:17<00:00,  2.43it/s, loss=0.216, iou=0.886, dice_coef=0.939]\n",
      "100%|███████████████████████████████████████████| 19/19 [00:02<00:00,  7.56it/s, loss=0.204, iou=0.908, dice_coef=0.952]\n"
     ]
    },
    {
     "name": "stdout",
     "output_type": "stream",
     "text": [
      "loss 0.2161 - iou 0.8859 - dice 0.9392 - val_loss 0.2040 - val_iou 0.9083 - val_dice 0.9517\n",
      "=> saved best model\n",
      "Epoch [45/100]\n"
     ]
    },
    {
     "name": "stderr",
     "output_type": "stream",
     "text": [
      "100%|██████████████████████████████████████████| 188/188 [01:16<00:00,  2.46it/s, loss=0.214, iou=0.888, dice_coef=0.94]\n",
      "100%|███████████████████████████████████████████| 19/19 [00:02<00:00,  7.83it/s, loss=0.207, iou=0.901, dice_coef=0.947]\n"
     ]
    },
    {
     "name": "stdout",
     "output_type": "stream",
     "text": [
      "loss 0.2136 - iou 0.8881 - dice 0.9404 - val_loss 0.2069 - val_iou 0.9009 - val_dice 0.9474\n",
      "Epoch [46/100]\n"
     ]
    },
    {
     "name": "stderr",
     "output_type": "stream",
     "text": [
      "100%|█████████████████████████████████████████| 188/188 [01:18<00:00,  2.41it/s, loss=0.213, iou=0.891, dice_coef=0.942]\n",
      "100%|███████████████████████████████████████████| 19/19 [00:02<00:00,  7.97it/s, loss=0.205, iou=0.911, dice_coef=0.953]\n"
     ]
    },
    {
     "name": "stdout",
     "output_type": "stream",
     "text": [
      "loss 0.2134 - iou 0.8907 - dice 0.9419 - val_loss 0.2049 - val_iou 0.9105 - val_dice 0.9530\n",
      "=> saved best model\n",
      "Epoch [47/100]\n"
     ]
    },
    {
     "name": "stderr",
     "output_type": "stream",
     "text": [
      "100%|██████████████████████████████████████████| 188/188 [01:18<00:00,  2.39it/s, loss=0.214, iou=0.89, dice_coef=0.942]\n",
      "100%|███████████████████████████████████████████| 19/19 [00:02<00:00,  8.06it/s, loss=0.196, iou=0.913, dice_coef=0.954]\n"
     ]
    },
    {
     "name": "stdout",
     "output_type": "stream",
     "text": [
      "loss 0.2144 - iou 0.8905 - dice 0.9418 - val_loss 0.1958 - val_iou 0.9128 - val_dice 0.9542\n",
      "=> saved best model\n",
      "Epoch [48/100]\n"
     ]
    },
    {
     "name": "stderr",
     "output_type": "stream",
     "text": [
      "100%|████████████████████████████████████████████| 188/188 [01:18<00:00,  2.41it/s, loss=0.21, iou=0.9, dice_coef=0.947]\n",
      "100%|███████████████████████████████████████████| 19/19 [00:02<00:00,  8.13it/s, loss=0.207, iou=0.899, dice_coef=0.946]\n"
     ]
    },
    {
     "name": "stdout",
     "output_type": "stream",
     "text": [
      "loss 0.2096 - iou 0.8996 - dice 0.9470 - val_loss 0.2068 - val_iou 0.8986 - val_dice 0.9463\n",
      "Epoch [49/100]\n"
     ]
    },
    {
     "name": "stderr",
     "output_type": "stream",
     "text": [
      "100%|█████████████████████████████████████████| 188/188 [01:18<00:00,  2.40it/s, loss=0.207, iou=0.902, dice_coef=0.948]\n",
      "100%|███████████████████████████████████████████| 19/19 [00:02<00:00,  8.18it/s, loss=0.236, iou=0.876, dice_coef=0.934]\n"
     ]
    },
    {
     "name": "stdout",
     "output_type": "stream",
     "text": [
      "loss 0.2075 - iou 0.9015 - dice 0.9480 - val_loss 0.2356 - val_iou 0.8758 - val_dice 0.9335\n",
      "Epoch [50/100]\n"
     ]
    },
    {
     "name": "stderr",
     "output_type": "stream",
     "text": [
      "100%|█████████████████████████████████████████| 188/188 [01:17<00:00,  2.41it/s, loss=0.208, iou=0.898, dice_coef=0.946]\n",
      "100%|███████████████████████████████████████████| 19/19 [00:02<00:00,  7.89it/s, loss=0.192, iou=0.912, dice_coef=0.954]\n"
     ]
    },
    {
     "name": "stdout",
     "output_type": "stream",
     "text": [
      "loss 0.2079 - iou 0.8984 - dice 0.9462 - val_loss 0.1921 - val_iou 0.9120 - val_dice 0.9538\n",
      "Epoch [51/100]\n"
     ]
    },
    {
     "name": "stderr",
     "output_type": "stream",
     "text": [
      "100%|█████████████████████████████████████████| 188/188 [01:17<00:00,  2.42it/s, loss=0.207, iou=0.899, dice_coef=0.946]\n",
      "100%|███████████████████████████████████████████| 19/19 [00:02<00:00,  7.97it/s, loss=0.195, iou=0.918, dice_coef=0.957]\n"
     ]
    },
    {
     "name": "stdout",
     "output_type": "stream",
     "text": [
      "loss 0.2073 - iou 0.8987 - dice 0.9464 - val_loss 0.1946 - val_iou 0.9180 - val_dice 0.9571\n",
      "=> saved best model\n",
      "Epoch [52/100]\n"
     ]
    },
    {
     "name": "stderr",
     "output_type": "stream",
     "text": [
      "100%|█████████████████████████████████████████| 188/188 [01:19<00:00,  2.37it/s, loss=0.206, iou=0.902, dice_coef=0.948]\n",
      "100%|███████████████████████████████████████████| 19/19 [00:02<00:00,  8.07it/s, loss=0.192, iou=0.915, dice_coef=0.956]\n"
     ]
    },
    {
     "name": "stdout",
     "output_type": "stream",
     "text": [
      "loss 0.2056 - iou 0.9021 - dice 0.9483 - val_loss 0.1924 - val_iou 0.9151 - val_dice 0.9556\n",
      "Epoch [53/100]\n"
     ]
    },
    {
     "name": "stderr",
     "output_type": "stream",
     "text": [
      "100%|█████████████████████████████████████████| 188/188 [01:17<00:00,  2.43it/s, loss=0.203, iou=0.908, dice_coef=0.951]\n",
      "100%|███████████████████████████████████████████| 19/19 [00:02<00:00,  7.81it/s, loss=0.195, iou=0.912, dice_coef=0.954]\n"
     ]
    },
    {
     "name": "stdout",
     "output_type": "stream",
     "text": [
      "loss 0.2030 - iou 0.9077 - dice 0.9514 - val_loss 0.1949 - val_iou 0.9117 - val_dice 0.9537\n",
      "Epoch [54/100]\n"
     ]
    },
    {
     "name": "stderr",
     "output_type": "stream",
     "text": [
      "100%|█████████████████████████████████████████| 188/188 [01:18<00:00,  2.41it/s, loss=0.204, iou=0.907, dice_coef=0.951]\n",
      "100%|████████████████████████████████████████████| 19/19 [00:02<00:00,  7.54it/s, loss=0.195, iou=0.905, dice_coef=0.95]\n"
     ]
    },
    {
     "name": "stdout",
     "output_type": "stream",
     "text": [
      "loss 0.2044 - iou 0.9071 - dice 0.9511 - val_loss 0.1945 - val_iou 0.9052 - val_dice 0.9500\n",
      "Epoch [55/100]\n"
     ]
    },
    {
     "name": "stderr",
     "output_type": "stream",
     "text": [
      "100%|█████████████████████████████████████████| 188/188 [01:18<00:00,  2.41it/s, loss=0.201, iou=0.911, dice_coef=0.953]\n",
      "100%|███████████████████████████████████████████| 19/19 [00:02<00:00,  7.84it/s, loss=0.204, iou=0.889, dice_coef=0.941]\n"
     ]
    },
    {
     "name": "stdout",
     "output_type": "stream",
     "text": [
      "loss 0.2006 - iou 0.9105 - dice 0.9530 - val_loss 0.2038 - val_iou 0.8889 - val_dice 0.9409\n",
      "Epoch [56/100]\n"
     ]
    },
    {
     "name": "stderr",
     "output_type": "stream",
     "text": [
      "100%|███████████████████████████████████████████| 188/188 [01:18<00:00,  2.39it/s, loss=0.2, iou=0.911, dice_coef=0.953]\n",
      "100%|███████████████████████████████████████████| 19/19 [00:02<00:00,  7.76it/s, loss=0.206, iou=0.925, dice_coef=0.961]\n"
     ]
    },
    {
     "name": "stdout",
     "output_type": "stream",
     "text": [
      "loss 0.2003 - iou 0.9111 - dice 0.9533 - val_loss 0.2058 - val_iou 0.9246 - val_dice 0.9607\n",
      "=> saved best model\n",
      "Epoch [57/100]\n"
     ]
    },
    {
     "name": "stderr",
     "output_type": "stream",
     "text": [
      "100%|█████████████████████████████████████████| 188/188 [01:17<00:00,  2.41it/s, loss=0.189, iou=0.929, dice_coef=0.963]\n",
      "100%|███████████████████████████████████████████| 19/19 [00:02<00:00,  8.12it/s, loss=0.175, iou=0.941, dice_coef=0.969]\n"
     ]
    },
    {
     "name": "stdout",
     "output_type": "stream",
     "text": [
      "loss 0.1891 - iou 0.9289 - dice 0.9630 - val_loss 0.1747 - val_iou 0.9406 - val_dice 0.9693\n",
      "=> saved best model\n",
      "Epoch [58/100]\n"
     ]
    },
    {
     "name": "stderr",
     "output_type": "stream",
     "text": [
      "100%|█████████████████████████████████████████| 188/188 [01:18<00:00,  2.40it/s, loss=0.185, iou=0.933, dice_coef=0.965]\n",
      "100%|████████████████████████████████████████████| 19/19 [00:02<00:00,  7.73it/s, loss=0.174, iou=0.942, dice_coef=0.97]\n"
     ]
    },
    {
     "name": "stdout",
     "output_type": "stream",
     "text": [
      "loss 0.1848 - iou 0.9326 - dice 0.9650 - val_loss 0.1737 - val_iou 0.9422 - val_dice 0.9702\n",
      "=> saved best model\n",
      "Epoch [59/100]\n"
     ]
    },
    {
     "name": "stderr",
     "output_type": "stream",
     "text": [
      "100%|█████████████████████████████████████████| 188/188 [01:17<00:00,  2.42it/s, loss=0.185, iou=0.934, dice_coef=0.966]\n",
      "100%|███████████████████████████████████████████| 19/19 [00:02<00:00,  7.62it/s, loss=0.173, iou=0.943, dice_coef=0.971]\n"
     ]
    },
    {
     "name": "stdout",
     "output_type": "stream",
     "text": [
      "loss 0.1848 - iou 0.9341 - dice 0.9658 - val_loss 0.1730 - val_iou 0.9431 - val_dice 0.9707\n",
      "=> saved best model\n",
      "Epoch [60/100]\n"
     ]
    },
    {
     "name": "stderr",
     "output_type": "stream",
     "text": [
      "100%|█████████████████████████████████████████| 188/188 [01:18<00:00,  2.41it/s, loss=0.183, iou=0.935, dice_coef=0.966]\n",
      "100%|███████████████████████████████████████████| 19/19 [00:02<00:00,  7.81it/s, loss=0.173, iou=0.944, dice_coef=0.971]\n"
     ]
    },
    {
     "name": "stdout",
     "output_type": "stream",
     "text": [
      "loss 0.1826 - iou 0.9351 - dice 0.9664 - val_loss 0.1726 - val_iou 0.9436 - val_dice 0.9709\n",
      "=> saved best model\n",
      "Epoch [61/100]\n"
     ]
    },
    {
     "name": "stderr",
     "output_type": "stream",
     "text": [
      "100%|█████████████████████████████████████████| 188/188 [01:18<00:00,  2.40it/s, loss=0.183, iou=0.936, dice_coef=0.967]\n",
      "100%|███████████████████████████████████████████| 19/19 [00:02<00:00,  7.66it/s, loss=0.173, iou=0.944, dice_coef=0.971]\n"
     ]
    },
    {
     "name": "stdout",
     "output_type": "stream",
     "text": [
      "loss 0.1833 - iou 0.9358 - dice 0.9667 - val_loss 0.1728 - val_iou 0.9440 - val_dice 0.9711\n",
      "=> saved best model\n",
      "Epoch [62/100]\n"
     ]
    },
    {
     "name": "stderr",
     "output_type": "stream",
     "text": [
      "100%|█████████████████████████████████████████| 188/188 [01:17<00:00,  2.43it/s, loss=0.181, iou=0.937, dice_coef=0.968]\n",
      "100%|███████████████████████████████████████████| 19/19 [00:02<00:00,  7.84it/s, loss=0.172, iou=0.945, dice_coef=0.972]\n"
     ]
    },
    {
     "name": "stdout",
     "output_type": "stream",
     "text": [
      "loss 0.1809 - iou 0.9374 - dice 0.9676 - val_loss 0.1722 - val_iou 0.9448 - val_dice 0.9716\n",
      "=> saved best model\n",
      "Epoch [63/100]\n"
     ]
    },
    {
     "name": "stderr",
     "output_type": "stream",
     "text": [
      "100%|█████████████████████████████████████████| 188/188 [01:18<00:00,  2.39it/s, loss=0.182, iou=0.937, dice_coef=0.968]\n",
      "100%|███████████████████████████████████████████| 19/19 [00:02<00:00,  7.79it/s, loss=0.171, iou=0.945, dice_coef=0.972]\n"
     ]
    },
    {
     "name": "stdout",
     "output_type": "stream",
     "text": [
      "loss 0.1816 - iou 0.9375 - dice 0.9676 - val_loss 0.1714 - val_iou 0.9451 - val_dice 0.9717\n",
      "=> saved best model\n",
      "Epoch [64/100]\n"
     ]
    },
    {
     "name": "stderr",
     "output_type": "stream",
     "text": [
      "100%|█████████████████████████████████████████| 188/188 [01:19<00:00,  2.38it/s, loss=0.181, iou=0.937, dice_coef=0.967]\n",
      "100%|███████████████████████████████████████████| 19/19 [00:02<00:00,  7.71it/s, loss=0.173, iou=0.946, dice_coef=0.972]\n"
     ]
    },
    {
     "name": "stdout",
     "output_type": "stream",
     "text": [
      "loss 0.1812 - iou 0.9370 - dice 0.9674 - val_loss 0.1726 - val_iou 0.9457 - val_dice 0.9720\n",
      "=> saved best model\n",
      "Epoch [65/100]\n"
     ]
    },
    {
     "name": "stderr",
     "output_type": "stream",
     "text": [
      "100%|█████████████████████████████████████████| 188/188 [01:19<00:00,  2.37it/s, loss=0.181, iou=0.938, dice_coef=0.968]\n",
      "100%|████████████████████████████████████████████| 19/19 [00:02<00:00,  7.69it/s, loss=0.17, iou=0.947, dice_coef=0.972]\n"
     ]
    },
    {
     "name": "stdout",
     "output_type": "stream",
     "text": [
      "loss 0.1806 - iou 0.9380 - dice 0.9679 - val_loss 0.1703 - val_iou 0.9466 - val_dice 0.9725\n",
      "=> saved best model\n",
      "Epoch [66/100]\n"
     ]
    },
    {
     "name": "stderr",
     "output_type": "stream",
     "text": [
      "100%|██████████████████████████████████████████| 188/188 [01:17<00:00,  2.41it/s, loss=0.18, iou=0.939, dice_coef=0.968]\n",
      "100%|████████████████████████████████████████████| 19/19 [00:02<00:00,  7.82it/s, loss=0.17, iou=0.946, dice_coef=0.972]\n"
     ]
    },
    {
     "name": "stdout",
     "output_type": "stream",
     "text": [
      "loss 0.1801 - iou 0.9389 - dice 0.9684 - val_loss 0.1704 - val_iou 0.9463 - val_dice 0.9723\n",
      "Epoch [67/100]\n"
     ]
    },
    {
     "name": "stderr",
     "output_type": "stream",
     "text": [
      "100%|█████████████████████████████████████████| 188/188 [01:19<00:00,  2.36it/s, loss=0.181, iou=0.939, dice_coef=0.968]\n",
      "100%|███████████████████████████████████████████| 19/19 [00:02<00:00,  7.25it/s, loss=0.172, iou=0.947, dice_coef=0.973]\n"
     ]
    },
    {
     "name": "stdout",
     "output_type": "stream",
     "text": [
      "loss 0.1812 - iou 0.9387 - dice 0.9683 - val_loss 0.1716 - val_iou 0.9469 - val_dice 0.9727\n",
      "=> saved best model\n",
      "Epoch [68/100]\n"
     ]
    },
    {
     "name": "stderr",
     "output_type": "stream",
     "text": [
      "100%|██████████████████████████████████████████| 188/188 [01:20<00:00,  2.35it/s, loss=0.18, iou=0.939, dice_coef=0.969]\n",
      "100%|███████████████████████████████████████████| 19/19 [00:02<00:00,  7.46it/s, loss=0.171, iou=0.947, dice_coef=0.973]\n"
     ]
    },
    {
     "name": "stdout",
     "output_type": "stream",
     "text": [
      "loss 0.1797 - iou 0.9393 - dice 0.9686 - val_loss 0.1709 - val_iou 0.9470 - val_dice 0.9727\n",
      "=> saved best model\n",
      "Epoch [69/100]\n"
     ]
    },
    {
     "name": "stderr",
     "output_type": "stream",
     "text": [
      "100%|██████████████████████████████████████████| 188/188 [01:20<00:00,  2.34it/s, loss=0.18, iou=0.939, dice_coef=0.968]\n",
      "100%|███████████████████████████████████████████| 19/19 [00:02<00:00,  7.97it/s, loss=0.171, iou=0.948, dice_coef=0.973]\n"
     ]
    },
    {
     "name": "stdout",
     "output_type": "stream",
     "text": [
      "loss 0.1799 - iou 0.9389 - dice 0.9684 - val_loss 0.1705 - val_iou 0.9479 - val_dice 0.9732\n",
      "=> saved best model\n",
      "Epoch [70/100]\n"
     ]
    },
    {
     "name": "stderr",
     "output_type": "stream",
     "text": [
      "100%|█████████████████████████████████████████| 188/188 [01:16<00:00,  2.45it/s, loss=0.179, iou=0.941, dice_coef=0.969]\n",
      "100%|███████████████████████████████████████████| 19/19 [00:02<00:00,  7.33it/s, loss=0.169, iou=0.948, dice_coef=0.973]\n"
     ]
    },
    {
     "name": "stdout",
     "output_type": "stream",
     "text": [
      "loss 0.1787 - iou 0.9406 - dice 0.9693 - val_loss 0.1695 - val_iou 0.9484 - val_dice 0.9735\n",
      "=> saved best model\n",
      "Epoch [71/100]\n"
     ]
    },
    {
     "name": "stderr",
     "output_type": "stream",
     "text": [
      "100%|███████████████████████████████████████████| 188/188 [01:19<00:00,  2.37it/s, loss=0.18, iou=0.94, dice_coef=0.969]\n",
      "100%|████████████████████████████████████████████| 19/19 [00:02<00:00,  7.76it/s, loss=0.17, iou=0.948, dice_coef=0.973]\n"
     ]
    },
    {
     "name": "stdout",
     "output_type": "stream",
     "text": [
      "loss 0.1805 - iou 0.9400 - dice 0.9690 - val_loss 0.1695 - val_iou 0.9483 - val_dice 0.9734\n",
      "Epoch [72/100]\n"
     ]
    },
    {
     "name": "stderr",
     "output_type": "stream",
     "text": [
      "100%|██████████████████████████████████████████| 188/188 [01:18<00:00,  2.40it/s, loss=0.179, iou=0.941, dice_coef=0.97]\n",
      "100%|███████████████████████████████████████████| 19/19 [00:02<00:00,  7.49it/s, loss=0.169, iou=0.949, dice_coef=0.974]\n"
     ]
    },
    {
     "name": "stdout",
     "output_type": "stream",
     "text": [
      "loss 0.1794 - iou 0.9411 - dice 0.9696 - val_loss 0.1692 - val_iou 0.9487 - val_dice 0.9736\n",
      "=> saved best model\n",
      "Epoch [73/100]\n"
     ]
    },
    {
     "name": "stderr",
     "output_type": "stream",
     "text": [
      "100%|██████████████████████████████████████████| 188/188 [01:18<00:00,  2.40it/s, loss=0.179, iou=0.941, dice_coef=0.97]\n",
      "100%|███████████████████████████████████████████| 19/19 [00:02<00:00,  7.84it/s, loss=0.168, iou=0.949, dice_coef=0.974]\n"
     ]
    },
    {
     "name": "stdout",
     "output_type": "stream",
     "text": [
      "loss 0.1787 - iou 0.9411 - dice 0.9696 - val_loss 0.1683 - val_iou 0.9494 - val_dice 0.9740\n",
      "=> saved best model\n",
      "Epoch [74/100]\n"
     ]
    },
    {
     "name": "stderr",
     "output_type": "stream",
     "text": [
      "100%|██████████████████████████████████████████| 188/188 [01:19<00:00,  2.37it/s, loss=0.178, iou=0.942, dice_coef=0.97]\n",
      "100%|████████████████████████████████████████████| 19/19 [00:02<00:00,  7.65it/s, loss=0.168, iou=0.95, dice_coef=0.974]\n"
     ]
    },
    {
     "name": "stdout",
     "output_type": "stream",
     "text": [
      "loss 0.1775 - iou 0.9424 - dice 0.9703 - val_loss 0.1679 - val_iou 0.9502 - val_dice 0.9744\n",
      "=> saved best model\n",
      "Epoch [75/100]\n"
     ]
    },
    {
     "name": "stderr",
     "output_type": "stream",
     "text": [
      "100%|██████████████████████████████████████████| 188/188 [01:19<00:00,  2.37it/s, loss=0.178, iou=0.942, dice_coef=0.97]\n",
      "100%|████████████████████████████████████████████| 19/19 [00:02<00:00,  8.14it/s, loss=0.169, iou=0.95, dice_coef=0.974]\n"
     ]
    },
    {
     "name": "stdout",
     "output_type": "stream",
     "text": [
      "loss 0.1777 - iou 0.9424 - dice 0.9703 - val_loss 0.1693 - val_iou 0.9500 - val_dice 0.9743\n",
      "Epoch [76/100]\n"
     ]
    },
    {
     "name": "stderr",
     "output_type": "stream",
     "text": [
      "100%|█████████████████████████████████████████| 188/188 [01:17<00:00,  2.42it/s, loss=0.177, iou=0.943, dice_coef=0.971]\n",
      "100%|████████████████████████████████████████████| 19/19 [00:02<00:00,  7.79it/s, loss=0.169, iou=0.95, dice_coef=0.974]\n"
     ]
    },
    {
     "name": "stdout",
     "output_type": "stream",
     "text": [
      "loss 0.1767 - iou 0.9431 - dice 0.9707 - val_loss 0.1688 - val_iou 0.9502 - val_dice 0.9744\n",
      "=> saved best model\n",
      "Epoch [77/100]\n"
     ]
    },
    {
     "name": "stderr",
     "output_type": "stream",
     "text": [
      "100%|█████████████████████████████████████████| 188/188 [01:17<00:00,  2.41it/s, loss=0.179, iou=0.943, dice_coef=0.971]\n",
      "100%|███████████████████████████████████████████| 19/19 [00:02<00:00,  7.87it/s, loss=0.168, iou=0.951, dice_coef=0.975]\n"
     ]
    },
    {
     "name": "stdout",
     "output_type": "stream",
     "text": [
      "loss 0.1787 - iou 0.9432 - dice 0.9707 - val_loss 0.1680 - val_iou 0.9509 - val_dice 0.9748\n",
      "=> saved best model\n",
      "Epoch [78/100]\n"
     ]
    },
    {
     "name": "stderr",
     "output_type": "stream",
     "text": [
      "100%|█████████████████████████████████████████| 188/188 [01:17<00:00,  2.41it/s, loss=0.177, iou=0.944, dice_coef=0.971]\n",
      "100%|███████████████████████████████████████████| 19/19 [00:02<00:00,  7.81it/s, loss=0.167, iou=0.951, dice_coef=0.975]\n"
     ]
    },
    {
     "name": "stdout",
     "output_type": "stream",
     "text": [
      "loss 0.1766 - iou 0.9435 - dice 0.9709 - val_loss 0.1674 - val_iou 0.9513 - val_dice 0.9750\n",
      "=> saved best model\n",
      "Epoch [79/100]\n"
     ]
    },
    {
     "name": "stderr",
     "output_type": "stream",
     "text": [
      "100%|█████████████████████████████████████████| 188/188 [01:18<00:00,  2.40it/s, loss=0.177, iou=0.944, dice_coef=0.971]\n",
      "100%|███████████████████████████████████████████| 19/19 [00:02<00:00,  7.78it/s, loss=0.167, iou=0.952, dice_coef=0.975]\n"
     ]
    },
    {
     "name": "stdout",
     "output_type": "stream",
     "text": [
      "loss 0.1772 - iou 0.9436 - dice 0.9709 - val_loss 0.1674 - val_iou 0.9515 - val_dice 0.9751\n",
      "=> saved best model\n",
      "Epoch [80/100]\n"
     ]
    },
    {
     "name": "stderr",
     "output_type": "stream",
     "text": [
      "100%|█████████████████████████████████████████| 188/188 [01:18<00:00,  2.39it/s, loss=0.176, iou=0.944, dice_coef=0.971]\n",
      "100%|███████████████████████████████████████████| 19/19 [00:02<00:00,  7.66it/s, loss=0.167, iou=0.951, dice_coef=0.975]\n"
     ]
    },
    {
     "name": "stdout",
     "output_type": "stream",
     "text": [
      "loss 0.1762 - iou 0.9441 - dice 0.9711 - val_loss 0.1668 - val_iou 0.9515 - val_dice 0.9751\n",
      "Epoch [81/100]\n"
     ]
    },
    {
     "name": "stderr",
     "output_type": "stream",
     "text": [
      "100%|█████████████████████████████████████████| 188/188 [01:19<00:00,  2.37it/s, loss=0.176, iou=0.945, dice_coef=0.971]\n",
      "100%|███████████████████████████████████████████| 19/19 [00:02<00:00,  7.69it/s, loss=0.167, iou=0.952, dice_coef=0.975]\n"
     ]
    },
    {
     "name": "stdout",
     "output_type": "stream",
     "text": [
      "loss 0.1760 - iou 0.9446 - dice 0.9715 - val_loss 0.1675 - val_iou 0.9519 - val_dice 0.9753\n",
      "=> saved best model\n",
      "Epoch [82/100]\n"
     ]
    },
    {
     "name": "stderr",
     "output_type": "stream",
     "text": [
      "100%|█████████████████████████████████████████| 188/188 [01:18<00:00,  2.39it/s, loss=0.176, iou=0.945, dice_coef=0.971]\n",
      "100%|███████████████████████████████████████████| 19/19 [00:02<00:00,  7.81it/s, loss=0.166, iou=0.952, dice_coef=0.975]\n"
     ]
    },
    {
     "name": "stdout",
     "output_type": "stream",
     "text": [
      "loss 0.1763 - iou 0.9447 - dice 0.9715 - val_loss 0.1664 - val_iou 0.9522 - val_dice 0.9755\n",
      "=> saved best model\n",
      "Epoch [83/100]\n"
     ]
    },
    {
     "name": "stderr",
     "output_type": "stream",
     "text": [
      "100%|█████████████████████████████████████████| 188/188 [01:18<00:00,  2.41it/s, loss=0.176, iou=0.946, dice_coef=0.972]\n",
      "100%|███████████████████████████████████████████| 19/19 [00:02<00:00,  7.77it/s, loss=0.166, iou=0.952, dice_coef=0.976]\n"
     ]
    },
    {
     "name": "stdout",
     "output_type": "stream",
     "text": [
      "loss 0.1762 - iou 0.9455 - dice 0.9719 - val_loss 0.1664 - val_iou 0.9525 - val_dice 0.9756\n",
      "=> saved best model\n",
      "Epoch [84/100]\n"
     ]
    },
    {
     "name": "stderr",
     "output_type": "stream",
     "text": [
      "100%|█████████████████████████████████████████| 188/188 [01:18<00:00,  2.39it/s, loss=0.175, iou=0.946, dice_coef=0.972]\n",
      "100%|███████████████████████████████████████████| 19/19 [00:02<00:00,  7.86it/s, loss=0.167, iou=0.953, dice_coef=0.976]\n"
     ]
    },
    {
     "name": "stdout",
     "output_type": "stream",
     "text": [
      "loss 0.1751 - iou 0.9460 - dice 0.9722 - val_loss 0.1670 - val_iou 0.9531 - val_dice 0.9760\n",
      "=> saved best model\n",
      "Epoch [85/100]\n"
     ]
    },
    {
     "name": "stderr",
     "output_type": "stream",
     "text": [
      "100%|█████████████████████████████████████████| 188/188 [01:18<00:00,  2.40it/s, loss=0.176, iou=0.946, dice_coef=0.972]\n",
      "100%|███████████████████████████████████████████| 19/19 [00:02<00:00,  7.89it/s, loss=0.167, iou=0.954, dice_coef=0.976]\n"
     ]
    },
    {
     "name": "stdout",
     "output_type": "stream",
     "text": [
      "loss 0.1759 - iou 0.9459 - dice 0.9721 - val_loss 0.1666 - val_iou 0.9536 - val_dice 0.9762\n",
      "=> saved best model\n",
      "Epoch [86/100]\n"
     ]
    },
    {
     "name": "stderr",
     "output_type": "stream",
     "text": [
      "100%|█████████████████████████████████████████| 188/188 [01:18<00:00,  2.38it/s, loss=0.176, iou=0.946, dice_coef=0.972]\n",
      "100%|███████████████████████████████████████████| 19/19 [00:02<00:00,  7.68it/s, loss=0.166, iou=0.953, dice_coef=0.976]\n"
     ]
    },
    {
     "name": "stdout",
     "output_type": "stream",
     "text": [
      "loss 0.1755 - iou 0.9459 - dice 0.9722 - val_loss 0.1657 - val_iou 0.9534 - val_dice 0.9761\n",
      "Epoch [87/100]\n"
     ]
    },
    {
     "name": "stderr",
     "output_type": "stream",
     "text": [
      "100%|█████████████████████████████████████████| 188/188 [01:19<00:00,  2.37it/s, loss=0.176, iou=0.946, dice_coef=0.972]\n",
      "100%|███████████████████████████████████████████| 19/19 [00:02<00:00,  7.42it/s, loss=0.165, iou=0.954, dice_coef=0.976]\n"
     ]
    },
    {
     "name": "stdout",
     "output_type": "stream",
     "text": [
      "loss 0.1759 - iou 0.9464 - dice 0.9724 - val_loss 0.1654 - val_iou 0.9540 - val_dice 0.9764\n",
      "=> saved best model\n",
      "Epoch [88/100]\n"
     ]
    },
    {
     "name": "stderr",
     "output_type": "stream",
     "text": [
      "100%|█████████████████████████████████████████| 188/188 [01:17<00:00,  2.42it/s, loss=0.174, iou=0.947, dice_coef=0.973]\n",
      "100%|███████████████████████████████████████████| 19/19 [00:02<00:00,  7.93it/s, loss=0.165, iou=0.954, dice_coef=0.977]\n"
     ]
    },
    {
     "name": "stdout",
     "output_type": "stream",
     "text": [
      "loss 0.1742 - iou 0.9475 - dice 0.9730 - val_loss 0.1648 - val_iou 0.9544 - val_dice 0.9766\n",
      "=> saved best model\n",
      "Epoch [89/100]\n"
     ]
    },
    {
     "name": "stderr",
     "output_type": "stream",
     "text": [
      "100%|█████████████████████████████████████████| 188/188 [01:18<00:00,  2.39it/s, loss=0.176, iou=0.947, dice_coef=0.973]\n",
      "100%|███████████████████████████████████████████| 19/19 [00:02<00:00,  7.78it/s, loss=0.164, iou=0.954, dice_coef=0.977]\n"
     ]
    },
    {
     "name": "stdout",
     "output_type": "stream",
     "text": [
      "loss 0.1756 - iou 0.9471 - dice 0.9728 - val_loss 0.1642 - val_iou 0.9545 - val_dice 0.9767\n",
      "=> saved best model\n",
      "Epoch [90/100]\n"
     ]
    },
    {
     "name": "stderr",
     "output_type": "stream",
     "text": [
      "100%|█████████████████████████████████████████| 188/188 [01:18<00:00,  2.39it/s, loss=0.174, iou=0.947, dice_coef=0.973]\n",
      "100%|███████████████████████████████████████████| 19/19 [00:02<00:00,  7.76it/s, loss=0.165, iou=0.955, dice_coef=0.977]\n"
     ]
    },
    {
     "name": "stdout",
     "output_type": "stream",
     "text": [
      "loss 0.1739 - iou 0.9466 - dice 0.9725 - val_loss 0.1649 - val_iou 0.9548 - val_dice 0.9768\n",
      "=> saved best model\n",
      "Epoch [91/100]\n"
     ]
    },
    {
     "name": "stderr",
     "output_type": "stream",
     "text": [
      "100%|█████████████████████████████████████████| 188/188 [01:18<00:00,  2.40it/s, loss=0.175, iou=0.948, dice_coef=0.973]\n",
      "100%|███████████████████████████████████████████| 19/19 [00:02<00:00,  7.87it/s, loss=0.166, iou=0.955, dice_coef=0.977]\n"
     ]
    },
    {
     "name": "stdout",
     "output_type": "stream",
     "text": [
      "loss 0.1747 - iou 0.9483 - dice 0.9734 - val_loss 0.1662 - val_iou 0.9549 - val_dice 0.9769\n",
      "=> saved best model\n",
      "Epoch [92/100]\n"
     ]
    },
    {
     "name": "stderr",
     "output_type": "stream",
     "text": [
      "100%|█████████████████████████████████████████| 188/188 [01:18<00:00,  2.39it/s, loss=0.175, iou=0.948, dice_coef=0.973]\n",
      "100%|███████████████████████████████████████████| 19/19 [00:02<00:00,  7.60it/s, loss=0.164, iou=0.955, dice_coef=0.977]\n"
     ]
    },
    {
     "name": "stdout",
     "output_type": "stream",
     "text": [
      "loss 0.1747 - iou 0.9484 - dice 0.9735 - val_loss 0.1644 - val_iou 0.9554 - val_dice 0.9771\n",
      "=> saved best model\n",
      "Epoch [93/100]\n"
     ]
    },
    {
     "name": "stderr",
     "output_type": "stream",
     "text": [
      "100%|█████████████████████████████████████████| 188/188 [01:18<00:00,  2.38it/s, loss=0.172, iou=0.949, dice_coef=0.974]\n",
      "100%|███████████████████████████████████████████| 19/19 [00:02<00:00,  8.09it/s, loss=0.164, iou=0.956, dice_coef=0.977]\n"
     ]
    },
    {
     "name": "stdout",
     "output_type": "stream",
     "text": [
      "loss 0.1724 - iou 0.9494 - dice 0.9740 - val_loss 0.1641 - val_iou 0.9558 - val_dice 0.9774\n",
      "=> saved best model\n",
      "Epoch [94/100]\n"
     ]
    },
    {
     "name": "stderr",
     "output_type": "stream",
     "text": [
      "100%|█████████████████████████████████████████| 188/188 [01:18<00:00,  2.40it/s, loss=0.173, iou=0.949, dice_coef=0.974]\n",
      "100%|███████████████████████████████████████████| 19/19 [00:02<00:00,  7.68it/s, loss=0.164, iou=0.956, dice_coef=0.977]\n"
     ]
    },
    {
     "name": "stdout",
     "output_type": "stream",
     "text": [
      "loss 0.1726 - iou 0.9492 - dice 0.9739 - val_loss 0.1639 - val_iou 0.9558 - val_dice 0.9774\n",
      "Epoch [95/100]\n"
     ]
    },
    {
     "name": "stderr",
     "output_type": "stream",
     "text": [
      "100%|██████████████████████████████████████████| 188/188 [01:19<00:00,  2.37it/s, loss=0.173, iou=0.95, dice_coef=0.974]\n",
      "100%|███████████████████████████████████████████| 19/19 [00:02<00:00,  7.71it/s, loss=0.163, iou=0.956, dice_coef=0.977]\n"
     ]
    },
    {
     "name": "stdout",
     "output_type": "stream",
     "text": [
      "loss 0.1730 - iou 0.9496 - dice 0.9741 - val_loss 0.1633 - val_iou 0.9558 - val_dice 0.9774\n",
      "Epoch [96/100]\n"
     ]
    },
    {
     "name": "stderr",
     "output_type": "stream",
     "text": [
      "100%|██████████████████████████████████████████| 188/188 [01:18<00:00,  2.39it/s, loss=0.173, iou=0.95, dice_coef=0.974]\n",
      "100%|███████████████████████████████████████████| 19/19 [00:02<00:00,  7.74it/s, loss=0.164, iou=0.956, dice_coef=0.978]\n"
     ]
    },
    {
     "name": "stdout",
     "output_type": "stream",
     "text": [
      "loss 0.1730 - iou 0.9503 - dice 0.9745 - val_loss 0.1637 - val_iou 0.9561 - val_dice 0.9776\n",
      "=> saved best model\n",
      "Epoch [97/100]\n"
     ]
    },
    {
     "name": "stderr",
     "output_type": "stream",
     "text": [
      "100%|██████████████████████████████████████████| 188/188 [01:18<00:00,  2.39it/s, loss=0.173, iou=0.95, dice_coef=0.974]\n",
      "100%|███████████████████████████████████████████| 19/19 [00:02<00:00,  7.75it/s, loss=0.164, iou=0.956, dice_coef=0.978]\n"
     ]
    },
    {
     "name": "stdout",
     "output_type": "stream",
     "text": [
      "loss 0.1730 - iou 0.9502 - dice 0.9744 - val_loss 0.1640 - val_iou 0.9563 - val_dice 0.9776\n",
      "=> saved best model\n",
      "Epoch [98/100]\n"
     ]
    },
    {
     "name": "stderr",
     "output_type": "stream",
     "text": [
      "100%|██████████████████████████████████████████| 188/188 [01:18<00:00,  2.40it/s, loss=0.173, iou=0.95, dice_coef=0.974]\n",
      "100%|███████████████████████████████████████████| 19/19 [00:02<00:00,  7.88it/s, loss=0.163, iou=0.957, dice_coef=0.978]\n"
     ]
    },
    {
     "name": "stdout",
     "output_type": "stream",
     "text": [
      "loss 0.1725 - iou 0.9501 - dice 0.9744 - val_loss 0.1630 - val_iou 0.9569 - val_dice 0.9779\n",
      "=> saved best model\n",
      "Epoch [99/100]\n"
     ]
    },
    {
     "name": "stderr",
     "output_type": "stream",
     "text": [
      "100%|█████████████████████████████████████████| 188/188 [01:19<00:00,  2.35it/s, loss=0.173, iou=0.951, dice_coef=0.975]\n",
      "100%|███████████████████████████████████████████| 19/19 [00:02<00:00,  7.49it/s, loss=0.163, iou=0.957, dice_coef=0.978]"
     ]
    },
    {
     "name": "stdout",
     "output_type": "stream",
     "text": [
      "loss 0.1729 - iou 0.9511 - dice 0.9749 - val_loss 0.1634 - val_iou 0.9573 - val_dice 0.9782\n",
      "=> saved best model\n"
     ]
    },
    {
     "name": "stderr",
     "output_type": "stream",
     "text": [
      "\n"
     ]
    }
   ],
   "source": [
    "from src.train_val_test import train, evaluate\n",
    "from collections import OrderedDict\n",
    "\n",
    "log = OrderedDict([\n",
    "    ('epoch', []),\n",
    "    ('loss', []),\n",
    "    ('iou', []),\n",
    "    ('dice',[]),\n",
    "    ('val_loss', []),\n",
    "    ('val_iou', []),\n",
    "    ('val_dice',[])\n",
    "])\n",
    "\n",
    "best_dice = 0\n",
    "trigger = 0\n",
    "for epoch in range(config['epochs']):\n",
    "    print('Epoch [%d/%d]' % (epoch, config['epochs']))\n",
    "\n",
    "    # train for one epoch\n",
    "    train_log = train(config, model, train_iterator, criterion, optimizer, config['deep_supervision'], device)\n",
    "    # evaluate on validation set\n",
    "    val_log = evaluate(config, model, val_iterator, criterion, config['deep_supervision'], device)\n",
    "\n",
    "    print('loss %.4f - iou %.4f - dice %.4f - val_loss %.4f - val_iou %.4f - val_dice %.4f'\n",
    "          % (train_log['loss'], train_log['iou'], train_log['dice_coef'],val_log['loss'], val_log['iou'], val_log['dice_coef']))\n",
    "\n",
    "    log['epoch'].append(epoch)\n",
    "    log['loss'].append(train_log['loss'])\n",
    "    log['iou'].append(train_log['iou'])\n",
    "    log['dice'].append(train_log['dice_coef'])\n",
    "    log['val_loss'].append(val_log['loss'])\n",
    "    log['val_iou'].append(val_log['iou'])\n",
    "    log['val_dice'].append(val_log['dice_coef'])\n",
    "    \n",
    "    pd.DataFrame(log).to_csv('models/%s/log.csv' %\n",
    "                             config['name'], index=False)\n",
    "\n",
    "    trigger += 1\n",
    "\n",
    "    if val_log['dice_coef'] > best_dice:\n",
    "        torch.save(model.state_dict(), 'models/%s/model.pth' %\n",
    "                   config['name'])\n",
    "        best_dice = val_log['dice_coef']\n",
    "        print(\"=> saved best model\")\n",
    "        trigger = 0\n",
    "\n",
    "    # Reduce learning rate when validation metric stops improving\n",
    "    scheduler.step(val_log['loss'])\n",
    "\n",
    "    # early stopping\n",
    "    if config['early_stopping'] >= 0 and trigger >= config['early_stopping']:\n",
    "        print(\"=> early stopping\")\n",
    "        break\n",
    "\n",
    "    torch.cuda.empty_cache()"
   ]
  },
  {
   "cell_type": "code",
   "execution_count": 23,
   "id": "d80feb91-12ad-4640-a38a-4ced108bbc2d",
   "metadata": {},
   "outputs": [
    {
     "name": "stderr",
     "output_type": "stream",
     "text": [
      "100%|███████████████████████████████████████████| 25/25 [00:02<00:00,  9.57it/s, loss=0.257, iou=0.729, dice_coef=0.842]"
     ]
    },
    {
     "name": "stdout",
     "output_type": "stream",
     "text": [
      "test_loss 0.2569 - test_iou 0.7295 - test_dice 0.8424\n"
     ]
    },
    {
     "name": "stderr",
     "output_type": "stream",
     "text": [
      "\n"
     ]
    }
   ],
   "source": [
    "test_log = evaluate(config, model, test_iterator, criterion, config['deep_supervision'], device)\n",
    "\n",
    "print('test_loss %.4f - test_iou %.4f - test_dice %.4f'\n",
    "          % (test_log['loss'], test_log['iou'], test_log['dice_coef']))"
   ]
  },
  {
   "cell_type": "code",
   "execution_count": 45,
   "id": "12877654-5bd5-4c2d-b4f5-d7d6b1350bae",
   "metadata": {},
   "outputs": [
    {
     "data": {
      "image/png": "[encoded data removed]",
      "text/plain": [
       "<Figure size 1400x600 with 3 Axes>"
      ]
     },
     "metadata": {},
     "output_type": "display_data"
    }
   ],
   "source": [
    "import matplotlib.pyplot as plt\n",
    "import pandas as pd\n",
    "\n",
    "# Read the CSV file into a DataFrame\n",
    "df = pd.read_csv('models/DiceLoss_try/log.csv')\n",
    "\n",
    "# Test values for loss, IoU, and Dice coefficients\n",
    "test_loss = test_log['loss']  \n",
    "test_iou = test_log['iou']   \n",
    "test_dice = test_log['dice_coef'] \n",
    "\n",
    "# Create a figure and subplots\n",
    "fig, (ax1, ax2, ax3) = plt.subplots(1, 3, figsize=(14, 6))\n",
    "\n",
    "# Plot the loss features in the first subplot\n",
    "ax1.plot(df['epoch'], df['loss'], label='Training Loss')\n",
    "ax1.plot(df['epoch'], df['val_loss'], label='Validation Loss')\n",
    "ax1.axhline(y=test_loss, color='r', linestyle='--', label='Test Loss')\n",
    "ax1.annotate(f'{test_loss:.2f}', xy=(90, test_loss+0.005), color='r')\n",
    "ax1.set_title('Loss Metrics')\n",
    "ax1.set_xlabel('Epoch')\n",
    "ax1.set_ylabel('Loss')\n",
    "ax1.legend()\n",
    "\n",
    "# Plot the IoU and Dice metrics in the second subplot\n",
    "ax2.plot(df['epoch'], df['iou'], label='Training IoU')\n",
    "ax2.plot(df['epoch'], df['val_iou'], label='Validation IoU')\n",
    "ax2.axhline(y=test_iou, color='r', linestyle='--', label='Test IoU')\n",
    "ax2.annotate(f'{test_iou:.2f}', xy=(90, test_iou+0.005), color='r')\n",
    "ax2.set_title('IoU Metrics')\n",
    "ax2.set_xlabel('Epoch')\n",
    "ax2.set_ylabel('IoU')\n",
    "ax2.legend()\n",
    "\n",
    "# Plot the Dice metrics in the third subplot\n",
    "ax3.plot(df['epoch'], df['dice'], label='Training Dice')\n",
    "ax3.plot(df['epoch'], df['val_dice'], label='Validation Dice')\n",
    "ax3.axhline(y=test_dice, color='r', linestyle='--', label='Test Dice')\n",
    "ax3.annotate(f'{test_dice:.2f}', xy=(90, test_dice+0.005), color='r')\n",
    "ax3.set_title('Dice Metrics')\n",
    "ax3.set_xlabel('Epoch')\n",
    "ax3.set_ylabel('Dice')\n",
    "ax3.legend()\n",
    "\n",
    "# Adjust the spacing between subplots\n",
    "plt.tight_layout()\n",
    "\n",
    "# Display the plot\n",
    "plt.show()"
   ]
  },
  {
   "cell_type": "code",
   "execution_count": null,
   "id": "b1f23e13-3c36-469c-8e3e-88232c683f0e",
   "metadata": {},
   "outputs": [],
   "source": []
  },
  {
   "cell_type": "code",
   "execution_count": null,
   "id": "9e805e4e-d78f-4bc0-be2b-fd0dd7a0187c",
   "metadata": {},
   "outputs": [],
   "source": []
  },
  {
   "cell_type": "code",
   "execution_count": null,
   "id": "9b99ef2b-2d39-4cff-8441-2df0f72ef341",
   "metadata": {},
   "outputs": [],
   "source": []
  },
  {
   "cell_type": "code",
   "execution_count": null,
   "id": "e67800e5-f217-4d8b-8a7c-9800e83d0efc",
   "metadata": {},
   "outputs": [],
   "source": []
  },
  {
   "cell_type": "code",
   "execution_count": null,
   "id": "e407c7cf-11d9-4922-b8c5-991eb68f9779",
   "metadata": {},
   "outputs": [],
   "source": []
  },
  {
   "cell_type": "code",
   "execution_count": null,
   "id": "98cee265-15d5-4a16-a673-78c37fcd17e4",
   "metadata": {},
   "outputs": [],
   "source": []
  },
  {
   "cell_type": "code",
   "execution_count": null,
   "id": "78dc5e87-0f51-41e8-8af1-6289254e325a",
   "metadata": {},
   "outputs": [],
   "source": []
  },
  {
   "cell_type": "code",
   "execution_count": null,
   "id": "70f54ce7-73cf-4e44-bec7-7dff7ebc658a",
   "metadata": {},
   "outputs": [],
   "source": []
  },
  {
   "cell_type": "code",
   "execution_count": null,
   "id": "97ae5a15-573f-43f8-8d09-1fffd5f6d078",
   "metadata": {},
   "outputs": [],
   "source": []
  },
  {
   "cell_type": "code",
   "execution_count": null,
   "id": "eb430f3a-3e9c-453d-87a4-6cf63aa642f5",
   "metadata": {},
   "outputs": [],
   "source": []
  },
  {
   "cell_type": "code",
   "execution_count": null,
   "id": "4dfcf1b3-8f2d-41b5-ba6c-1e1e34967be8",
   "metadata": {},
   "outputs": [],
   "source": []
  },
  {
   "cell_type": "code",
   "execution_count": null,
   "id": "b62026f2-8544-46f7-9b35-1786589a0b43",
   "metadata": {},
   "outputs": [],
   "source": []
  },
  {
   "cell_type": "code",
   "execution_count": null,
   "id": "3dccf718-6cc5-4872-a8b7-14744e8c0e31",
   "metadata": {},
   "outputs": [],
   "source": []
  },
  {
   "cell_type": "code",
   "execution_count": null,
   "id": "b0811f68-a50d-41a9-b94f-6f47a1e20822",
   "metadata": {},
   "outputs": [],
   "source": []
  },
  {
   "cell_type": "code",
   "execution_count": null,
   "id": "951cc938-6815-48aa-9632-78eacc1ca996",
   "metadata": {},
   "outputs": [],
   "source": []
  },
  {
   "cell_type": "code",
   "execution_count": null,
   "id": "2b49b980-fadc-4731-b604-17d12e2c2a77",
   "metadata": {},
   "outputs": [],
   "source": []
  }
 ],
 "metadata": {
  "kernelspec": {
   "display_name": "Python 3 (ipykernel)",
   "language": "python",
   "name": "python3"
  },
  "language_info": {
   "codemirror_mode": {
    "name": "ipython",
    "version": 3
   },
   "file_extension": ".py",
   "mimetype": "text/x-python",
   "name": "python",
   "nbconvert_exporter": "python",
   "pygments_lexer": "ipython3",
   "version": "3.10.12"
  }
 },
 "nbformat": 4,
 "nbformat_minor": 5
}
